{
 "cells": [
  {
   "cell_type": "code",
   "execution_count": 1,
   "metadata": {},
   "outputs": [],
   "source": [
    "import csv\n",
    "import pandas as pd\n",
    "from matplotlib import pyplot as plt\n",
    "import seaborn as sns\n",
    "import numpy as np\n",
    "import datetime as dt\n",
    "import pandas_datareader.data as web\n",
    "import statsmodels.api as sm\n",
    "from statsmodels.tsa.stattools import grangercausalitytests\n",
    "\n",
    "%matplotlib inline"
   ]
  },
  {
   "cell_type": "code",
   "execution_count": 2,
   "metadata": {},
   "outputs": [
    {
     "data": {
      "text/html": [
       "<div>\n",
       "<style scoped>\n",
       "    .dataframe tbody tr th:only-of-type {\n",
       "        vertical-align: middle;\n",
       "    }\n",
       "\n",
       "    .dataframe tbody tr th {\n",
       "        vertical-align: top;\n",
       "    }\n",
       "\n",
       "    .dataframe thead th {\n",
       "        text-align: right;\n",
       "    }\n",
       "</style>\n",
       "<table border=\"1\" class=\"dataframe\">\n",
       "  <thead>\n",
       "    <tr style=\"text-align: right;\">\n",
       "      <th></th>\n",
       "      <th>ID</th>\n",
       "      <th>PostID</th>\n",
       "      <th>PostDate</th>\n",
       "      <th>CommentID</th>\n",
       "      <th>CommentDate</th>\n",
       "      <th>CommenterURL</th>\n",
       "      <th>CommentText</th>\n",
       "      <th>PositiveScore</th>\n",
       "      <th>NegativeScore</th>\n",
       "      <th>NeutralScore</th>\n",
       "      <th>SentimentScore</th>\n",
       "      <th>TokenQnt</th>\n",
       "      <th>PositiveScoreAvg</th>\n",
       "      <th>NegativeScoreAvg</th>\n",
       "      <th>NeutralScoreAvg</th>\n",
       "      <th>SentimentScoreAvg</th>\n",
       "    </tr>\n",
       "  </thead>\n",
       "  <tbody>\n",
       "    <tr>\n",
       "      <th>0</th>\n",
       "      <td>0</td>\n",
       "      <td>3.863623e+15</td>\n",
       "      <td>2021-05-21 04:02:00</td>\n",
       "      <td>3864171976984432</td>\n",
       "      <td>2021-05-20 00:00:00</td>\n",
       "      <td>shawn.wang.182?fref=nf&amp;rc=p&amp;refid=52&amp;__tn__=R</td>\n",
       "      <td>Once move, no more fancy financial jobs and do...</td>\n",
       "      <td>0.250</td>\n",
       "      <td>1.250</td>\n",
       "      <td>7.500</td>\n",
       "      <td>-1.000</td>\n",
       "      <td>9</td>\n",
       "      <td>0.027778</td>\n",
       "      <td>0.138889</td>\n",
       "      <td>0.833333</td>\n",
       "      <td>-0.111111</td>\n",
       "    </tr>\n",
       "    <tr>\n",
       "      <th>1</th>\n",
       "      <td>1</td>\n",
       "      <td>3.863623e+15</td>\n",
       "      <td>2021-05-21 04:02:00</td>\n",
       "      <td>3867806723287624</td>\n",
       "      <td>2021-05-22 00:00:00</td>\n",
       "      <td>winnie.ngo.984?fref=nf&amp;rc=p&amp;refid=52&amp;__tn__=R</td>\n",
       "      <td>What are you afraid of? Since you do not like ...</td>\n",
       "      <td>1.125</td>\n",
       "      <td>1.875</td>\n",
       "      <td>30.000</td>\n",
       "      <td>-0.750</td>\n",
       "      <td>33</td>\n",
       "      <td>0.034091</td>\n",
       "      <td>0.056818</td>\n",
       "      <td>0.909091</td>\n",
       "      <td>-0.022727</td>\n",
       "    </tr>\n",
       "    <tr>\n",
       "      <th>2</th>\n",
       "      <td>2</td>\n",
       "      <td>3.862680e+15</td>\n",
       "      <td>2021-05-20 19:40:00</td>\n",
       "      <td>3863764727025157</td>\n",
       "      <td>2021-05-20 00:00:00</td>\n",
       "      <td>sefanaia.m.kaumaitotoya?fref=nf&amp;rc=p&amp;refid=52...</td>\n",
       "      <td>So now it’s taxable. Why don’t you approve eve...</td>\n",
       "      <td>0.750</td>\n",
       "      <td>0.000</td>\n",
       "      <td>3.250</td>\n",
       "      <td>0.750</td>\n",
       "      <td>4</td>\n",
       "      <td>0.187500</td>\n",
       "      <td>0.000000</td>\n",
       "      <td>0.812500</td>\n",
       "      <td>0.187500</td>\n",
       "    </tr>\n",
       "    <tr>\n",
       "      <th>3</th>\n",
       "      <td>3</td>\n",
       "      <td>3.862680e+15</td>\n",
       "      <td>2021-05-20 19:40:00</td>\n",
       "      <td>3862704397131190</td>\n",
       "      <td>2021-05-20 00:00:00</td>\n",
       "      <td>mike.chevalier.90281?fref=nf&amp;rc=p&amp;refid=52&amp;__...</td>\n",
       "      <td>Good! It is becoming a legitimate asset class....</td>\n",
       "      <td>1.750</td>\n",
       "      <td>0.250</td>\n",
       "      <td>3.000</td>\n",
       "      <td>1.500</td>\n",
       "      <td>5</td>\n",
       "      <td>0.350000</td>\n",
       "      <td>0.050000</td>\n",
       "      <td>0.600000</td>\n",
       "      <td>0.300000</td>\n",
       "    </tr>\n",
       "    <tr>\n",
       "      <th>4</th>\n",
       "      <td>4</td>\n",
       "      <td>3.862680e+15</td>\n",
       "      <td>2021-05-20 19:40:00</td>\n",
       "      <td>3869349806466649</td>\n",
       "      <td>2021-05-22 00:00:00</td>\n",
       "      <td>jimbopresto?fref=nf&amp;rc=p&amp;refid=52&amp;__tn__=R</td>\n",
       "      <td>Sounds like my kids will have a couple differe...</td>\n",
       "      <td>0.625</td>\n",
       "      <td>0.000</td>\n",
       "      <td>3.375</td>\n",
       "      <td>0.625</td>\n",
       "      <td>4</td>\n",
       "      <td>0.156250</td>\n",
       "      <td>0.000000</td>\n",
       "      <td>0.843750</td>\n",
       "      <td>0.156250</td>\n",
       "    </tr>\n",
       "  </tbody>\n",
       "</table>\n",
       "</div>"
      ],
      "text/plain": [
       "   ID        PostID             PostDate         CommentID  \\\n",
       "0   0  3.863623e+15  2021-05-21 04:02:00  3864171976984432   \n",
       "1   1  3.863623e+15  2021-05-21 04:02:00  3867806723287624   \n",
       "2   2  3.862680e+15  2021-05-20 19:40:00  3863764727025157   \n",
       "3   3  3.862680e+15  2021-05-20 19:40:00  3862704397131190   \n",
       "4   4  3.862680e+15  2021-05-20 19:40:00  3869349806466649   \n",
       "\n",
       "           CommentDate                                       CommenterURL  \\\n",
       "0  2021-05-20 00:00:00      shawn.wang.182?fref=nf&rc=p&refid=52&__tn__=R   \n",
       "1  2021-05-22 00:00:00      winnie.ngo.984?fref=nf&rc=p&refid=52&__tn__=R   \n",
       "2  2021-05-20 00:00:00   sefanaia.m.kaumaitotoya?fref=nf&rc=p&refid=52...   \n",
       "3  2021-05-20 00:00:00   mike.chevalier.90281?fref=nf&rc=p&refid=52&__...   \n",
       "4  2021-05-22 00:00:00         jimbopresto?fref=nf&rc=p&refid=52&__tn__=R   \n",
       "\n",
       "                                         CommentText  PositiveScore  \\\n",
       "0  Once move, no more fancy financial jobs and do...          0.250   \n",
       "1  What are you afraid of? Since you do not like ...          1.125   \n",
       "2  So now it’s taxable. Why don’t you approve eve...          0.750   \n",
       "3  Good! It is becoming a legitimate asset class....          1.750   \n",
       "4  Sounds like my kids will have a couple differe...          0.625   \n",
       "\n",
       "   NegativeScore  NeutralScore  SentimentScore  TokenQnt  PositiveScoreAvg  \\\n",
       "0          1.250         7.500          -1.000         9          0.027778   \n",
       "1          1.875        30.000          -0.750        33          0.034091   \n",
       "2          0.000         3.250           0.750         4          0.187500   \n",
       "3          0.250         3.000           1.500         5          0.350000   \n",
       "4          0.000         3.375           0.625         4          0.156250   \n",
       "\n",
       "   NegativeScoreAvg  NeutralScoreAvg  SentimentScoreAvg  \n",
       "0          0.138889         0.833333          -0.111111  \n",
       "1          0.056818         0.909091          -0.022727  \n",
       "2          0.000000         0.812500           0.187500  \n",
       "3          0.050000         0.600000           0.300000  \n",
       "4          0.000000         0.843750           0.156250  "
      ]
     },
     "execution_count": 2,
     "metadata": {},
     "output_type": "execute_result"
    }
   ],
   "source": [
    "fpath = 'facebook_data_bloombergmarkets_comments_sentiment.tsv'\n",
    "post_data = pd.read_csv(fpath, sep='\\t')\n",
    "post_data.head()"
   ]
  },
  {
   "cell_type": "code",
   "execution_count": 3,
   "metadata": {},
   "outputs": [
    {
     "data": {
      "text/plain": [
       "Text(0, 0.5, 'Posts')"
      ]
     },
     "execution_count": 3,
     "metadata": {},
     "output_type": "execute_result"
    },
    {
     "data": {
      "image/png": "[encoded data removed]",
      "text/plain": [
       "<Figure size 432x288 with 1 Axes>"
      ]
     },
     "metadata": {
      "needs_background": "light"
     },
     "output_type": "display_data"
    }
   ],
   "source": [
    "plt.hist(post_data['SentimentScoreAvg'], color = 'blue', edgecolor = 'black',\n",
    "         bins = int(180/5))\n",
    "\n",
    "# seaborn histogram\n",
    "sns.distplot(post_data['SentimentScoreAvg'], hist=False, kde=True, \n",
    "             bins=int(180/5), color = 'blue',\n",
    "             hist_kws={'edgecolor':'black'})\n",
    "# Add labels\n",
    "plt.title('Histogram of Sentiment Score')\n",
    "plt.xlabel('Score')\n",
    "plt.ylabel('Posts')"
   ]
  },
  {
   "cell_type": "code",
   "execution_count": 4,
   "metadata": {},
   "outputs": [
    {
     "data": {
      "text/plain": [
       "Text(0, 0.5, 'Posts')"
      ]
     },
     "execution_count": 4,
     "metadata": {},
     "output_type": "execute_result"
    },
    {
     "data": {
      "image/png": "[encoded data removed]",
      "text/plain": [
       "<Figure size 432x288 with 1 Axes>"
      ]
     },
     "metadata": {
      "needs_background": "light"
     },
     "output_type": "display_data"
    }
   ],
   "source": [
    "\n",
    "\n",
    "# seaborn histogram\n",
    "sns.distplot((post_data['SentimentScoreAvg'] - post_data['SentimentScoreAvg'].mean())/post_data['SentimentScoreAvg'].std(), hist=False, kde=True, \n",
    "             bins=int(180/5), color = 'blue',\n",
    "             hist_kws={'edgecolor':'black'})\n",
    "# Add labels\n",
    "plt.title('Histogram of Sentiment Score')\n",
    "plt.xlabel('Score')\n",
    "plt.ylabel('Posts')"
   ]
  },
  {
   "cell_type": "code",
   "execution_count": 12,
   "metadata": {},
   "outputs": [
    {
     "data": {
      "text/plain": [
       "count    53675.000000\n",
       "mean         0.027316\n",
       "std          0.152161\n",
       "min         -1.000000\n",
       "25%          0.000000\n",
       "50%          0.000000\n",
       "75%          0.062500\n",
       "max          1.000000\n",
       "Name: SentimentScoreAvg, dtype: float64"
      ]
     },
     "execution_count": 12,
     "metadata": {},
     "output_type": "execute_result"
    }
   ],
   "source": [
    "post_data['SentimentScoreAvg'].describe()"
   ]
  },
  {
   "cell_type": "code",
   "execution_count": 13,
   "metadata": {
    "scrolled": true
   },
   "outputs": [],
   "source": [
    "post_data['PostDate'] = pd.to_datetime(post_data['PostDate'], errors='coerce')\n",
    "\n",
    "post_data['DateMonth'] = post_data['PostDate'].dt.strftime('%Y-%m')"
   ]
  },
  {
   "cell_type": "code",
   "execution_count": 14,
   "metadata": {},
   "outputs": [
    {
     "data": {
      "text/plain": [
       "0   2021-05-21 04:02:00\n",
       "1   2021-05-21 04:02:00\n",
       "2   2021-05-20 19:40:00\n",
       "3   2021-05-20 19:40:00\n",
       "4   2021-05-20 19:40:00\n",
       "Name: PostDate, dtype: datetime64[ns]"
      ]
     },
     "execution_count": 14,
     "metadata": {},
     "output_type": "execute_result"
    }
   ],
   "source": [
    "post_data['PostDate'].head()"
   ]
  },
  {
   "cell_type": "code",
   "execution_count": 15,
   "metadata": {},
   "outputs": [
    {
     "data": {
      "text/plain": [
       "0    2021-05\n",
       "1    2021-05\n",
       "2    2021-05\n",
       "3    2021-05\n",
       "4    2021-05\n",
       "Name: DateMonth, dtype: object"
      ]
     },
     "execution_count": 15,
     "metadata": {},
     "output_type": "execute_result"
    }
   ],
   "source": [
    "post_data['DateMonth'].head()"
   ]
  },
  {
   "cell_type": "code",
   "execution_count": 16,
   "metadata": {},
   "outputs": [],
   "source": [
    "Monthly_Data = post_data.groupby('DateMonth').agg({'SentimentScore': 'sum','TokenQnt':'sum','PostID':'count'})"
   ]
  },
  {
   "cell_type": "code",
   "execution_count": 17,
   "metadata": {},
   "outputs": [
    {
     "data": {
      "text/html": [
       "<div>\n",
       "<style scoped>\n",
       "    .dataframe tbody tr th:only-of-type {\n",
       "        vertical-align: middle;\n",
       "    }\n",
       "\n",
       "    .dataframe tbody tr th {\n",
       "        vertical-align: top;\n",
       "    }\n",
       "\n",
       "    .dataframe thead th {\n",
       "        text-align: right;\n",
       "    }\n",
       "</style>\n",
       "<table border=\"1\" class=\"dataframe\">\n",
       "  <thead>\n",
       "    <tr style=\"text-align: right;\">\n",
       "      <th></th>\n",
       "      <th>SentimentScore</th>\n",
       "      <th>TokenQnt</th>\n",
       "      <th>PostID</th>\n",
       "      <th>SentimentScoreAvg</th>\n",
       "    </tr>\n",
       "    <tr>\n",
       "      <th>DateMonth</th>\n",
       "      <th></th>\n",
       "      <th></th>\n",
       "      <th></th>\n",
       "      <th></th>\n",
       "    </tr>\n",
       "  </thead>\n",
       "  <tbody>\n",
       "    <tr>\n",
       "      <th>2011-06</th>\n",
       "      <td>0.000</td>\n",
       "      <td>9</td>\n",
       "      <td>1</td>\n",
       "      <td>0.000000</td>\n",
       "    </tr>\n",
       "    <tr>\n",
       "      <th>2011-07</th>\n",
       "      <td>0.500</td>\n",
       "      <td>24</td>\n",
       "      <td>2</td>\n",
       "      <td>0.020833</td>\n",
       "    </tr>\n",
       "    <tr>\n",
       "      <th>2011-08</th>\n",
       "      <td>1.250</td>\n",
       "      <td>55</td>\n",
       "      <td>7</td>\n",
       "      <td>0.022727</td>\n",
       "    </tr>\n",
       "    <tr>\n",
       "      <th>2011-09</th>\n",
       "      <td>-0.250</td>\n",
       "      <td>19</td>\n",
       "      <td>5</td>\n",
       "      <td>-0.013158</td>\n",
       "    </tr>\n",
       "    <tr>\n",
       "      <th>2011-10</th>\n",
       "      <td>1.625</td>\n",
       "      <td>77</td>\n",
       "      <td>10</td>\n",
       "      <td>0.021104</td>\n",
       "    </tr>\n",
       "  </tbody>\n",
       "</table>\n",
       "</div>"
      ],
      "text/plain": [
       "           SentimentScore  TokenQnt  PostID  SentimentScoreAvg\n",
       "DateMonth                                                     \n",
       "2011-06             0.000         9       1           0.000000\n",
       "2011-07             0.500        24       2           0.020833\n",
       "2011-08             1.250        55       7           0.022727\n",
       "2011-09            -0.250        19       5          -0.013158\n",
       "2011-10             1.625        77      10           0.021104"
      ]
     },
     "execution_count": 17,
     "metadata": {},
     "output_type": "execute_result"
    }
   ],
   "source": [
    "Monthly_Data[\"SentimentScoreAvg\"] = Monthly_Data['SentimentScore']/Monthly_Data['TokenQnt']\n",
    "Monthly_Data.head()"
   ]
  },
  {
   "cell_type": "markdown",
   "metadata": {},
   "source": [
    "## Download S&P from Yahoo"
   ]
  },
  {
   "cell_type": "code",
   "execution_count": 7,
   "metadata": {},
   "outputs": [],
   "source": [
    "SnP_monthly = web.get_data_yahoo('BTC-USD','06/01/2014','05/01/2021',interval='m')"
   ]
  },
  {
   "cell_type": "code",
   "execution_count": 8,
   "metadata": {},
   "outputs": [
    {
     "data": {
      "text/html": [
       "<div>\n",
       "<style scoped>\n",
       "    .dataframe tbody tr th:only-of-type {\n",
       "        vertical-align: middle;\n",
       "    }\n",
       "\n",
       "    .dataframe tbody tr th {\n",
       "        vertical-align: top;\n",
       "    }\n",
       "\n",
       "    .dataframe thead th {\n",
       "        text-align: right;\n",
       "    }\n",
       "</style>\n",
       "<table border=\"1\" class=\"dataframe\">\n",
       "  <thead>\n",
       "    <tr style=\"text-align: right;\">\n",
       "      <th></th>\n",
       "      <th>High</th>\n",
       "      <th>Low</th>\n",
       "      <th>Open</th>\n",
       "      <th>Close</th>\n",
       "      <th>Volume</th>\n",
       "      <th>Adj Close</th>\n",
       "    </tr>\n",
       "    <tr>\n",
       "      <th>Date</th>\n",
       "      <th></th>\n",
       "      <th></th>\n",
       "      <th></th>\n",
       "      <th></th>\n",
       "      <th></th>\n",
       "      <th></th>\n",
       "    </tr>\n",
       "  </thead>\n",
       "  <tbody>\n",
       "    <tr>\n",
       "      <th>2014-09-30</th>\n",
       "      <td>411.697998</td>\n",
       "      <td>289.295990</td>\n",
       "      <td>387.427002</td>\n",
       "      <td>338.321014</td>\n",
       "      <td>902994450</td>\n",
       "      <td>338.321014</td>\n",
       "    </tr>\n",
       "    <tr>\n",
       "      <th>2014-11-01</th>\n",
       "      <td>457.092987</td>\n",
       "      <td>320.626007</td>\n",
       "      <td>338.649994</td>\n",
       "      <td>378.046997</td>\n",
       "      <td>659733360</td>\n",
       "      <td>378.046997</td>\n",
       "    </tr>\n",
       "    <tr>\n",
       "      <th>2014-12-01</th>\n",
       "      <td>384.037994</td>\n",
       "      <td>304.231995</td>\n",
       "      <td>378.248993</td>\n",
       "      <td>320.192993</td>\n",
       "      <td>553102310</td>\n",
       "      <td>320.192993</td>\n",
       "    </tr>\n",
       "    <tr>\n",
       "      <th>2015-01-01</th>\n",
       "      <td>320.434998</td>\n",
       "      <td>171.509995</td>\n",
       "      <td>320.434998</td>\n",
       "      <td>217.464005</td>\n",
       "      <td>1098811912</td>\n",
       "      <td>217.464005</td>\n",
       "    </tr>\n",
       "    <tr>\n",
       "      <th>2015-02-01</th>\n",
       "      <td>265.610992</td>\n",
       "      <td>212.014999</td>\n",
       "      <td>216.867004</td>\n",
       "      <td>254.263000</td>\n",
       "      <td>711518700</td>\n",
       "      <td>254.263000</td>\n",
       "    </tr>\n",
       "  </tbody>\n",
       "</table>\n",
       "</div>"
      ],
      "text/plain": [
       "                  High         Low        Open       Close      Volume  \\\n",
       "Date                                                                     \n",
       "2014-09-30  411.697998  289.295990  387.427002  338.321014   902994450   \n",
       "2014-11-01  457.092987  320.626007  338.649994  378.046997   659733360   \n",
       "2014-12-01  384.037994  304.231995  378.248993  320.192993   553102310   \n",
       "2015-01-01  320.434998  171.509995  320.434998  217.464005  1098811912   \n",
       "2015-02-01  265.610992  212.014999  216.867004  254.263000   711518700   \n",
       "\n",
       "             Adj Close  \n",
       "Date                    \n",
       "2014-09-30  338.321014  \n",
       "2014-11-01  378.046997  \n",
       "2014-12-01  320.192993  \n",
       "2015-01-01  217.464005  \n",
       "2015-02-01  254.263000  "
      ]
     },
     "execution_count": 8,
     "metadata": {},
     "output_type": "execute_result"
    }
   ],
   "source": [
    "SnP_monthly.head()"
   ]
  },
  {
   "cell_type": "code",
   "execution_count": 9,
   "metadata": {},
   "outputs": [],
   "source": [
    "SnP_monthly.index = SnP_monthly.index + pd.DateOffset(months=1)\n",
    "SnP_monthly.index = SnP_monthly.index.strftime('%Y-%m')"
   ]
  },
  {
   "cell_type": "code",
   "execution_count": 10,
   "metadata": {},
   "outputs": [],
   "source": [
    "SnP_monthly['LogReturn'] = np.log(SnP_monthly['Adj Close']/SnP_monthly['Adj Close'].shift(1))"
   ]
  },
  {
   "cell_type": "markdown",
   "metadata": {},
   "source": [
    "## Granger test"
   ]
  },
  {
   "cell_type": "code",
   "execution_count": 18,
   "metadata": {},
   "outputs": [],
   "source": [
    "Granger_data = pd.merge(SnP_monthly,Monthly_Data, how= 'inner', left_index=True, right_index=True)"
   ]
  },
  {
   "cell_type": "code",
   "execution_count": 19,
   "metadata": {},
   "outputs": [],
   "source": [
    "Granger_data['SS_LogReturn'] = np.log((Granger_data['SentimentScoreAvg']+1)/(Granger_data['SentimentScoreAvg']+1).shift(1))"
   ]
  },
  {
   "cell_type": "code",
   "execution_count": 20,
   "metadata": {},
   "outputs": [
    {
     "name": "stdout",
     "output_type": "stream",
     "text": [
      "\n",
      "Granger Causality\n",
      "number of lags (no zero) 1\n",
      "ssr based F test:         F=0.1681  , p=0.6829  , df_denom=75, df_num=1\n",
      "ssr based chi2 test:   chi2=0.1749  , p=0.6758  , df=1\n",
      "likelihood ratio test: chi2=0.1747  , p=0.6760  , df=1\n",
      "parameter F test:         F=0.1681  , p=0.6829  , df_denom=75, df_num=1\n",
      "\n",
      "Granger Causality\n",
      "number of lags (no zero) 2\n",
      "ssr based F test:         F=1.3854  , p=0.2568  , df_denom=72, df_num=2\n",
      "ssr based chi2 test:   chi2=2.9631  , p=0.2273  , df=2\n",
      "likelihood ratio test: chi2=2.9075  , p=0.2337  , df=2\n",
      "parameter F test:         F=1.3854  , p=0.2568  , df_denom=72, df_num=2\n",
      "\n",
      "Granger Causality\n",
      "number of lags (no zero) 3\n",
      "ssr based F test:         F=0.2541  , p=0.8582  , df_denom=69, df_num=3\n",
      "ssr based chi2 test:   chi2=0.8396  , p=0.8400  , df=3\n",
      "likelihood ratio test: chi2=0.8350  , p=0.8411  , df=3\n",
      "parameter F test:         F=0.2541  , p=0.8582  , df_denom=69, df_num=3\n"
     ]
    }
   ],
   "source": [
    "gc_res = grangercausalitytests(Granger_data[[\"LogReturn\",\"SS_LogReturn\"]].dropna(),3)"
   ]
  },
  {
   "cell_type": "code",
   "execution_count": 21,
   "metadata": {},
   "outputs": [
    {
     "data": {
      "image/png": "[encoded data removed]",
      "text/plain": [
       "<Figure size 432x288 with 1 Axes>"
      ]
     },
     "metadata": {
      "needs_background": "light"
     },
     "output_type": "display_data"
    }
   ],
   "source": [
    "plt.plot(Granger_data[\"LogReturn\"], label = \"S&P\")\n",
    "plt.plot(Granger_data[\"SS_LogReturn\"], label = \"sentiment\")\n",
    "plt.show()"
   ]
  },
  {
   "cell_type": "code",
   "execution_count": 112,
   "metadata": {},
   "outputs": [
    {
     "data": {
      "image/png": "[encoded data removed]",
      "text/plain": [
       "<Figure size 432x288 with 1 Axes>"
      ]
     },
     "metadata": {
      "needs_background": "light"
     },
     "output_type": "display_data"
    }
   ],
   "source": [
    "plt.plot(Granger_data[\"SS_LogReturn\"], label = \"sentiment\")\n",
    "plt.show()"
   ]
  },
  {
   "cell_type": "code",
   "execution_count": 91,
   "metadata": {},
   "outputs": [],
   "source": [
    "from statsmodels.tsa import ar_model\n",
    "from statsmodels.tsa import stattools"
   ]
  },
  {
   "cell_type": "code",
   "execution_count": 92,
   "metadata": {},
   "outputs": [],
   "source": [
    "def grangerTest(exog, endog):\n",
    "    MAX_LAG = 30\n",
    "    ARaic = ar_model.AR(exog.tolist()).fit(maxlag=MAX_LAG, ic=\"aic\")\n",
    "    ARbic = ar_model.AR(exog.tolist()).fit(maxlag=MAX_LAG, ic=\"bic\")\n",
    "    # select the fewer number of parameters between both criteria.\n",
    "    numExog = len(ARaic.params) if len(ARaic.params) < len(ARbic.params) else len(ARbic.params)\n",
    "\n",
    "    print (\"Optimal number of lags for exog data is \" + str(numExog))\n",
    "\n",
    "    ARaic = ar_model.AR(endog.tolist()).fit(maxlag=MAX_LAG, ic=\"aic\")\n",
    "    ARbic = ar_model.AR(endog.tolist()).fit(maxlag=MAX_LAG, ic=\"bic\")\n",
    "    # select the fewer number of parameters between both criteria.\n",
    "    numEndog = len(ARaic.params) if len(ARaic.params) < len(ARbic.params) else len(ARbic.params)\n",
    "\n",
    "    print (\"Optimal number of lags for endog data is \" + str(numEndog))\n",
    "\n",
    "    # now that I know the optimal number of parameters, I can call the\n",
    "    # granger causality function of statsmodels.\n",
    "    data = pd.concat([endog, exog], axis=1)\n",
    "    \n",
    "    print (\"\\nGranger causality results of indep onto dep\")\n",
    "    results = stattools.grangercausalitytests(data.dropna(), maxlag=numEndog)\n",
    "\n",
    "    data = pd.concat([exog, endog], axis=1)\n",
    "    print (\"\\nGranger causality results of dep onto indep\")\n",
    "    results = stattools.grangercausalitytests(data.dropna(), maxlag=numExog)\n",
    "    regr = results[2][1]\n",
    "    print (regr[0].params)\n",
    "    print (regr[1].params)\n",
    "    print (regr[1].pvalues)"
   ]
  },
  {
   "cell_type": "code",
   "execution_count": 129,
   "metadata": {},
   "outputs": [
    {
     "name": "stderr",
     "output_type": "stream",
     "text": [
      "C:\\Users\\Windows\\anaconda3\\lib\\site-packages\\statsmodels\\tsa\\ar_model.py:691: FutureWarning: \n",
      "statsmodels.tsa.AR has been deprecated in favor of statsmodels.tsa.AutoReg and\n",
      "statsmodels.tsa.SARIMAX.\n",
      "\n",
      "AutoReg adds the ability to specify exogenous variables, include time trends,\n",
      "and add seasonal dummies. The AutoReg API differs from AR since the model is\n",
      "treated as immutable, and so the entire specification including the lag\n",
      "length must be specified when creating the model. This change is too\n",
      "substantial to incorporate into the existing AR api. The function\n",
      "ar_select_order performs lag length selection for AutoReg models.\n",
      "\n",
      "AutoReg only estimates parameters using conditional MLE (OLS). Use SARIMAX to\n",
      "estimate ARX and related models using full MLE via the Kalman Filter.\n",
      "\n",
      "To silence this warning and continue using AR until it is removed, use:\n",
      "\n",
      "import warnings\n",
      "warnings.filterwarnings('ignore', 'statsmodels.tsa.ar_model.AR', FutureWarning)\n",
      "\n",
      "  warnings.warn(AR_DEPRECATION_WARN, FutureWarning)\n"
     ]
    },
    {
     "name": "stdout",
     "output_type": "stream",
     "text": [
      "Optimal number of lags for exog data is 4\n",
      "Optimal number of lags for endog data is 2\n",
      "\n",
      "Granger causality results of indep onto dep\n",
      "\n",
      "Granger Causality\n",
      "number of lags (no zero) 1\n",
      "ssr based F test:         F=1.1938  , p=0.2779  , df_denom=78, df_num=1\n",
      "ssr based chi2 test:   chi2=1.2397  , p=0.2655  , df=1\n",
      "likelihood ratio test: chi2=1.2303  , p=0.2673  , df=1\n",
      "parameter F test:         F=1.1938  , p=0.2779  , df_denom=78, df_num=1\n",
      "\n",
      "Granger Causality\n",
      "number of lags (no zero) 2\n",
      "ssr based F test:         F=0.8891  , p=0.4153  , df_denom=75, df_num=2\n",
      "ssr based chi2 test:   chi2=1.8967  , p=0.3874  , df=2\n",
      "likelihood ratio test: chi2=1.8746  , p=0.3917  , df=2\n",
      "parameter F test:         F=0.8891  , p=0.4153  , df_denom=75, df_num=2\n",
      "\n",
      "Granger causality results of dep onto indep\n",
      "\n",
      "Granger Causality\n",
      "number of lags (no zero) 1\n",
      "ssr based F test:         F=0.0578  , p=0.8107  , df_denom=78, df_num=1\n",
      "ssr based chi2 test:   chi2=0.0600  , p=0.8065  , df=1\n",
      "likelihood ratio test: chi2=0.0600  , p=0.8066  , df=1\n",
      "parameter F test:         F=0.0578  , p=0.8107  , df_denom=78, df_num=1\n",
      "\n",
      "Granger Causality\n",
      "number of lags (no zero) 2\n",
      "ssr based F test:         F=0.0479  , p=0.9533  , df_denom=75, df_num=2\n",
      "ssr based chi2 test:   chi2=0.1021  , p=0.9502  , df=2\n",
      "likelihood ratio test: chi2=0.1021  , p=0.9503  , df=2\n",
      "parameter F test:         F=0.0479  , p=0.9533  , df_denom=75, df_num=2\n",
      "\n",
      "Granger Causality\n",
      "number of lags (no zero) 3\n",
      "ssr based F test:         F=0.1290  , p=0.9426  , df_denom=72, df_num=3\n",
      "ssr based chi2 test:   chi2=0.4246  , p=0.9351  , df=3\n",
      "likelihood ratio test: chi2=0.4235  , p=0.9354  , df=3\n",
      "parameter F test:         F=0.1290  , p=0.9426  , df_denom=72, df_num=3\n",
      "\n",
      "Granger Causality\n",
      "number of lags (no zero) 4\n",
      "ssr based F test:         F=0.1726  , p=0.9517  , df_denom=69, df_num=4\n",
      "ssr based chi2 test:   chi2=0.7805  , p=0.9410  , df=4\n",
      "likelihood ratio test: chi2=0.7766  , p=0.9416  , df=4\n",
      "parameter F test:         F=0.1726  , p=0.9517  , df_denom=69, df_num=4\n",
      "[-1.83934103e-01 -3.92787535e-01  2.86552003e-04]\n",
      "[-1.83022766e-01 -3.92294162e-01 -3.35052252e-03  8.28941792e-03\n",
      "  2.48679288e-04]\n",
      "[2.92777959e-02 3.98325624e-06 9.11840365e-01 7.83211239e-01\n",
      " 8.48203272e-01]\n"
     ]
    }
   ],
   "source": [
    "grangerTest(Granger_data[\"SS_LogReturn\"].dropna(),Granger_data[\"LogReturn\"].dropna())"
   ]
  },
  {
   "cell_type": "code",
   "execution_count": null,
   "metadata": {},
   "outputs": [],
   "source": []
  }
 ],
 "metadata": {
  "kernelspec": {
   "display_name": "Python 3",
   "language": "python",
   "name": "python3"
  },
  "language_info": {
   "codemirror_mode": {
    "name": "ipython",
    "version": 3
   },
   "file_extension": ".py",
   "mimetype": "text/x-python",
   "name": "python",
   "nbconvert_exporter": "python",
   "pygments_lexer": "ipython3",
   "version": "3.7.6"
  }
 },
 "nbformat": 4,
 "nbformat_minor": 5
}
