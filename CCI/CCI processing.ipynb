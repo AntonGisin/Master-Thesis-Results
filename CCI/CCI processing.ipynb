{
 "cells": [
  {
   "cell_type": "code",
   "execution_count": 80,
   "metadata": {},
   "outputs": [],
   "source": [
    "import csv\n",
    "import pandas as pd\n",
    "from matplotlib import pyplot as plt\n",
    "import seaborn as sns\n",
    "import numpy as np\n",
    "import datetime as dt\n",
    "import pandas_datareader.data as web\n",
    "import statsmodels.api as sm\n",
    "from statsmodels.tsa.stattools import grangercausalitytests\n",
    "from statsmodels.tsa.stattools import adfuller\n",
    "from matplotlib import pyplot\n",
    "import scipy.stats\n",
    "from statsmodels.tsa.ar_model import AR\n",
    "%matplotlib inline\n",
    "import tabulate\n",
    "import latextable\n",
    "import python_to_latex as p2l\n",
    "import matplotlib.pyplot as plt\n",
    "import matplotlib.ticker as ticker\n",
    "\n",
    "from IPython.display import display, Markdown"
   ]
  },
  {
   "cell_type": "code",
   "execution_count": 8,
   "metadata": {},
   "outputs": [
    {
     "data": {
      "text/html": [
       "<div>\n",
       "<style scoped>\n",
       "    .dataframe tbody tr th:only-of-type {\n",
       "        vertical-align: middle;\n",
       "    }\n",
       "\n",
       "    .dataframe tbody tr th {\n",
       "        vertical-align: top;\n",
       "    }\n",
       "\n",
       "    .dataframe thead th {\n",
       "        text-align: right;\n",
       "    }\n",
       "</style>\n",
       "<table border=\"1\" class=\"dataframe\">\n",
       "  <thead>\n",
       "    <tr style=\"text-align: right;\">\n",
       "      <th></th>\n",
       "      <th>LOCATION</th>\n",
       "      <th>INDICATOR</th>\n",
       "      <th>SUBJECT</th>\n",
       "      <th>MEASURE</th>\n",
       "      <th>FREQUENCY</th>\n",
       "      <th>TIME</th>\n",
       "      <th>Value</th>\n",
       "      <th>Flag Codes</th>\n",
       "    </tr>\n",
       "  </thead>\n",
       "  <tbody>\n",
       "    <tr>\n",
       "      <th>0</th>\n",
       "      <td>USA</td>\n",
       "      <td>CCI</td>\n",
       "      <td>AMPLITUD</td>\n",
       "      <td>LTRENDIDX</td>\n",
       "      <td>M</td>\n",
       "      <td>1995-12</td>\n",
       "      <td>100.3772</td>\n",
       "      <td>NaN</td>\n",
       "    </tr>\n",
       "    <tr>\n",
       "      <th>1</th>\n",
       "      <td>USA</td>\n",
       "      <td>CCI</td>\n",
       "      <td>AMPLITUD</td>\n",
       "      <td>LTRENDIDX</td>\n",
       "      <td>M</td>\n",
       "      <td>1996-01</td>\n",
       "      <td>100.3960</td>\n",
       "      <td>NaN</td>\n",
       "    </tr>\n",
       "    <tr>\n",
       "      <th>2</th>\n",
       "      <td>USA</td>\n",
       "      <td>CCI</td>\n",
       "      <td>AMPLITUD</td>\n",
       "      <td>LTRENDIDX</td>\n",
       "      <td>M</td>\n",
       "      <td>1996-02</td>\n",
       "      <td>100.4778</td>\n",
       "      <td>NaN</td>\n",
       "    </tr>\n",
       "    <tr>\n",
       "      <th>3</th>\n",
       "      <td>USA</td>\n",
       "      <td>CCI</td>\n",
       "      <td>AMPLITUD</td>\n",
       "      <td>LTRENDIDX</td>\n",
       "      <td>M</td>\n",
       "      <td>1996-03</td>\n",
       "      <td>100.6446</td>\n",
       "      <td>NaN</td>\n",
       "    </tr>\n",
       "    <tr>\n",
       "      <th>4</th>\n",
       "      <td>USA</td>\n",
       "      <td>CCI</td>\n",
       "      <td>AMPLITUD</td>\n",
       "      <td>LTRENDIDX</td>\n",
       "      <td>M</td>\n",
       "      <td>1996-04</td>\n",
       "      <td>100.6775</td>\n",
       "      <td>NaN</td>\n",
       "    </tr>\n",
       "  </tbody>\n",
       "</table>\n",
       "</div>"
      ],
      "text/plain": [
       "  LOCATION INDICATOR   SUBJECT    MEASURE FREQUENCY     TIME     Value  \\\n",
       "0      USA       CCI  AMPLITUD  LTRENDIDX         M  1995-12  100.3772   \n",
       "1      USA       CCI  AMPLITUD  LTRENDIDX         M  1996-01  100.3960   \n",
       "2      USA       CCI  AMPLITUD  LTRENDIDX         M  1996-02  100.4778   \n",
       "3      USA       CCI  AMPLITUD  LTRENDIDX         M  1996-03  100.6446   \n",
       "4      USA       CCI  AMPLITUD  LTRENDIDX         M  1996-04  100.6775   \n",
       "\n",
       "   Flag Codes  \n",
       "0         NaN  \n",
       "1         NaN  \n",
       "2         NaN  \n",
       "3         NaN  \n",
       "4         NaN  "
      ]
     },
     "execution_count": 8,
     "metadata": {},
     "output_type": "execute_result"
    }
   ],
   "source": [
    "fpath = 'OECD_CCI.csv'\n",
    "CCI = pd.read_csv(fpath)\n",
    "CCI.head()"
   ]
  },
  {
   "cell_type": "code",
   "execution_count": 9,
   "metadata": {},
   "outputs": [
    {
     "data": {
      "text/plain": [
       "array(['USA'], dtype=object)"
      ]
     },
     "execution_count": 9,
     "metadata": {},
     "output_type": "execute_result"
    }
   ],
   "source": [
    "pd.unique(CCI[\"LOCATION\"])"
   ]
  },
  {
   "cell_type": "code",
   "execution_count": 10,
   "metadata": {},
   "outputs": [],
   "source": [
    "CCI =CCI[CCI['LOCATION'] == 'USA']"
   ]
  },
  {
   "cell_type": "code",
   "execution_count": null,
   "metadata": {},
   "outputs": [],
   "source": []
  },
  {
   "cell_type": "code",
   "execution_count": 11,
   "metadata": {},
   "outputs": [
    {
     "data": {
      "text/plain": [
       "count    306.000000\n",
       "mean     100.181919\n",
       "std        1.684245\n",
       "min       96.163920\n",
       "25%       99.007355\n",
       "50%      100.512250\n",
       "75%      101.357700\n",
       "max      103.145700\n",
       "Name: Value, dtype: float64"
      ]
     },
     "execution_count": 11,
     "metadata": {},
     "output_type": "execute_result"
    }
   ],
   "source": [
    "CCI['Value'].describe()"
   ]
  },
  {
   "cell_type": "code",
   "execution_count": 12,
   "metadata": {},
   "outputs": [
    {
     "data": {
      "text/html": [
       "<div>\n",
       "<style scoped>\n",
       "    .dataframe tbody tr th:only-of-type {\n",
       "        vertical-align: middle;\n",
       "    }\n",
       "\n",
       "    .dataframe tbody tr th {\n",
       "        vertical-align: top;\n",
       "    }\n",
       "\n",
       "    .dataframe thead th {\n",
       "        text-align: right;\n",
       "    }\n",
       "</style>\n",
       "<table border=\"1\" class=\"dataframe\">\n",
       "  <thead>\n",
       "    <tr style=\"text-align: right;\">\n",
       "      <th></th>\n",
       "      <th>LOCATION</th>\n",
       "      <th>INDICATOR</th>\n",
       "      <th>SUBJECT</th>\n",
       "      <th>MEASURE</th>\n",
       "      <th>FREQUENCY</th>\n",
       "      <th>TIME</th>\n",
       "      <th>Value</th>\n",
       "      <th>Flag Codes</th>\n",
       "    </tr>\n",
       "    <tr>\n",
       "      <th>TIME</th>\n",
       "      <th></th>\n",
       "      <th></th>\n",
       "      <th></th>\n",
       "      <th></th>\n",
       "      <th></th>\n",
       "      <th></th>\n",
       "      <th></th>\n",
       "      <th></th>\n",
       "    </tr>\n",
       "  </thead>\n",
       "  <tbody>\n",
       "    <tr>\n",
       "      <th>1995-12</th>\n",
       "      <td>USA</td>\n",
       "      <td>CCI</td>\n",
       "      <td>AMPLITUD</td>\n",
       "      <td>LTRENDIDX</td>\n",
       "      <td>M</td>\n",
       "      <td>1995-12</td>\n",
       "      <td>100.3772</td>\n",
       "      <td>NaN</td>\n",
       "    </tr>\n",
       "    <tr>\n",
       "      <th>1996-01</th>\n",
       "      <td>USA</td>\n",
       "      <td>CCI</td>\n",
       "      <td>AMPLITUD</td>\n",
       "      <td>LTRENDIDX</td>\n",
       "      <td>M</td>\n",
       "      <td>1996-01</td>\n",
       "      <td>100.3960</td>\n",
       "      <td>NaN</td>\n",
       "    </tr>\n",
       "    <tr>\n",
       "      <th>1996-02</th>\n",
       "      <td>USA</td>\n",
       "      <td>CCI</td>\n",
       "      <td>AMPLITUD</td>\n",
       "      <td>LTRENDIDX</td>\n",
       "      <td>M</td>\n",
       "      <td>1996-02</td>\n",
       "      <td>100.4778</td>\n",
       "      <td>NaN</td>\n",
       "    </tr>\n",
       "    <tr>\n",
       "      <th>1996-03</th>\n",
       "      <td>USA</td>\n",
       "      <td>CCI</td>\n",
       "      <td>AMPLITUD</td>\n",
       "      <td>LTRENDIDX</td>\n",
       "      <td>M</td>\n",
       "      <td>1996-03</td>\n",
       "      <td>100.6446</td>\n",
       "      <td>NaN</td>\n",
       "    </tr>\n",
       "    <tr>\n",
       "      <th>1996-04</th>\n",
       "      <td>USA</td>\n",
       "      <td>CCI</td>\n",
       "      <td>AMPLITUD</td>\n",
       "      <td>LTRENDIDX</td>\n",
       "      <td>M</td>\n",
       "      <td>1996-04</td>\n",
       "      <td>100.6775</td>\n",
       "      <td>NaN</td>\n",
       "    </tr>\n",
       "  </tbody>\n",
       "</table>\n",
       "</div>"
      ],
      "text/plain": [
       "        LOCATION INDICATOR   SUBJECT    MEASURE FREQUENCY     TIME     Value  \\\n",
       "TIME                                                                           \n",
       "1995-12      USA       CCI  AMPLITUD  LTRENDIDX         M  1995-12  100.3772   \n",
       "1996-01      USA       CCI  AMPLITUD  LTRENDIDX         M  1996-01  100.3960   \n",
       "1996-02      USA       CCI  AMPLITUD  LTRENDIDX         M  1996-02  100.4778   \n",
       "1996-03      USA       CCI  AMPLITUD  LTRENDIDX         M  1996-03  100.6446   \n",
       "1996-04      USA       CCI  AMPLITUD  LTRENDIDX         M  1996-04  100.6775   \n",
       "\n",
       "         Flag Codes  \n",
       "TIME                 \n",
       "1995-12         NaN  \n",
       "1996-01         NaN  \n",
       "1996-02         NaN  \n",
       "1996-03         NaN  \n",
       "1996-04         NaN  "
      ]
     },
     "execution_count": 12,
     "metadata": {},
     "output_type": "execute_result"
    }
   ],
   "source": [
    "CCI.index = CCI['TIME']\n",
    "CCI.head()"
   ]
  },
  {
   "cell_type": "code",
   "execution_count": 13,
   "metadata": {},
   "outputs": [
    {
     "name": "stdout",
     "output_type": "stream",
     "text": [
      "Results of Dickey-Fuller Test:\n",
      "Test Statistic                  -1.742929\n",
      "p-value                          0.409141\n",
      "#Lags Used                       4.000000\n",
      "Number of Observations Used    301.000000\n",
      "Critical Value (1%)             -3.452263\n",
      "Critical Value (5%)             -2.871191\n",
      "Critical Value (10%)            -2.571912\n",
      "dtype: float64\n"
     ]
    }
   ],
   "source": [
    "print('Results of Dickey-Fuller Test:')\n",
    "dftest = adfuller(CCI['Value'], autolag='AIC')\n",
    "dfoutput = pd.Series(dftest[0:4], index=['Test Statistic','p-value','#Lags Used','Number of Observations Used'])\n",
    "for key,value in dftest[4].items():\n",
    "    dfoutput['Critical Value (%s)'%key] = value\n",
    "print(dfoutput)"
   ]
  },
  {
   "cell_type": "code",
   "execution_count": 14,
   "metadata": {},
   "outputs": [
    {
     "data": {
      "text/html": [
       "<div>\n",
       "<style scoped>\n",
       "    .dataframe tbody tr th:only-of-type {\n",
       "        vertical-align: middle;\n",
       "    }\n",
       "\n",
       "    .dataframe tbody tr th {\n",
       "        vertical-align: top;\n",
       "    }\n",
       "\n",
       "    .dataframe thead th {\n",
       "        text-align: right;\n",
       "    }\n",
       "</style>\n",
       "<table border=\"1\" class=\"dataframe\">\n",
       "  <thead>\n",
       "    <tr style=\"text-align: right;\">\n",
       "      <th></th>\n",
       "      <th>LOCATION</th>\n",
       "      <th>INDICATOR</th>\n",
       "      <th>SUBJECT</th>\n",
       "      <th>MEASURE</th>\n",
       "      <th>FREQUENCY</th>\n",
       "      <th>TIME</th>\n",
       "      <th>Value</th>\n",
       "      <th>Flag Codes</th>\n",
       "      <th>DeltaCCI</th>\n",
       "    </tr>\n",
       "    <tr>\n",
       "      <th>TIME</th>\n",
       "      <th></th>\n",
       "      <th></th>\n",
       "      <th></th>\n",
       "      <th></th>\n",
       "      <th></th>\n",
       "      <th></th>\n",
       "      <th></th>\n",
       "      <th></th>\n",
       "      <th></th>\n",
       "    </tr>\n",
       "  </thead>\n",
       "  <tbody>\n",
       "    <tr>\n",
       "      <th>1995-12</th>\n",
       "      <td>USA</td>\n",
       "      <td>CCI</td>\n",
       "      <td>AMPLITUD</td>\n",
       "      <td>LTRENDIDX</td>\n",
       "      <td>M</td>\n",
       "      <td>1995-12</td>\n",
       "      <td>100.3772</td>\n",
       "      <td>NaN</td>\n",
       "      <td>NaN</td>\n",
       "    </tr>\n",
       "    <tr>\n",
       "      <th>1996-01</th>\n",
       "      <td>USA</td>\n",
       "      <td>CCI</td>\n",
       "      <td>AMPLITUD</td>\n",
       "      <td>LTRENDIDX</td>\n",
       "      <td>M</td>\n",
       "      <td>1996-01</td>\n",
       "      <td>100.3960</td>\n",
       "      <td>NaN</td>\n",
       "      <td>0.0188</td>\n",
       "    </tr>\n",
       "    <tr>\n",
       "      <th>1996-02</th>\n",
       "      <td>USA</td>\n",
       "      <td>CCI</td>\n",
       "      <td>AMPLITUD</td>\n",
       "      <td>LTRENDIDX</td>\n",
       "      <td>M</td>\n",
       "      <td>1996-02</td>\n",
       "      <td>100.4778</td>\n",
       "      <td>NaN</td>\n",
       "      <td>0.0818</td>\n",
       "    </tr>\n",
       "    <tr>\n",
       "      <th>1996-03</th>\n",
       "      <td>USA</td>\n",
       "      <td>CCI</td>\n",
       "      <td>AMPLITUD</td>\n",
       "      <td>LTRENDIDX</td>\n",
       "      <td>M</td>\n",
       "      <td>1996-03</td>\n",
       "      <td>100.6446</td>\n",
       "      <td>NaN</td>\n",
       "      <td>0.1668</td>\n",
       "    </tr>\n",
       "    <tr>\n",
       "      <th>1996-04</th>\n",
       "      <td>USA</td>\n",
       "      <td>CCI</td>\n",
       "      <td>AMPLITUD</td>\n",
       "      <td>LTRENDIDX</td>\n",
       "      <td>M</td>\n",
       "      <td>1996-04</td>\n",
       "      <td>100.6775</td>\n",
       "      <td>NaN</td>\n",
       "      <td>0.0329</td>\n",
       "    </tr>\n",
       "  </tbody>\n",
       "</table>\n",
       "</div>"
      ],
      "text/plain": [
       "        LOCATION INDICATOR   SUBJECT    MEASURE FREQUENCY     TIME     Value  \\\n",
       "TIME                                                                           \n",
       "1995-12      USA       CCI  AMPLITUD  LTRENDIDX         M  1995-12  100.3772   \n",
       "1996-01      USA       CCI  AMPLITUD  LTRENDIDX         M  1996-01  100.3960   \n",
       "1996-02      USA       CCI  AMPLITUD  LTRENDIDX         M  1996-02  100.4778   \n",
       "1996-03      USA       CCI  AMPLITUD  LTRENDIDX         M  1996-03  100.6446   \n",
       "1996-04      USA       CCI  AMPLITUD  LTRENDIDX         M  1996-04  100.6775   \n",
       "\n",
       "         Flag Codes  DeltaCCI  \n",
       "TIME                           \n",
       "1995-12         NaN       NaN  \n",
       "1996-01         NaN    0.0188  \n",
       "1996-02         NaN    0.0818  \n",
       "1996-03         NaN    0.1668  \n",
       "1996-04         NaN    0.0329  "
      ]
     },
     "execution_count": 14,
     "metadata": {},
     "output_type": "execute_result"
    }
   ],
   "source": [
    "CCI['DeltaCCI'] = CCI['Value'] -CCI['Value'].shift(1)\n",
    "CCI.head()"
   ]
  },
  {
   "cell_type": "code",
   "execution_count": 15,
   "metadata": {},
   "outputs": [
    {
     "name": "stdout",
     "output_type": "stream",
     "text": [
      "Results of Dickey-Fuller Test:\n",
      "Test Statistic                -8.441753e+00\n",
      "p-value                        1.755572e-13\n",
      "#Lags Used                     3.000000e+00\n",
      "Number of Observations Used    3.010000e+02\n",
      "Critical Value (1%)           -3.452263e+00\n",
      "Critical Value (5%)           -2.871191e+00\n",
      "Critical Value (10%)          -2.571912e+00\n",
      "dtype: float64\n"
     ]
    }
   ],
   "source": [
    "print('Results of Dickey-Fuller Test:')\n",
    "dftest = adfuller(CCI['DeltaCCI'].dropna(), autolag='AIC')\n",
    "dfoutput = pd.Series(dftest[0:4], index=['Test Statistic','p-value','#Lags Used','Number of Observations Used'])\n",
    "for key,value in dftest[4].items():\n",
    "    dfoutput['Critical Value (%s)'%key] = value\n",
    "print(dfoutput)"
   ]
  },
  {
   "cell_type": "code",
   "execution_count": 16,
   "metadata": {},
   "outputs": [],
   "source": [
    "SnP_monthly = web.get_data_yahoo('^GSPC','01/01/2000','05/01/2021',interval='m')\n",
    "SnP_monthly.index = SnP_monthly.index.strftime('%Y-%m')\n",
    "SnP_monthly['LogReturn'] = np.log(SnP_monthly['Adj Close']/SnP_monthly['Adj Close'].shift(1))\n"
   ]
  },
  {
   "cell_type": "code",
   "execution_count": 126,
   "metadata": {},
   "outputs": [
    {
     "name": "stdout",
     "output_type": "stream",
     "text": [
      "Results of Dickey-Fuller Test:\n",
      "Test Statistic                -1.472115e+01\n",
      "p-value                        2.750678e-27\n",
      "#Lags Used                     0.000000e+00\n",
      "Number of Observations Used    2.550000e+02\n",
      "Critical Value (1%)           -3.456257e+00\n",
      "Critical Value (5%)           -2.872942e+00\n",
      "Critical Value (10%)          -2.572846e+00\n",
      "dtype: float64\n"
     ]
    }
   ],
   "source": [
    "print('Results of Dickey-Fuller Test:')\n",
    "dftest = adfuller(SnP_monthly['LogReturn'].dropna(), autolag='AIC')\n",
    "dfoutput = pd.Series(dftest[0:4], index=['Test Statistic','p-value','#Lags Used','Number of Observations Used'])\n",
    "for key,value in dftest[4].items():\n",
    "    dfoutput['Critical Value (%s)'%key] = value\n",
    "print(dfoutput)"
   ]
  },
  {
   "cell_type": "code",
   "execution_count": 18,
   "metadata": {},
   "outputs": [],
   "source": [
    "Granger_data_monthly = pd.merge(SnP_monthly,CCI, how= 'inner', left_index=True, right_index=True)"
   ]
  },
  {
   "cell_type": "code",
   "execution_count": 47,
   "metadata": {},
   "outputs": [],
   "source": [
    "Granger_data_monthly['Log Close Price'] = np.log(Granger_data_monthly['Adj Close'])"
   ]
  },
  {
   "cell_type": "code",
   "execution_count": 48,
   "metadata": {
    "scrolled": true
   },
   "outputs": [
    {
     "name": "stdout",
     "output_type": "stream",
     "text": [
      "\\begin{tabular}{lrr}\n",
      "\\toprule\n",
      "{} &       Value &  Log Close Price \\\\\n",
      "\\midrule\n",
      "count &  257.000000 &       257.000000 \\\\\n",
      "mean  &   99.833271 &         7.356374 \\\\\n",
      "std   &    1.583125 &         0.395418 \\\\\n",
      "min   &   96.163920 &         6.599993 \\\\\n",
      "25\\%   &   98.658580 &         7.061643 \\\\\n",
      "50\\%   &  100.145800 &         7.244677 \\\\\n",
      "75\\%   &  101.022000 &         7.642769 \\\\\n",
      "max   &  103.145700 &         8.343818 \\\\\n",
      "\\bottomrule\n",
      "\\end{tabular}\n",
      "\n"
     ]
    }
   ],
   "source": [
    "desc = Granger_data_monthly[['Value', 'Log Close Price']].describe()\n",
    "print(desc.to_latex())"
   ]
  },
  {
   "cell_type": "code",
   "execution_count": 72,
   "metadata": {},
   "outputs": [
    {
     "data": {
      "image/png": "[encoded data removed]",
      "text/plain": [
       "<Figure size 648x432 with 1 Axes>"
      ]
     },
     "metadata": {
      "needs_background": "light"
     },
     "output_type": "display_data"
    }
   ],
   "source": [
    "fig, ax = plt.subplots()\n",
    "\n",
    "ax.plot(Granger_data_monthly['Log Close Price'], color = 'b', linewidth = 1, label = 'ln(S&P500)')\n",
    "ax.legend()\n",
    "#  Устанавливаем интервал основных делений:\n",
    "ax.xaxis.set_major_locator(ticker.MultipleLocator(30))\n",
    "#  Устанавливаем интервал вспомогательных делений:\n",
    "ax.xaxis.set_minor_locator(ticker.MultipleLocator(5))\n",
    "\n",
    "#  Тоже самое проделываем с делениями на оси \"y\":\n",
    "#ax.yaxis.set_major_locator(ticker.MultipleLocator(0.5))\n",
    "#ax.yaxis.set_minor_locator(ticker.MultipleLocator(0.25))\n",
    "\n",
    "\n",
    "fig.set_figwidth(9)\n",
    "fig.set_figheight(6)\n",
    "fig.savefig('lnSnPmnth.pdf')"
   ]
  },
  {
   "cell_type": "code",
   "execution_count": 121,
   "metadata": {},
   "outputs": [
    {
     "data": {
      "image/png": "[encoded data removed]",
      "text/plain": [
       "<Figure size 648x432 with 1 Axes>"
      ]
     },
     "metadata": {
      "needs_background": "light"
     },
     "output_type": "display_data"
    }
   ],
   "source": [
    "fig, ax = plt.subplots()\n",
    "\n",
    "ax.plot(Granger_data_monthly['LogReturn'].dropna(), color = 'b', linewidth = 1, label = 'Log Returns S&P 500')\n",
    "ax.legend()\n",
    "\n",
    "ax.xaxis.set_major_locator(ticker.MultipleLocator(30))\n",
    "\n",
    "ax.xaxis.set_minor_locator(ticker.MultipleLocator(5))\n",
    "\n",
    "\n",
    "\n",
    "\n",
    "fig.set_figwidth(9)\n",
    "fig.set_figheight(6)\n",
    "fig.savefig('logReturnsMnth.pdf')"
   ]
  },
  {
   "cell_type": "code",
   "execution_count": 125,
   "metadata": {},
   "outputs": [
    {
     "data": {
      "image/png": "[encoded data removed]",
      "text/plain": [
       "<Figure size 648x432 with 1 Axes>"
      ]
     },
     "metadata": {
      "needs_background": "light"
     },
     "output_type": "display_data"
    }
   ],
   "source": [
    "fig, ax = plt.subplots()\n",
    "\n",
    "ax.plot(Granger_data_monthly['DeltaCCI'].dropna(), color = 'r', linewidth = 1, label = 'Δ Consumer Confidence Index')\n",
    "ax.legend()\n",
    "\n",
    "ax.xaxis.set_major_locator(ticker.MultipleLocator(30))\n",
    "\n",
    "ax.xaxis.set_minor_locator(ticker.MultipleLocator(5))\n",
    "\n",
    "\n",
    "fig.set_figwidth(9)\n",
    "fig.set_figheight(6)\n",
    "fig.savefig('DeltaCCI.pdf')"
   ]
  },
  {
   "cell_type": "code",
   "execution_count": null,
   "metadata": {},
   "outputs": [],
   "source": [
    "fig, ax = plt.subplots()\n",
    "\n",
    "ax.plot(Granger_data_monthly['Value'].dropna(), color = 'r', linewidth = 1, label = 'Consumer Confidence Index')\n",
    "ax.legend()\n",
    "#  Устанавливаем интервал основных делений:\n",
    "ax.xaxis.set_major_locator(ticker.MultipleLocator(30))\n",
    "#  Устанавливаем интервал вспомогательных делений:\n",
    "ax.xaxis.set_minor_locator(ticker.MultipleLocator(5))\n",
    "\n",
    "#  Тоже самое проделываем с делениями на оси \"y\":\n",
    "#ax.yaxis.set_major_locator(ticker.MultipleLocator(0.5))\n",
    "#ax.yaxis.set_minor_locator(ticker.MultipleLocator(0.25))\n",
    "\n",
    "\n",
    "fig.set_figwidth(9)\n",
    "fig.set_figheight(6)\n",
    "fig.savefig('CCI.pdf')"
   ]
  },
  {
   "cell_type": "code",
   "execution_count": 112,
   "metadata": {},
   "outputs": [
    {
     "name": "stdout",
     "output_type": "stream",
     "text": [
      "Results of Dickey-Fuller Test:\n",
      "\\begin{tabular}{lr}\n",
      "\\toprule\n",
      "{} &         0 \\\\\n",
      "\\midrule\n",
      "Test Statistic              &  -14.7211 \\\\\n",
      "p-value                     &    0.0000 \\\\\n",
      "\\#Lags Used                  &    0.0000 \\\\\n",
      "Number of Observations Used &  255.0000 \\\\\n",
      "Critical Value (1\\%)         &   -3.4563 \\\\\n",
      "Critical Value (5\\%)         &   -2.8729 \\\\\n",
      "Critical Value (10\\%)        &   -2.5728 \\\\\n",
      "\\bottomrule\n",
      "\\end{tabular}\n",
      "\n"
     ]
    }
   ],
   "source": [
    "print('Results of Dickey-Fuller Test:')\n",
    "dftest = adfuller(Granger_data_monthly['LogReturn'].dropna(), autolag='AIC')\n",
    "dfoutput = pd.Series(dftest[0:4], index=['Test Statistic','p-value','#Lags Used','Number of Observations Used'])\n",
    "for key,value in dftest[4].items():\n",
    "    dfoutput['Critical Value (%s)'%key] = value\n",
    "for i in range(len(dfoutput)):\n",
    "    dfoutput[i] = round(dfoutput[i],4)\n",
    "print(dfoutput.to_latex())"
   ]
  },
  {
   "cell_type": "code",
   "execution_count": 114,
   "metadata": {},
   "outputs": [
    {
     "name": "stdout",
     "output_type": "stream",
     "text": [
      "Results of Dickey-Fuller Test:\n",
      "Test Statistic                  -13.5468\n",
      "p-value                           0.0000\n",
      "#Lags Used                       33.0000\n",
      "Number of Observations Used    5331.0000\n",
      "Critical Value (1%)              -3.4316\n",
      "Critical Value (5%)              -2.8621\n",
      "Critical Value (10%)             -2.5671\n",
      "dtype: float64\n"
     ]
    }
   ],
   "source": [
    "SnP_daily = web.get_data_yahoo('^GSPC','01/01/2000','05/01/2021',interval='d')\n",
    "print('Results of Dickey-Fuller Test:')\n",
    "dftest = adfuller(np.log(SnP_daily['Adj Close']/SnP_daily['Adj Close'].shift(1)).dropna(), autolag='AIC')\n",
    "dfoutput = pd.Series(dftest[0:4], index=['Test Statistic','p-value','#Lags Used','Number of Observations Used'])\n",
    "for key,value in dftest[4].items():\n",
    "    dfoutput['Critical Value (%s)'%key] = value\n",
    "for i in range(len(dfoutput)):\n",
    "    dfoutput[i] = round(dfoutput[i],4)\n",
    "print(dfoutput)"
   ]
  },
  {
   "cell_type": "code",
   "execution_count": 123,
   "metadata": {},
   "outputs": [
    {
     "name": "stdout",
     "output_type": "stream",
     "text": [
      "Results of Dickey-Fuller Test:\n",
      "\\begin{tabular}{lr}\n",
      "\\toprule\n",
      "{} &         0 \\\\\n",
      "\\midrule\n",
      "Test Statistic              &   -7.8268 \\\\\n",
      "p-value                     &    0.0000 \\\\\n",
      "\\#Lags Used                  &    3.0000 \\\\\n",
      "Number of Observations Used &  253.0000 \\\\\n",
      "Critical Value (1\\%)         &   -3.4565 \\\\\n",
      "Critical Value (5\\%)         &   -2.8730 \\\\\n",
      "Critical Value (10\\%)        &   -2.5729 \\\\\n",
      "\\bottomrule\n",
      "\\end{tabular}\n",
      "\n"
     ]
    }
   ],
   "source": [
    "print('Results of Dickey-Fuller Test:')\n",
    "dftest = adfuller(Granger_data_monthly['DeltaCCI'].dropna(), autolag='AIC')\n",
    "dfoutput = pd.Series(dftest[0:4], index=['Test Statistic','p-value','#Lags Used','Number of Observations Used'])\n",
    "for key,value in dftest[4].items():\n",
    "    dfoutput['Critical Value (%s)'%key] = value\n",
    "for i in range(len(dfoutput)):\n",
    "    dfoutput[i] = round(dfoutput[i],4)\n",
    "print(dfoutput.to_latex())\n"
   ]
  },
  {
   "cell_type": "code",
   "execution_count": 133,
   "metadata": {},
   "outputs": [
    {
     "name": "stdout",
     "output_type": "stream",
     "text": [
      "\\begin{tabular}{lrrrrrrrr}\n",
      "\\toprule\n",
      "{} &   count &      mean &       std &       min &       25\\% &       50\\% &       75\\% &       max \\\\\n",
      "\\midrule\n",
      "Adj Close &  5365.0 &  0.000197 &  0.012509 & -0.127652 & -0.004748 &  0.000598 &  0.005822 &  0.109572 \\\\\n",
      "\\bottomrule\n",
      "\\end{tabular}\n",
      "\n"
     ]
    }
   ],
   "source": [
    "print(pd.DataFrame(np.log(SnP_daily['Adj Close']/SnP_daily['Adj Close'].shift(1)).describe()).transpose().to_latex())"
   ]
  },
  {
   "cell_type": "code",
   "execution_count": null,
   "metadata": {},
   "outputs": [],
   "source": [
    "print(pd.DataFrame(Granger_data_monthly['LogReturn'].describe()).transpose().to_latex())"
   ]
  },
  {
   "cell_type": "code",
   "execution_count": 90,
   "metadata": {},
   "outputs": [
    {
     "name": "stdout",
     "output_type": "stream",
     "text": [
      "Optimal number of lags for exog data is 5\n",
      "Optimal number of lags for endog data is 2\n",
      "\n",
      "Granger causality results of indep onto dep\n",
      "\n",
      "Granger Causality\n",
      "number of lags (no zero) 1\n",
      "ssr based F test:         F=0.2807  , p=0.5968  , df_denom=187, df_num=1\n",
      "ssr based chi2 test:   chi2=0.2852  , p=0.5933  , df=1\n",
      "likelihood ratio test: chi2=0.2850  , p=0.5934  , df=1\n",
      "parameter F test:         F=0.2807  , p=0.5968  , df_denom=187, df_num=1\n",
      "\n",
      "Granger Causality\n",
      "number of lags (no zero) 2\n",
      "ssr based F test:         F=0.7382  , p=0.4794  , df_denom=184, df_num=2\n",
      "ssr based chi2 test:   chi2=1.5165  , p=0.4685  , df=2\n",
      "likelihood ratio test: chi2=1.5104  , p=0.4699  , df=2\n",
      "parameter F test:         F=0.7382  , p=0.4794  , df_denom=184, df_num=2\n",
      "\n",
      "Granger causality results of dep onto indep\n",
      "\n",
      "Granger Causality\n",
      "number of lags (no zero) 1\n",
      "ssr based F test:         F=13.2651 , p=0.0004  , df_denom=187, df_num=1\n",
      "ssr based chi2 test:   chi2=13.4779 , p=0.0002  , df=1\n",
      "likelihood ratio test: chi2=13.0214 , p=0.0003  , df=1\n",
      "parameter F test:         F=13.2651 , p=0.0004  , df_denom=187, df_num=1\n",
      "\n",
      "Granger Causality\n",
      "number of lags (no zero) 2\n",
      "ssr based F test:         F=5.5182  , p=0.0047  , df_denom=184, df_num=2\n",
      "ssr based chi2 test:   chi2=11.3364 , p=0.0035  , df=2\n",
      "likelihood ratio test: chi2=11.0094 , p=0.0041  , df=2\n",
      "parameter F test:         F=5.5182  , p=0.0047  , df_denom=184, df_num=2\n",
      "\n",
      "Granger Causality\n",
      "number of lags (no zero) 3\n",
      "ssr based F test:         F=3.4196  , p=0.0185  , df_denom=181, df_num=3\n",
      "ssr based chi2 test:   chi2=10.6555 , p=0.0137  , df=3\n",
      "likelihood ratio test: chi2=10.3645 , p=0.0157  , df=3\n",
      "parameter F test:         F=3.4196  , p=0.0185  , df_denom=181, df_num=3\n",
      "\n",
      "Granger Causality\n",
      "number of lags (no zero) 4\n",
      "ssr based F test:         F=2.4714  , p=0.0463  , df_denom=178, df_num=4\n",
      "ssr based chi2 test:   chi2=10.3855 , p=0.0344  , df=4\n",
      "likelihood ratio test: chi2=10.1074 , p=0.0387  , df=4\n",
      "parameter F test:         F=2.4714  , p=0.0463  , df_denom=178, df_num=4\n",
      "\n",
      "Granger Causality\n",
      "number of lags (no zero) 5\n",
      "ssr based F test:         F=3.3948  , p=0.0059  , df_denom=175, df_num=5\n",
      "ssr based chi2 test:   chi2=18.0409 , p=0.0029  , df=5\n",
      "likelihood ratio test: chi2=17.2187 , p=0.0041  , df=5\n",
      "parameter F test:         F=3.3948  , p=0.0059  , df_denom=175, df_num=5\n",
      "[ 1.24501117e+00 -6.94618380e-01 -7.29554538e-04]\n",
      "[ 1.22597341 -0.67455773  0.69947381 -0.36917787 -0.00289452]\n",
      "[8.68161967e-55 7.90275121e-28 3.27245128e-03 1.25767467e-01\n",
      " 7.73447859e-01]\n"
     ]
    },
    {
     "name": "stderr",
     "output_type": "stream",
     "text": [
      "C:\\Users\\Windows\\anaconda3\\lib\\site-packages\\statsmodels\\tsa\\ar_model.py:691: FutureWarning: \n",
      "statsmodels.tsa.AR has been deprecated in favor of statsmodels.tsa.AutoReg and\n",
      "statsmodels.tsa.SARIMAX.\n",
      "\n",
      "AutoReg adds the ability to specify exogenous variables, include time trends,\n",
      "and add seasonal dummies. The AutoReg API differs from AR since the model is\n",
      "treated as immutable, and so the entire specification including the lag\n",
      "length must be specified when creating the model. This change is too\n",
      "substantial to incorporate into the existing AR api. The function\n",
      "ar_select_order performs lag length selection for AutoReg models.\n",
      "\n",
      "AutoReg only estimates parameters using conditional MLE (OLS). Use SARIMAX to\n",
      "estimate ARX and related models using full MLE via the Kalman Filter.\n",
      "\n",
      "To silence this warning and continue using AR until it is removed, use:\n",
      "\n",
      "import warnings\n",
      "warnings.filterwarnings('ignore', 'statsmodels.tsa.ar_model.AR', FutureWarning)\n",
      "\n",
      "  warnings.warn(AR_DEPRECATION_WARN, FutureWarning)\n"
     ]
    }
   ],
   "source": [
    "def grangerTest(exog, endog):\n",
    "    MAX_LAG = 30\n",
    "    ARaic = AR(exog.tolist()).fit(maxlag=MAX_LAG, ic=\"aic\")\n",
    "    ARbic = AR(exog.tolist()).fit(maxlag=MAX_LAG, ic=\"bic\")\n",
    "    # select the fewer number of parameters between both criteria.\n",
    "    numExog = len(ARaic.params) if len(ARaic.params) < len(ARbic.params) else len(ARbic.params)\n",
    "\n",
    "    print (\"Optimal number of lags for exog data is \" + str(numExog))\n",
    "\n",
    "    ARaic = AR(endog.tolist()).fit(maxlag=MAX_LAG, ic=\"aic\")\n",
    "    ARbic = AR(endog.tolist()).fit(maxlag=MAX_LAG, ic=\"bic\")\n",
    "    # select the fewer number of parameters between both criteria.\n",
    "    numEndog = len(ARaic.params) if len(ARaic.params) < len(ARbic.params) else len(ARbic.params)\n",
    "\n",
    "    print (\"Optimal number of lags for endog data is \" + str(numEndog))\n",
    "\n",
    "    # now that I know the optimal number of parameters, I can call the\n",
    "    # granger causality function of statsmodels.\n",
    "    data = pd.concat([endog, exog], axis=1)\n",
    "    print (\"\\nGranger causality results of indep onto dep\")\n",
    "    results = grangercausalitytests(data, maxlag=numEndog)\n",
    "\n",
    "    data = pd.concat([exog, endog], axis=1)\n",
    "    print (\"\\nGranger causality results of dep onto indep\")\n",
    "    results = grangercausalitytests(data, maxlag=numExog)\n",
    "    regr = results[2][1]\n",
    "    print (regr[0].params)\n",
    "    print (regr[1].params)\n",
    "    print (regr[1].pvalues)\n",
    "    \n",
    "grangerTest(Granger_data_monthly['DeltaCCI'][2:], Granger_data_monthly['LogReturn'][2:])"
   ]
  },
  {
   "cell_type": "code",
   "execution_count": 80,
   "metadata": {},
   "outputs": [
    {
     "data": {
      "text/plain": [
       "<matplotlib.axes._subplots.AxesSubplot at 0x1a703b54dc8>"
      ]
     },
     "execution_count": 80,
     "metadata": {},
     "output_type": "execute_result"
    },
    {
     "data": {
      "image/png": "[encoded data removed]",
      "text/plain": [
       "<Figure size 1152x648 with 1 Axes>"
      ]
     },
     "metadata": {
      "needs_background": "light"
     },
     "output_type": "display_data"
    }
   ],
   "source": [
    "Granger_data_monthly['ValueStd'] = (Granger_data_monthly['Value'] - Granger_data_monthly['Value'].mean())/Granger_data_monthly['Value'].std()\n",
    "Granger_data_monthly['PriceStd'] = (Granger_data_monthly['Adj Close'] - Granger_data_monthly['Adj Close'].mean())/Granger_data_monthly['Adj Close'].std()\n",
    "\n",
    "Granger_data_monthly[['LogReturn','DeltaCCI']].plot(legend=True, figsize=(16,9))"
   ]
  },
  {
   "cell_type": "code",
   "execution_count": 81,
   "metadata": {},
   "outputs": [
    {
     "data": {
      "text/html": [
       "<style  type=\"text/css\" >\n",
       "    #T_201a2574_cc2b_11eb_9d93_4ccc6adc65cerow0_col0 {\n",
       "            background-color:  #b40426;\n",
       "            color:  #f1f1f1;\n",
       "        }    #T_201a2574_cc2b_11eb_9d93_4ccc6adc65cerow0_col1 {\n",
       "            background-color:  #3b4cc0;\n",
       "            color:  #f1f1f1;\n",
       "        }    #T_201a2574_cc2b_11eb_9d93_4ccc6adc65cerow1_col0 {\n",
       "            background-color:  #3b4cc0;\n",
       "            color:  #f1f1f1;\n",
       "        }    #T_201a2574_cc2b_11eb_9d93_4ccc6adc65cerow1_col1 {\n",
       "            background-color:  #b40426;\n",
       "            color:  #f1f1f1;\n",
       "        }</style><table id=\"T_201a2574_cc2b_11eb_9d93_4ccc6adc65ce\" ><thead>    <tr>        <th class=\"blank level0\" ></th>        <th class=\"col_heading level0 col0\" >LogReturn</th>        <th class=\"col_heading level0 col1\" >DeltaCCI</th>    </tr></thead><tbody>\n",
       "                <tr>\n",
       "                        <th id=\"T_201a2574_cc2b_11eb_9d93_4ccc6adc65celevel0_row0\" class=\"row_heading level0 row0\" >LogReturn</th>\n",
       "                        <td id=\"T_201a2574_cc2b_11eb_9d93_4ccc6adc65cerow0_col0\" class=\"data row0 col0\" >1.000000</td>\n",
       "                        <td id=\"T_201a2574_cc2b_11eb_9d93_4ccc6adc65cerow0_col1\" class=\"data row0 col1\" >0.215893</td>\n",
       "            </tr>\n",
       "            <tr>\n",
       "                        <th id=\"T_201a2574_cc2b_11eb_9d93_4ccc6adc65celevel0_row1\" class=\"row_heading level0 row1\" >DeltaCCI</th>\n",
       "                        <td id=\"T_201a2574_cc2b_11eb_9d93_4ccc6adc65cerow1_col0\" class=\"data row1 col0\" >0.215893</td>\n",
       "                        <td id=\"T_201a2574_cc2b_11eb_9d93_4ccc6adc65cerow1_col1\" class=\"data row1 col1\" >1.000000</td>\n",
       "            </tr>\n",
       "    </tbody></table>"
      ],
      "text/plain": [
       "<pandas.io.formats.style.Styler at 0x1a703b54788>"
      ]
     },
     "execution_count": 81,
     "metadata": {},
     "output_type": "execute_result"
    }
   ],
   "source": [
    "corr = Granger_data_monthly[['LogReturn', 'DeltaCCI']].corr()\n",
    "corr.style.background_gradient(cmap='coolwarm')"
   ]
  },
  {
   "cell_type": "code",
   "execution_count": 82,
   "metadata": {},
   "outputs": [
    {
     "data": {
      "text/html": [
       "<div>\n",
       "<style scoped>\n",
       "    .dataframe tbody tr th:only-of-type {\n",
       "        vertical-align: middle;\n",
       "    }\n",
       "\n",
       "    .dataframe tbody tr th {\n",
       "        vertical-align: top;\n",
       "    }\n",
       "\n",
       "    .dataframe thead th {\n",
       "        text-align: right;\n",
       "    }\n",
       "</style>\n",
       "<table border=\"1\" class=\"dataframe\">\n",
       "  <thead>\n",
       "    <tr style=\"text-align: right;\">\n",
       "      <th></th>\n",
       "      <th>p-value</th>\n",
       "    </tr>\n",
       "  </thead>\n",
       "  <tbody>\n",
       "    <tr>\n",
       "      <th>Value</th>\n",
       "      <td>0.002634</td>\n",
       "    </tr>\n",
       "  </tbody>\n",
       "</table>\n",
       "</div>"
      ],
      "text/plain": [
       "        p-value\n",
       "Value  0.002634"
      ]
     },
     "execution_count": 82,
     "metadata": {},
     "output_type": "execute_result"
    }
   ],
   "source": [
    "pvals = [] \n",
    "for col in ['DeltaCCI']:\n",
    "    pvals.append(scipy.stats.linregress(Granger_data_monthly[col][1:], Granger_data_monthly['LogReturn'][1:].dropna())[3])\n",
    "corr_signif = pd.DataFrame(pvals,columns = ['p-value']\n",
    "                           ,index = ['Value'])\n",
    "corr_signif"
   ]
  },
  {
   "cell_type": "code",
   "execution_count": 73,
   "metadata": {},
   "outputs": [
    {
     "data": {
      "text/html": [
       "<div>\n",
       "<style scoped>\n",
       "    .dataframe tbody tr th:only-of-type {\n",
       "        vertical-align: middle;\n",
       "    }\n",
       "\n",
       "    .dataframe tbody tr th {\n",
       "        vertical-align: top;\n",
       "    }\n",
       "\n",
       "    .dataframe thead th {\n",
       "        text-align: right;\n",
       "    }\n",
       "</style>\n",
       "<table border=\"1\" class=\"dataframe\">\n",
       "  <thead>\n",
       "    <tr style=\"text-align: right;\">\n",
       "      <th></th>\n",
       "      <th>High</th>\n",
       "      <th>Low</th>\n",
       "      <th>Open</th>\n",
       "      <th>Close</th>\n",
       "      <th>Volume</th>\n",
       "      <th>Adj Close</th>\n",
       "      <th>LogReturn</th>\n",
       "      <th>LOCATION</th>\n",
       "      <th>INDICATOR</th>\n",
       "      <th>SUBJECT</th>\n",
       "      <th>...</th>\n",
       "      <th>Value</th>\n",
       "      <th>Flag Codes</th>\n",
       "      <th>DeltaCCI</th>\n",
       "      <th>Log Close Price</th>\n",
       "      <th>Lag1_LogReturn</th>\n",
       "      <th>Lag2_LogReturn</th>\n",
       "      <th>Lag3_LogReturn</th>\n",
       "      <th>Lag1_DeltaCCI</th>\n",
       "      <th>Lag2_DeltaCCI</th>\n",
       "      <th>Lag3_DeltaCCI</th>\n",
       "    </tr>\n",
       "  </thead>\n",
       "  <tbody>\n",
       "    <tr>\n",
       "      <th>2000-01</th>\n",
       "      <td>1478.000000</td>\n",
       "      <td>1350.140015</td>\n",
       "      <td>1469.250000</td>\n",
       "      <td>1394.459961</td>\n",
       "      <td>21494400000</td>\n",
       "      <td>1394.459961</td>\n",
       "      <td>NaN</td>\n",
       "      <td>USA</td>\n",
       "      <td>CCI</td>\n",
       "      <td>AMPLITUD</td>\n",
       "      <td>...</td>\n",
       "      <td>103.0855</td>\n",
       "      <td>NaN</td>\n",
       "      <td>0.2628</td>\n",
       "      <td>7.240262</td>\n",
       "      <td>NaN</td>\n",
       "      <td>NaN</td>\n",
       "      <td>NaN</td>\n",
       "      <td>NaN</td>\n",
       "      <td>NaN</td>\n",
       "      <td>NaN</td>\n",
       "    </tr>\n",
       "    <tr>\n",
       "      <th>2000-02</th>\n",
       "      <td>1444.550049</td>\n",
       "      <td>1325.069946</td>\n",
       "      <td>1394.459961</td>\n",
       "      <td>1366.420044</td>\n",
       "      <td>20912000000</td>\n",
       "      <td>1366.420044</td>\n",
       "      <td>-0.020313</td>\n",
       "      <td>USA</td>\n",
       "      <td>CCI</td>\n",
       "      <td>AMPLITUD</td>\n",
       "      <td>...</td>\n",
       "      <td>103.1457</td>\n",
       "      <td>NaN</td>\n",
       "      <td>0.0602</td>\n",
       "      <td>7.219949</td>\n",
       "      <td>NaN</td>\n",
       "      <td>NaN</td>\n",
       "      <td>NaN</td>\n",
       "      <td>0.2628</td>\n",
       "      <td>NaN</td>\n",
       "      <td>NaN</td>\n",
       "    </tr>\n",
       "    <tr>\n",
       "      <th>2000-03</th>\n",
       "      <td>1552.869995</td>\n",
       "      <td>1346.619995</td>\n",
       "      <td>1366.420044</td>\n",
       "      <td>1498.579956</td>\n",
       "      <td>26156200000</td>\n",
       "      <td>1498.579956</td>\n",
       "      <td>0.092324</td>\n",
       "      <td>USA</td>\n",
       "      <td>CCI</td>\n",
       "      <td>AMPLITUD</td>\n",
       "      <td>...</td>\n",
       "      <td>103.0535</td>\n",
       "      <td>NaN</td>\n",
       "      <td>-0.0922</td>\n",
       "      <td>7.312273</td>\n",
       "      <td>-0.020313</td>\n",
       "      <td>NaN</td>\n",
       "      <td>NaN</td>\n",
       "      <td>0.0602</td>\n",
       "      <td>0.2628</td>\n",
       "      <td>NaN</td>\n",
       "    </tr>\n",
       "    <tr>\n",
       "      <th>2000-04</th>\n",
       "      <td>1527.189941</td>\n",
       "      <td>1339.400024</td>\n",
       "      <td>1498.579956</td>\n",
       "      <td>1452.430054</td>\n",
       "      <td>20106460000</td>\n",
       "      <td>1452.430054</td>\n",
       "      <td>-0.031280</td>\n",
       "      <td>USA</td>\n",
       "      <td>CCI</td>\n",
       "      <td>AMPLITUD</td>\n",
       "      <td>...</td>\n",
       "      <td>103.0324</td>\n",
       "      <td>NaN</td>\n",
       "      <td>-0.0211</td>\n",
       "      <td>7.280993</td>\n",
       "      <td>0.092324</td>\n",
       "      <td>-0.020313</td>\n",
       "      <td>NaN</td>\n",
       "      <td>-0.0922</td>\n",
       "      <td>0.0602</td>\n",
       "      <td>0.2628</td>\n",
       "    </tr>\n",
       "    <tr>\n",
       "      <th>2000-05</th>\n",
       "      <td>1481.510010</td>\n",
       "      <td>1361.089966</td>\n",
       "      <td>1452.430054</td>\n",
       "      <td>1420.599976</td>\n",
       "      <td>19898300000</td>\n",
       "      <td>1420.599976</td>\n",
       "      <td>-0.022159</td>\n",
       "      <td>USA</td>\n",
       "      <td>CCI</td>\n",
       "      <td>AMPLITUD</td>\n",
       "      <td>...</td>\n",
       "      <td>103.0036</td>\n",
       "      <td>NaN</td>\n",
       "      <td>-0.0288</td>\n",
       "      <td>7.258835</td>\n",
       "      <td>-0.031280</td>\n",
       "      <td>0.092324</td>\n",
       "      <td>-0.020313</td>\n",
       "      <td>-0.0211</td>\n",
       "      <td>-0.0922</td>\n",
       "      <td>0.0602</td>\n",
       "    </tr>\n",
       "  </tbody>\n",
       "</table>\n",
       "<p>5 rows × 23 columns</p>\n",
       "</div>"
      ],
      "text/plain": [
       "                High          Low         Open        Close       Volume  \\\n",
       "2000-01  1478.000000  1350.140015  1469.250000  1394.459961  21494400000   \n",
       "2000-02  1444.550049  1325.069946  1394.459961  1366.420044  20912000000   \n",
       "2000-03  1552.869995  1346.619995  1366.420044  1498.579956  26156200000   \n",
       "2000-04  1527.189941  1339.400024  1498.579956  1452.430054  20106460000   \n",
       "2000-05  1481.510010  1361.089966  1452.430054  1420.599976  19898300000   \n",
       "\n",
       "           Adj Close  LogReturn LOCATION INDICATOR   SUBJECT  ...     Value  \\\n",
       "2000-01  1394.459961        NaN      USA       CCI  AMPLITUD  ...  103.0855   \n",
       "2000-02  1366.420044  -0.020313      USA       CCI  AMPLITUD  ...  103.1457   \n",
       "2000-03  1498.579956   0.092324      USA       CCI  AMPLITUD  ...  103.0535   \n",
       "2000-04  1452.430054  -0.031280      USA       CCI  AMPLITUD  ...  103.0324   \n",
       "2000-05  1420.599976  -0.022159      USA       CCI  AMPLITUD  ...  103.0036   \n",
       "\n",
       "        Flag Codes DeltaCCI  Log Close Price  Lag1_LogReturn  Lag2_LogReturn  \\\n",
       "2000-01        NaN   0.2628         7.240262             NaN             NaN   \n",
       "2000-02        NaN   0.0602         7.219949             NaN             NaN   \n",
       "2000-03        NaN  -0.0922         7.312273       -0.020313             NaN   \n",
       "2000-04        NaN  -0.0211         7.280993        0.092324       -0.020313   \n",
       "2000-05        NaN  -0.0288         7.258835       -0.031280        0.092324   \n",
       "\n",
       "         Lag3_LogReturn  Lag1_DeltaCCI  Lag2_DeltaCCI  Lag3_DeltaCCI  \n",
       "2000-01             NaN            NaN            NaN            NaN  \n",
       "2000-02             NaN         0.2628            NaN            NaN  \n",
       "2000-03             NaN         0.0602         0.2628            NaN  \n",
       "2000-04             NaN        -0.0922         0.0602         0.2628  \n",
       "2000-05       -0.020313        -0.0211        -0.0922         0.0602  \n",
       "\n",
       "[5 rows x 23 columns]"
      ]
     },
     "execution_count": 73,
     "metadata": {},
     "output_type": "execute_result"
    }
   ],
   "source": [
    "Granger_data_monthly['Lag1_LogReturn'] = Granger_data_monthly['LogReturn'].shift(1)\n",
    "Granger_data_monthly['Lag2_LogReturn'] = Granger_data_monthly['LogReturn'].shift(2)\n",
    "Granger_data_monthly['Lag3_LogReturn'] = Granger_data_monthly['LogReturn'].shift(3)\n",
    "Granger_data_monthly['Lag1_DeltaCCI'] = Granger_data_monthly['DeltaCCI'].shift(1)\n",
    "Granger_data_monthly['Lag2_DeltaCCI'] = Granger_data_monthly['DeltaCCI'].shift(2)\n",
    "Granger_data_monthly['Lag3_DeltaCCI'] = Granger_data_monthly['DeltaCCI'].shift(3)\n",
    "Granger_data_monthly.head()"
   ]
  },
  {
   "cell_type": "code",
   "execution_count": 79,
   "metadata": {},
   "outputs": [
    {
     "name": "stdout",
     "output_type": "stream",
     "text": [
      "\\begin{center}\n",
      "\\begin{tabular}{lclc}\n",
      "\\toprule\n",
      "\\textbf{Dep. Variable:}    &     DeltaCCI     & \\textbf{  R-squared:         } &     0.781   \\\\\n",
      "\\textbf{Model:}            &       OLS        & \\textbf{  Adj. R-squared:    } &     0.776   \\\\\n",
      "\\textbf{Method:}           &  Least Squares   & \\textbf{  F-statistic:       } &     146.3   \\\\\n",
      "\\textbf{Date:}             & Mon, 21 Jun 2021 & \\textbf{  Prob (F-statistic):} &  3.42e-78   \\\\\n",
      "\\textbf{Time:}             &     01:56:57     & \\textbf{  Log-Likelihood:    } &    162.81   \\\\\n",
      "\\textbf{No. Observations:} &         253      & \\textbf{  AIC:               } &    -311.6   \\\\\n",
      "\\textbf{Df Residuals:}     &         246      & \\textbf{  BIC:               } &    -286.9   \\\\\n",
      "\\textbf{Df Model:}         &           6      & \\textbf{                     } &             \\\\\n",
      "\\bottomrule\n",
      "\\end{tabular}\n",
      "\\begin{tabular}{lcccccc}\n",
      "                         & \\textbf{coef} & \\textbf{std err} & \\textbf{t} & \\textbf{P$> |$t$|$} & \\textbf{[0.025} & \\textbf{0.975]}  \\\\\n",
      "\\midrule\n",
      "\\textbf{const}           &      -0.0062  &        0.008     &    -0.744  &         0.458        &       -0.023    &        0.010     \\\\\n",
      "\\textbf{Lag1\\_LogReturn} &       0.5646  &        0.198     &     2.850  &         0.005        &        0.174    &        0.955     \\\\\n",
      "\\textbf{Lag2\\_LogReturn} &      -0.4138  &        0.198     &    -2.086  &         0.038        &       -0.804    &       -0.023     \\\\\n",
      "\\textbf{Lag3\\_LogReturn} &       0.1269  &        0.200     &     0.634  &         0.527        &       -0.268    &        0.521     \\\\\n",
      "\\textbf{Lag1\\_DeltaCCI}  &       1.3900  &        0.065     &    21.442  &         0.000        &        1.262    &        1.518     \\\\\n",
      "\\textbf{Lag2\\_DeltaCCI}  &      -0.9811  &        0.090     &   -10.921  &         0.000        &       -1.158    &       -0.804     \\\\\n",
      "\\textbf{Lag3\\_DeltaCCI}  &       0.2496  &        0.061     &     4.097  &         0.000        &        0.130    &        0.370     \\\\\n",
      "\\bottomrule\n",
      "\\end{tabular}\n",
      "\\begin{tabular}{lclc}\n",
      "\\textbf{Omnibus:}       &  4.931 & \\textbf{  Durbin-Watson:     } &    1.946  \\\\\n",
      "\\textbf{Prob(Omnibus):} &  0.085 & \\textbf{  Jarque-Bera (JB):  } &    4.972  \\\\\n",
      "\\textbf{Skew:}          & -0.233 & \\textbf{  Prob(JB):          } &   0.0833  \\\\\n",
      "\\textbf{Kurtosis:}      &  3.505 & \\textbf{  Cond. No.          } &     25.7  \\\\\n",
      "\\bottomrule\n",
      "\\end{tabular}\n",
      "%\\caption{OLS Regression Results}\n",
      "\\end{center}\n",
      "\n",
      "Warnings: \\newline\n",
      " [1] Standard Errors assume that the covariance matrix of the errors is correctly specified.\n"
     ]
    }
   ],
   "source": [
    "from sklearn import linear_model\n",
    "import statsmodels.api as sm\n",
    "regr = linear_model.LinearRegression()\n",
    "\n",
    "X = Granger_data_monthly[['Lag1_LogReturn','Lag2_LogReturn','Lag3_LogReturn'\n",
    "                          ,'Lag1_DeltaCCI','Lag2_DeltaCCI','Lag3_DeltaCCI']][4:]\n",
    "Y = Granger_data_monthly['DeltaCCI'][4:]\n",
    "\n",
    "X = sm.add_constant(X) # adding a constant\n",
    " \n",
    "model = sm.OLS(Y, X).fit()\n",
    "predictions = model.predict(X) \n",
    " \n",
    "print_model = model.summary()\n",
    "print(print_model.as_latex())\n",
    "\n"
   ]
  },
  {
   "cell_type": "code",
   "execution_count": 57,
   "metadata": {},
   "outputs": [
    {
     "name": "stdout",
     "output_type": "stream",
     "text": [
      "[ 0.70745512 -0.29658616  0.00252062 -0.0014431 ]\n"
     ]
    }
   ],
   "source": [
    "print(regr.coef_)"
   ]
  },
  {
   "cell_type": "code",
   "execution_count": 96,
   "metadata": {},
   "outputs": [
    {
     "name": "stdout",
     "output_type": "stream",
     "text": [
      "\n",
      "Granger Causality\n",
      "number of lags (no zero) 1\n",
      "ssr based F test:         F=13.5497 , p=0.0003  , df_denom=188, df_num=1\n",
      "ssr based chi2 test:   chi2=13.7660 , p=0.0002  , df=1\n",
      "likelihood ratio test: chi2=13.2925 , p=0.0003  , df=1\n",
      "parameter F test:         F=13.5497 , p=0.0003  , df_denom=188, df_num=1\n",
      "\n",
      "Granger Causality\n",
      "number of lags (no zero) 2\n",
      "ssr based F test:         F=5.6705  , p=0.0041  , df_denom=185, df_num=2\n",
      "ssr based chi2 test:   chi2=11.6476 , p=0.0030  , df=2\n",
      "likelihood ratio test: chi2=11.3045 , p=0.0035  , df=2\n",
      "parameter F test:         F=5.6705  , p=0.0041  , df_denom=185, df_num=2\n"
     ]
    }
   ],
   "source": [
    "result = grangercausalitytests(Granger_data_monthly[['DeltaCCI','LogReturn']].dropna(),2)"
   ]
  },
  {
   "cell_type": "code",
   "execution_count": 97,
   "metadata": {},
   "outputs": [
    {
     "data": {
      "text/plain": [
       "dict"
      ]
     },
     "execution_count": 97,
     "metadata": {},
     "output_type": "execute_result"
    }
   ],
   "source": [
    "type(result)"
   ]
  },
  {
   "cell_type": "code",
   "execution_count": 113,
   "metadata": {},
   "outputs": [
    {
     "name": "stdout",
     "output_type": "stream",
     "text": [
      "                            OLS Regression Results                            \n",
      "==============================================================================\n",
      "Dep. Variable:                      y   R-squared:                       0.768\n",
      "Model:                            OLS   Adj. R-squared:                  0.763\n",
      "Method:                 Least Squares   F-statistic:                     152.7\n",
      "Date:                Sun, 13 Jun 2021   Prob (F-statistic):           1.75e-57\n",
      "Time:                        20:53:00   Log-Likelihood:                 110.05\n",
      "No. Observations:                 190   AIC:                            -210.1\n",
      "Df Residuals:                     185   BIC:                            -193.9\n",
      "Df Model:                           4                                         \n",
      "Covariance Type:            nonrobust                                         \n",
      "==============================================================================\n",
      "                 coef    std err          t      P>|t|      [0.025      0.975]\n",
      "------------------------------------------------------------------------------\n",
      "x1             1.2124      0.055     21.932      0.000       1.103       1.321\n",
      "x2            -0.6667      0.053    -12.618      0.000      -0.771      -0.562\n",
      "x3             0.7235      0.239      3.025      0.003       0.252       1.195\n",
      "x4            -0.3791      0.245     -1.549      0.123      -0.862       0.104\n",
      "const         -0.0051      0.010     -0.496      0.620      -0.025       0.015\n",
      "==============================================================================\n",
      "Omnibus:                        7.787   Durbin-Watson:                   1.577\n",
      "Prob(Omnibus):                  0.020   Jarque-Bera (JB):                8.587\n",
      "Skew:                          -0.351   Prob(JB):                       0.0137\n",
      "Kurtosis:                       3.770   Cond. No.                         24.7\n",
      "==============================================================================\n",
      "\n",
      "Warnings:\n",
      "[1] Standard Errors assume that the covariance matrix of the errors is correctly specified.\n"
     ]
    }
   ],
   "source": [
    "print(result[2][1][1].summary())"
   ]
  },
  {
   "cell_type": "code",
   "execution_count": null,
   "metadata": {},
   "outputs": [],
   "source": []
  }
 ],
 "metadata": {
  "kernelspec": {
   "display_name": "Python 3",
   "language": "python",
   "name": "python3"
  },
  "language_info": {
   "codemirror_mode": {
    "name": "ipython",
    "version": 3
   },
   "file_extension": ".py",
   "mimetype": "text/x-python",
   "name": "python",
   "nbconvert_exporter": "python",
   "pygments_lexer": "ipython3",
   "version": "3.7.6"
  }
 },
 "nbformat": 4,
 "nbformat_minor": 4
}
