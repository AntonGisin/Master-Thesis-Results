{
 "cells": [
  {
   "cell_type": "code",
   "execution_count": 2,
   "metadata": {},
   "outputs": [],
   "source": [
    "from facebook_scraper import get_posts\n",
    "import csv\n",
    "import pandas as pd"
   ]
  },
  {
   "cell_type": "code",
   "execution_count": null,
   "metadata": {},
   "outputs": [],
   "source": [
    "#if we need to see log!\n",
    "from facebook_scraper import *\n",
    "import logging\n",
    "enable_logging(logging.DEBUG)"
   ]
  },
  {
   "cell_type": "markdown",
   "metadata": {},
   "source": [
    "## Harvest posts"
   ]
  },
  {
   "cell_type": "code",
   "execution_count": 17,
   "metadata": {},
   "outputs": [],
   "source": [
    "incremental_index = 1\n",
    "with open('facebook_data_businessinsider_v2.tsv', 'w', encoding=\"utf-8\") as tsvfile:\n",
    "    tsv_writer = csv.writer(tsvfile, delimiter='\\t')\n",
    "    tsv_writer.writerow(['ID', 'PostID','PostDate','Text','Likes','Shares','Comments'])\n",
    "    for post in get_posts('businessinsider', pages=60000,timeout = 60, options={'comments': False},\n",
    "                          cookies = \"facebook_cookies.txt\"):\n",
    "        if post['text']!=None:\n",
    "            row = [incremental_index, post['post_id'], post['time']\n",
    "                   , post['text'].replace('\\t',' ').replace('\\n',' ').replace('BUSINESSINSIDER.COM','').replace('INSIDER.COM','')\n",
    "                   ,post['likes'],post['shares'],post['comments'], None]\n",
    "            tsv_writer.writerow(row)\n",
    "            incremental_index +=1\n",
    "                "
   ]
  },
  {
   "cell_type": "code",
   "execution_count": null,
   "metadata": {},
   "outputs": [],
   "source": [
    "tsvfile.close()"
   ]
  },
  {
   "cell_type": "code",
   "execution_count": 14,
   "metadata": {},
   "outputs": [
    {
     "data": {
      "text/plain": [
       "{'post_id': '10152911173764071',\n",
       " 'text': 'Why your calendar is destroying your productivity: http://read.bi/1BJvHE9',\n",
       " 'post_text': 'Why your calendar is destroying your productivity: http://read.bi/1BJvHE9',\n",
       " 'shared_text': '',\n",
       " 'time': datetime.datetime(2015, 6, 25, 9, 0),\n",
       " 'image': None,\n",
       " 'image_lowquality': None,\n",
       " 'images': [],\n",
       " 'images_description': [],\n",
       " 'images_lowquality': [],\n",
       " 'images_lowquality_description': [None],\n",
       " 'video': 'https://video.fhel3-1.fna.fbcdn.net/v/t42.1790-2/11642369_10152911177569071_47263069_n.mp4?_nc_cat=104&ccb=1-3&_nc_sid=985c63&efg=eyJ2ZW5jb2RlX3RhZyI6InNkIn0%3D&_nc_eui2=AeHxZqA7OG20k62Zws2dYOvMOsKx9UhB-nw6wrH1SEH6fDh3vp0QVeLpGlrZhhxFEekLjqfugTEO5FVM9corMDxm&_nc_ohc=ny3J_vT1zxMAX84F0Qh&_nc_ht=video.fhel3-1.fna&oh=23028eaa82171ce7879a212161bfe52f&oe=60A6E5FE',\n",
       " 'video_duration_seconds': None,\n",
       " 'video_height': None,\n",
       " 'video_id': '10152911173764071',\n",
       " 'video_quality': None,\n",
       " 'video_size_MB': None,\n",
       " 'video_thumbnail': 'https://scontent.fhel6-1.fna.fbcdn.net/v/t15.5256-10/cp0/e15/q65/s320x320/11403282_10152911177909071_540131731_n.jpg?_nc_cat=100&ccb=1-3&_nc_sid=ccf8b3&efg=eyJpIjoidCJ9&_nc_eui2=AeHnoJFZu9OlgGiA_3CyLGsj2x8gj_F7Rk3bHyCP8XtGTdnF-MPYzEZV-T8VyrnyYQrnDffrGxpdecJuccfmvZFO&_nc_ohc=iVCWcYgSkasAX8T4F8o&_nc_ht=scontent.fhel6-1.fna&tp=9&oh=48411b507244b62007e8697884753b77&oe=60CB38AF',\n",
       " 'video_watches': None,\n",
       " 'video_width': None,\n",
       " 'likes': 67,\n",
       " 'comments': 3,\n",
       " 'shares': 19,\n",
       " 'post_url': 'https://facebook.com/businessinsider/posts/10152911173764071',\n",
       " 'link': 'http://read.bi/1BJvHE9?fbclid=IwAR3r8P6R9-1leQRSFRgr_ik-Q_1FpaQklH3V6UXJ9KPV4KT_OOU8MBLcBdA',\n",
       " 'user_id': '20446254070',\n",
       " 'username': 'Business Insider',\n",
       " 'user_url': 'https://facebook.com/businessinsider/?__tn__=C-R',\n",
       " 'is_live': False,\n",
       " 'factcheck': None,\n",
       " 'shared_post_id': None,\n",
       " 'shared_time': None,\n",
       " 'shared_user_id': None,\n",
       " 'shared_username': None,\n",
       " 'shared_post_url': None,\n",
       " 'available': True,\n",
       " 'comments_full': None,\n",
       " 'reactors': None,\n",
       " 'w3_fb_url': None}"
      ]
     },
     "execution_count": 14,
     "metadata": {},
     "output_type": "execute_result"
    }
   ],
   "source": [
    "post"
   ]
  },
  {
   "cell_type": "markdown",
   "metadata": {},
   "source": [
    "## Harvest comments to the post"
   ]
  },
  {
   "cell_type": "code",
   "execution_count": 3,
   "metadata": {},
   "outputs": [],
   "source": [
    "fpath = 'facebook_data_businessinsider.tsv'\n",
    "post_data = pd.read_csv(fpath, sep='\\t')"
   ]
  },
  {
   "cell_type": "code",
   "execution_count": 4,
   "metadata": {},
   "outputs": [
    {
     "data": {
      "text/html": [
       "<div>\n",
       "<style scoped>\n",
       "    .dataframe tbody tr th:only-of-type {\n",
       "        vertical-align: middle;\n",
       "    }\n",
       "\n",
       "    .dataframe tbody tr th {\n",
       "        vertical-align: top;\n",
       "    }\n",
       "\n",
       "    .dataframe thead th {\n",
       "        text-align: right;\n",
       "    }\n",
       "</style>\n",
       "<table border=\"1\" class=\"dataframe\">\n",
       "  <thead>\n",
       "    <tr style=\"text-align: right;\">\n",
       "      <th></th>\n",
       "      <th>ID</th>\n",
       "      <th>PostID</th>\n",
       "      <th>PostDate</th>\n",
       "      <th>Text</th>\n",
       "      <th>Likes</th>\n",
       "      <th>Shares</th>\n",
       "      <th>Comments</th>\n",
       "    </tr>\n",
       "  </thead>\n",
       "  <tbody>\n",
       "    <tr>\n",
       "      <th>0</th>\n",
       "      <td>1</td>\n",
       "      <td>10158631634154071</td>\n",
       "      <td>2021-04-05 19:59:13</td>\n",
       "      <td>📲🎉 Download the new Insider app! Enjoy faster ...</td>\n",
       "      <td>357</td>\n",
       "      <td>0.0</td>\n",
       "      <td>NaN</td>\n",
       "    </tr>\n",
       "    <tr>\n",
       "      <th>1</th>\n",
       "      <td>2</td>\n",
       "      <td>10158726095249071</td>\n",
       "      <td>2021-05-16 18:26:45</td>\n",
       "      <td>Cargo carriers flying the e-commerce industry'...</td>\n",
       "      <td>3</td>\n",
       "      <td>2.0</td>\n",
       "      <td>NaN</td>\n",
       "    </tr>\n",
       "    <tr>\n",
       "      <th>2</th>\n",
       "      <td>3</td>\n",
       "      <td>10158726062944071</td>\n",
       "      <td>2021-05-16 18:14:39</td>\n",
       "      <td>\"Even toddlers know where guns are kept. So, t...</td>\n",
       "      <td>21</td>\n",
       "      <td>14.0</td>\n",
       "      <td>NaN</td>\n",
       "    </tr>\n",
       "    <tr>\n",
       "      <th>3</th>\n",
       "      <td>4</td>\n",
       "      <td>10158726018794071</td>\n",
       "      <td>2021-05-16 18:02:26</td>\n",
       "      <td>Opinion | While Americans are demanding action...</td>\n",
       "      <td>46</td>\n",
       "      <td>6.0</td>\n",
       "      <td>NaN</td>\n",
       "    </tr>\n",
       "    <tr>\n",
       "      <th>4</th>\n",
       "      <td>5</td>\n",
       "      <td>10158725993204071</td>\n",
       "      <td>2021-05-16 17:50:13</td>\n",
       "      <td>The people who must come up with words when th...</td>\n",
       "      <td>11</td>\n",
       "      <td>2.0</td>\n",
       "      <td>NaN</td>\n",
       "    </tr>\n",
       "  </tbody>\n",
       "</table>\n",
       "</div>"
      ],
      "text/plain": [
       "   ID             PostID             PostDate  \\\n",
       "0   1  10158631634154071  2021-04-05 19:59:13   \n",
       "1   2  10158726095249071  2021-05-16 18:26:45   \n",
       "2   3  10158726062944071  2021-05-16 18:14:39   \n",
       "3   4  10158726018794071  2021-05-16 18:02:26   \n",
       "4   5  10158725993204071  2021-05-16 17:50:13   \n",
       "\n",
       "                                                Text  Likes  Shares  Comments  \n",
       "0  📲🎉 Download the new Insider app! Enjoy faster ...    357     0.0       NaN  \n",
       "1  Cargo carriers flying the e-commerce industry'...      3     2.0       NaN  \n",
       "2  \"Even toddlers know where guns are kept. So, t...     21    14.0       NaN  \n",
       "3  Opinion | While Americans are demanding action...     46     6.0       NaN  \n",
       "4  The people who must come up with words when th...     11     2.0       NaN  "
      ]
     },
     "execution_count": 4,
     "metadata": {},
     "output_type": "execute_result"
    }
   ],
   "source": [
    "post_data.head()"
   ]
  },
  {
   "cell_type": "code",
   "execution_count": null,
   "metadata": {},
   "outputs": [],
   "source": [
    "pos_ids = list(post_data[\"PostID\"])\n",
    "count_ids = 0"
   ]
  },
  {
   "cell_type": "code",
   "execution_count": null,
   "metadata": {},
   "outputs": [],
   "source": [
    "incremental_index = 1\n",
    "with open('facebook_data_businessinsider_comments_v3.tsv', 'w', encoding=\"utf-8\") as tsvfile:\n",
    "    tsv_writer = csv.writer(tsvfile, delimiter='\\t')\n",
    "    tsv_writer.writerow(['ID', 'PostID','CommentID','CommentDate','CommenterName','CommentText'])\n",
    "    for post in get_posts(post_urls=pos_ids,timeout = 60, options={'comments': True},\n",
    "                          cookies = \"facebook_cookies.txt\"):\n",
    "            if post['comments']>0:\n",
    "                if post['comments_full'] == None:\n",
    "                    print(\"You are temporarely blocked! Come and run the code later\")\n",
    "                    print(\"Last post number is:\" + str(count_ids) )\n",
    "                    pos_ids = pos_ids[count_ids:]\n",
    "                else:\n",
    "                    comment_counter = 0\n",
    "                    row = [incremental_index, post['post_id'], None, None,None,None]\n",
    "                    for comment in post['comments_full']:\n",
    "                        row[2] = comment['comment_id']\n",
    "                        row[3] = comment['comment_time']\n",
    "                        row[4] = comment['commenter_name']\n",
    "                        row[5] = comment['comment_text'].replace('\\t',' ').replace('\\n',' ')\n",
    "                        [incremental_index, post['post_id'], post['time']\n",
    "                        tsv_writer.writerow(row)\n",
    "                        incremental_index +=1\n",
    "                        row[0] = incremental_index\n",
    "                        comment_counter+=1\n",
    "\n"
   ]
  },
  {
   "cell_type": "code",
   "execution_count": null,
   "metadata": {},
   "outputs": [],
   "source": []
  },
  {
   "cell_type": "code",
   "execution_count": null,
   "metadata": {},
   "outputs": [],
   "source": []
  }
 ],
 "metadata": {
  "kernelspec": {
   "display_name": "Python 3",
   "language": "python",
   "name": "python3"
  },
  "language_info": {
   "codemirror_mode": {
    "name": "ipython",
    "version": 3
   },
   "file_extension": ".py",
   "mimetype": "text/x-python",
   "name": "python",
   "nbconvert_exporter": "python",
   "pygments_lexer": "ipython3",
   "version": "3.7.6"
  }
 },
 "nbformat": 4,
 "nbformat_minor": 5
}
