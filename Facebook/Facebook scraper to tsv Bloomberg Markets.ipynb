{
 "cells": [
  {
   "cell_type": "code",
   "execution_count": 32,
   "metadata": {},
   "outputs": [],
   "source": [
    "from facebook_scraper import get_posts\n",
    "import csv"
   ]
  },
  {
   "cell_type": "code",
   "execution_count": 8,
   "metadata": {},
   "outputs": [],
   "source": [
    "incremental_index = 1\n",
    "with open('facebook_data_bloombergmarkets_v2.tsv', 'w', encoding=\"utf-8\") as tsvfile:\n",
    "    tsv_writer = csv.writer(tsvfile, delimiter='\\t')\n",
    "    tsv_writer.writerow(['ID', 'PostID','PostDate','Text','Likes','Shares','Comments'])\n",
    "    for post in get_posts('bloombergmarkets', pages=60000,timeout = 60, options={'comments': False},\n",
    "                          cookies = \"facebook_cookies.txt\"):\n",
    "        if post['text']!=None:\n",
    "            row = [incremental_index, post['post_id'], post['time']\n",
    "                   , post['text'].replace('\\t',' ').replace('\\n',' ').replace('BLOOMBERG.COM','')\n",
    "                   ,post['likes'],post['shares'],post['comments'], None]\n",
    "            tsv_writer.writerow(row)\n",
    "            incremental_index +=1\n"
   ]
  },
  {
   "cell_type": "code",
   "execution_count": null,
   "metadata": {},
   "outputs": [],
   "source": [
    "tsvfile.close()"
   ]
  },
  {
   "cell_type": "markdown",
   "metadata": {},
   "source": [
    "## Comments"
   ]
  },
  {
   "cell_type": "code",
   "execution_count": 27,
   "metadata": {},
   "outputs": [],
   "source": [
    "import pandas as pd\n",
    "fpath = 'facebook_data_bloombergmarkets_v2.tsv'\n",
    "post_data = pd.read_csv(fpath, sep='\\t',index_col=None)"
   ]
  },
  {
   "cell_type": "code",
   "execution_count": 28,
   "metadata": {},
   "outputs": [],
   "source": [
    "post_data.columns = ['PostID','PostDate','Text','Likes','Share','Comments','Nan']"
   ]
  },
  {
   "cell_type": "code",
   "execution_count": 106,
   "metadata": {},
   "outputs": [],
   "source": [
    "pos_ids = list(post_data[\"PostID\"])\n",
    "count_ids = 3486\n",
    "incremental_index = 24032"
   ]
  },
  {
   "cell_type": "code",
   "execution_count": 159,
   "metadata": {},
   "outputs": [],
   "source": [
    "\n",
    "with open('facebook_data_bloombergmarkets_comments_v3.tsv', 'a', encoding=\"utf-8\") as tsvfile:\n",
    "    tsv_writer = csv.writer(tsvfile, delimiter='\\t')\n",
    "    #tsv_writer.writerow(['ID', 'PostID','PostDate','CommentID','CommentDate','CommenterURL','CommentText'])\n",
    "    for post_id in pos_ids:\n",
    "        try:\n",
    "            for post in get_posts(post_urls=[post_id],timeout = 60, options={'comments': True},\n",
    "                          cookies = \"facebook_cookies.txt\"):\n",
    "                if post['comments']>0:\n",
    "                    if post['comments_full'] == None:\n",
    "                        print(\"You are temporarely blocked! Come and run the code later\")\n",
    "                        print(\"Last post number is:\" + str(count_ids) )\n",
    "                        #pos_ids = pos_ids[count_ids:]\n",
    "\n",
    "                    else:\n",
    "                        comment_counter = 0\n",
    "                        row = [incremental_index, post['post_id'],post['time'],None, None,None,None]\n",
    "                        for comment in post['comments_full']:\n",
    "                            row[3] = comment['comment_id']\n",
    "                            row[4] = comment['comment_time']\n",
    "                            row[5] = comment['commenter_url'].replace('https://facebook.com/',' ')\n",
    "                            row[6] = comment['comment_text'].replace('\\t',' ').replace('\\n',' ')\n",
    "                            tsv_writer.writerow(row)\n",
    "                            incremental_index +=1\n",
    "                            row[0] = incremental_index\n",
    "                            comment_counter+=1\n",
    "\n",
    "        except:\n",
    "            None\n",
    "        count_ids+=1\n"
   ]
  },
  {
   "cell_type": "code",
   "execution_count": 157,
   "metadata": {},
   "outputs": [
    {
     "name": "stdout",
     "output_type": "stream",
     "text": [
      "9373\n"
     ]
    }
   ],
   "source": [
    "pos_ids = list(post_data[\"PostID\"])\n",
    "for i in range(len(pos_ids)):\n",
    "    if pos_ids[i] == 913837065351286:\n",
    "        print(i)\n",
    "    "
   ]
  },
  {
   "cell_type": "code",
   "execution_count": 158,
   "metadata": {},
   "outputs": [],
   "source": [
    "pos_ids = list(post_data[\"PostID\"])\n",
    "pos_ids = pos_ids[9373+1:]\n",
    "count_ids = 9373+1\n"
   ]
  },
  {
   "cell_type": "code",
   "execution_count": null,
   "metadata": {},
   "outputs": [],
   "source": [
    "exclusions = []\n",
    "for post_id in pos_ids:\n",
    "    try:\n",
    "        x=list(get_posts(post_urls=[post_id],timeout = 60, options={'comments': True},\n",
    "                          cookies = \"facebook_cookies.txt\"))\n",
    "        x[0]['post_id']\n",
    "    except:\n",
    "        exclusions.append(post_id)\n",
    "len(exclusions)"
   ]
  },
  {
   "cell_type": "code",
   "execution_count": 153,
   "metadata": {},
   "outputs": [
    {
     "data": {
      "text/plain": [
       "11777"
      ]
     },
     "execution_count": 153,
     "metadata": {},
     "output_type": "execute_result"
    }
   ],
   "source": [
    "for excl in exclusions:\n",
    "    pos_ids.remove(excl)\n",
    "    \n",
    "len(pos_ids)"
   ]
  },
  {
   "cell_type": "code",
   "execution_count": 61,
   "metadata": {},
   "outputs": [
    {
     "data": {
      "text/plain": [
       "3171466192921684"
      ]
     },
     "execution_count": 61,
     "metadata": {},
     "output_type": "execute_result"
    }
   ],
   "source": [
    "pos_ids = list(post_data[\"PostID\"])\n",
    "pos_ids[1257]"
   ]
  },
  {
   "cell_type": "code",
   "execution_count": 132,
   "metadata": {},
   "outputs": [
    {
     "data": {
      "text/plain": [
       "'1876283269106656'"
      ]
     },
     "execution_count": 132,
     "metadata": {},
     "output_type": "execute_result"
    }
   ],
   "source": [
    "list(get_posts(post_urls=[1876283269106656],timeout = 60, options={'comments': True},\n",
    "                          cookies = \"facebook_cookies.txt\"))[0]['post_id']"
   ]
  },
  {
   "cell_type": "code",
   "execution_count": null,
   "metadata": {},
   "outputs": [],
   "source": []
  }
 ],
 "metadata": {
  "kernelspec": {
   "display_name": "Python 3",
   "language": "python",
   "name": "python3"
  },
  "language_info": {
   "codemirror_mode": {
    "name": "ipython",
    "version": 3
   },
   "file_extension": ".py",
   "mimetype": "text/x-python",
   "name": "python",
   "nbconvert_exporter": "python",
   "pygments_lexer": "ipython3",
   "version": "3.7.6"
  }
 },
 "nbformat": 4,
 "nbformat_minor": 5
}
