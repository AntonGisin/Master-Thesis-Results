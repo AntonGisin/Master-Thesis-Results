{
 "cells": [
  {
   "cell_type": "code",
   "execution_count": null,
   "metadata": {},
   "outputs": [],
   "source": [
    "incremental_index = 0\n",
    "with open('facebook_data_WSJ_v2.tsv', 'a', encoding=\"utf-8\") as tsvfile:\n",
    "    tsv_writer = csv.writer(tsvfile, delimiter='\\t')\n",
    "    tsv_writer.writerow(['ID', 'PostID','PostDate','Text','Likes','Shares','Comments'])\n",
    "    for post in get_posts('WSJ', pages=35000,timeout = 60, options={'comments': False},\n",
    "                          cookies = \"facebook_cookies.txt\"):\n",
    "        if post['text']!=None:\n",
    "            row = [incremental_index, post['post_id'], post['time']\n",
    "                   , post['text'].replace('\\t',' ').replace('\\n',' ').replace('WSJ.COM','')\n",
    "                   ,post['likes'],post['shares'],post['comments'], None]\n",
    "            tsv_writer.writerow(row)\n",
    "            incremental_index +=1\n",
    "\n",
    "                \n",
    "                "
   ]
  },
  {
   "cell_type": "code",
   "execution_count": 1,
   "metadata": {},
   "outputs": [],
   "source": [
    "from facebook_scraper import get_posts\n",
    "import csv"
   ]
  },
  {
   "cell_type": "markdown",
   "metadata": {},
   "source": [
    "## Comments"
   ]
  },
  {
   "cell_type": "code",
   "execution_count": 2,
   "metadata": {},
   "outputs": [
    {
     "data": {
      "text/html": [
       "<div>\n",
       "<style scoped>\n",
       "    .dataframe tbody tr th:only-of-type {\n",
       "        vertical-align: middle;\n",
       "    }\n",
       "\n",
       "    .dataframe tbody tr th {\n",
       "        vertical-align: top;\n",
       "    }\n",
       "\n",
       "    .dataframe thead th {\n",
       "        text-align: right;\n",
       "    }\n",
       "</style>\n",
       "<table border=\"1\" class=\"dataframe\">\n",
       "  <thead>\n",
       "    <tr style=\"text-align: right;\">\n",
       "      <th></th>\n",
       "      <th>ID</th>\n",
       "      <th>PostID</th>\n",
       "      <th>PostDate</th>\n",
       "      <th>Text</th>\n",
       "      <th>Likes</th>\n",
       "      <th>Shares</th>\n",
       "      <th>Comments</th>\n",
       "    </tr>\n",
       "  </thead>\n",
       "  <tbody>\n",
       "    <tr>\n",
       "      <th>0</th>\n",
       "      <td>1</td>\n",
       "      <td>10161085588958128</td>\n",
       "      <td>2021-05-16 19:01:04</td>\n",
       "      <td>This quick beans and rice recipe gets a little...</td>\n",
       "      <td>4</td>\n",
       "      <td>0</td>\n",
       "      <td>NaN</td>\n",
       "    </tr>\n",
       "    <tr>\n",
       "      <th>1</th>\n",
       "      <td>2</td>\n",
       "      <td>10161085508038128</td>\n",
       "      <td>2021-05-16 18:35:05</td>\n",
       "      <td>Jimmy Kimmel wore a white lab coat and head mi...</td>\n",
       "      <td>37</td>\n",
       "      <td>1</td>\n",
       "      <td>NaN</td>\n",
       "    </tr>\n",
       "    <tr>\n",
       "      <th>2</th>\n",
       "      <td>3</td>\n",
       "      <td>10161085417148128</td>\n",
       "      <td>2021-05-16 18:00:35</td>\n",
       "      <td>Government efforts to boost economic activity ...</td>\n",
       "      <td>28</td>\n",
       "      <td>3</td>\n",
       "      <td>NaN</td>\n",
       "    </tr>\n",
       "    <tr>\n",
       "      <th>3</th>\n",
       "      <td>4</td>\n",
       "      <td>10161085362453128</td>\n",
       "      <td>2021-05-16 17:30:18</td>\n",
       "      <td>As the U.S. real-estate market picks up, incre...</td>\n",
       "      <td>42</td>\n",
       "      <td>4</td>\n",
       "      <td>NaN</td>\n",
       "    </tr>\n",
       "    <tr>\n",
       "      <th>4</th>\n",
       "      <td>5</td>\n",
       "      <td>10161085218303128</td>\n",
       "      <td>2021-05-16 16:30:17</td>\n",
       "      <td>Some retailers are grooming their own data sci...</td>\n",
       "      <td>117</td>\n",
       "      <td>9</td>\n",
       "      <td>NaN</td>\n",
       "    </tr>\n",
       "  </tbody>\n",
       "</table>\n",
       "</div>"
      ],
      "text/plain": [
       "   ID             PostID             PostDate  \\\n",
       "0   1  10161085588958128  2021-05-16 19:01:04   \n",
       "1   2  10161085508038128  2021-05-16 18:35:05   \n",
       "2   3  10161085417148128  2021-05-16 18:00:35   \n",
       "3   4  10161085362453128  2021-05-16 17:30:18   \n",
       "4   5  10161085218303128  2021-05-16 16:30:17   \n",
       "\n",
       "                                                Text  Likes  Shares  Comments  \n",
       "0  This quick beans and rice recipe gets a little...      4       0       NaN  \n",
       "1  Jimmy Kimmel wore a white lab coat and head mi...     37       1       NaN  \n",
       "2  Government efforts to boost economic activity ...     28       3       NaN  \n",
       "3  As the U.S. real-estate market picks up, incre...     42       4       NaN  \n",
       "4  Some retailers are grooming their own data sci...    117       9       NaN  "
      ]
     },
     "execution_count": 2,
     "metadata": {},
     "output_type": "execute_result"
    }
   ],
   "source": [
    "import pandas as pd\n",
    "fpath = 'facebook_data_WSJ.tsv'\n",
    "post_data = pd.read_csv(fpath, sep='\\t',index_col=None)\n",
    "post_data.head()"
   ]
  },
  {
   "cell_type": "code",
   "execution_count": 3,
   "metadata": {},
   "outputs": [],
   "source": [
    "pos_ids = list(post_data[\"PostID\"])\n",
    "count_ids = 0\n",
    "incremental_index = 0"
   ]
  },
  {
   "cell_type": "code",
   "execution_count": 12,
   "metadata": {},
   "outputs": [],
   "source": [
    "\n",
    "with open('facebook_data_WSJ_comments.tsv', 'a', encoding=\"utf-8\") as tsvfile:\n",
    "    tsv_writer = csv.writer(tsvfile, delimiter='\\t')\n",
    "    #tsv_writer.writerow(['ID', 'PostID','PostDate','CommentID','CommentDate','CommenterURL','CommentText'])\n",
    "    for post_id in pos_ids:\n",
    "        try:\n",
    "            for post in get_posts(post_urls=[post_id],timeout = 60, options={'comments': True},\n",
    "                          cookies = \"facebook.com_cookies_v3.txt\"):\n",
    "                if post['comments']>0:\n",
    "                    if post['comments_full'] == None:\n",
    "                        print(\"You are temporarely blocked! Come and run the code later\")\n",
    "                        print(\"Last post number is:\" + str(count_ids) )\n",
    "                        #pos_ids = pos_ids[count_ids:]\n",
    "\n",
    "                    else:\n",
    "                        comment_counter = 0\n",
    "                        row = [incremental_index, post['post_id'],post['time'],None, None,None,None]\n",
    "                        for comment in post['comments_full']:\n",
    "                            row[3] = comment['comment_id']\n",
    "                            row[4] = comment['comment_time']\n",
    "                            row[5] = comment['commenter_url'].replace('https://facebook.com/',' ')\n",
    "                            row[6] = comment['comment_text'].replace('\\t',' ').replace('\\n',' ').replace('#','')\n",
    "                            tsv_writer.writerow(row)\n",
    "                            incremental_index +=1\n",
    "                            row[0] = incremental_index\n",
    "                            comment_counter+=1\n",
    "                            if comment_counter>= 100:\n",
    "                                break\n",
    "                                print(\"Comment limit happened\")\n",
    "        except:\n",
    "            None\n",
    "        count_ids+=1\n",
    "\n",
    "                "
   ]
  },
  {
   "cell_type": "code",
   "execution_count": 8,
   "metadata": {},
   "outputs": [
    {
     "name": "stdout",
     "output_type": "stream",
     "text": [
      "8591\n"
     ]
    }
   ],
   "source": [
    "pos_ids = list(post_data[\"PostID\"])\n",
    "for i in range(len(pos_ids)):\n",
    "    if pos_ids[i] == 10155674527083128:\n",
    "        print(i)"
   ]
  },
  {
   "cell_type": "code",
   "execution_count": 9,
   "metadata": {},
   "outputs": [],
   "source": [
    "pos_ids = list(post_data[\"PostID\"])\n",
    "pos_ids = pos_ids[8591+1:]\n",
    "count_ids = 8591+1\n",
    "incremental_index = 224288"
   ]
  },
  {
   "cell_type": "code",
   "execution_count": 11,
   "metadata": {},
   "outputs": [
    {
     "data": {
      "text/plain": [
       "301462516588100"
      ]
     },
     "execution_count": 11,
     "metadata": {},
     "output_type": "execute_result"
    }
   ],
   "source": [
    "pos_ids[8592]"
   ]
  },
  {
   "cell_type": "code",
   "execution_count": null,
   "metadata": {},
   "outputs": [],
   "source": []
  }
 ],
 "metadata": {
  "kernelspec": {
   "display_name": "Python 3",
   "language": "python",
   "name": "python3"
  },
  "language_info": {
   "codemirror_mode": {
    "name": "ipython",
    "version": 3
   },
   "file_extension": ".py",
   "mimetype": "text/x-python",
   "name": "python",
   "nbconvert_exporter": "python",
   "pygments_lexer": "ipython3",
   "version": "3.7.6"
  }
 },
 "nbformat": 4,
 "nbformat_minor": 5
}
