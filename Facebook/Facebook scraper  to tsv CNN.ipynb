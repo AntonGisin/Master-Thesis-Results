{
 "cells": [
  {
   "cell_type": "code",
   "execution_count": 1,
   "metadata": {},
   "outputs": [],
   "source": [
    "from facebook_scraper import get_posts\n",
    "import csv"
   ]
  },
  {
   "cell_type": "markdown",
   "metadata": {},
   "source": [
    "## Posts"
   ]
  },
  {
   "cell_type": "code",
   "execution_count": null,
   "metadata": {},
   "outputs": [],
   "source": [
    "incremental_index = 1\n",
    "with open('facebook_data_CNN.tsv', 'w', encoding=\"utf-8\") as tsvfile:\n",
    "    tsv_writer = csv.writer(tsvfile, delimiter='\\t')\n",
    "    tsv_writer.writerow(['ID', 'PostID','PostDate','Text','Likes','Shares','Comments'])\n",
    "    for post in get_posts('CNN', pages=40000,timeout = 60, options={'comments': False},\n",
    "                          cookies = \"facebook_cookies.txt\"):\n",
    "        if post['text']!=None:\n",
    "            row = [incremental_index, post['post_id'], post['time']\n",
    "                   , post['text'].replace('\\t',' ').replace('\\n',' ').replace('CNN.COM','')\n",
    "                   ,post['likes'],post['shares'],post['comments'], None]\n",
    "            tsv_writer.writerow(row)\n",
    "            incremental_index +=1\n",
    "\n",
    "                "
   ]
  },
  {
   "cell_type": "markdown",
   "metadata": {},
   "source": [
    "## Comments"
   ]
  },
  {
   "cell_type": "code",
   "execution_count": 16,
   "metadata": {},
   "outputs": [],
   "source": [
    "import pandas as pd\n",
    "fpath = 'facebook_data_CNN.tsv'\n",
    "post_data = pd.read_csv(fpath, sep='\\t',index_col=None)"
   ]
  },
  {
   "cell_type": "code",
   "execution_count": 18,
   "metadata": {},
   "outputs": [
    {
     "data": {
      "text/html": [
       "<div>\n",
       "<style scoped>\n",
       "    .dataframe tbody tr th:only-of-type {\n",
       "        vertical-align: middle;\n",
       "    }\n",
       "\n",
       "    .dataframe tbody tr th {\n",
       "        vertical-align: top;\n",
       "    }\n",
       "\n",
       "    .dataframe thead th {\n",
       "        text-align: right;\n",
       "    }\n",
       "</style>\n",
       "<table border=\"1\" class=\"dataframe\">\n",
       "  <thead>\n",
       "    <tr style=\"text-align: right;\">\n",
       "      <th></th>\n",
       "      <th>ID</th>\n",
       "      <th>PostID</th>\n",
       "      <th>PostDate</th>\n",
       "      <th>Text</th>\n",
       "      <th>Likes</th>\n",
       "      <th>Shares</th>\n",
       "      <th>Comments</th>\n",
       "    </tr>\n",
       "  </thead>\n",
       "  <tbody>\n",
       "    <tr>\n",
       "      <th>0</th>\n",
       "      <td>1</td>\n",
       "      <td>10162001067901509</td>\n",
       "      <td>2021-05-16 18:33:17</td>\n",
       "      <td>\"If we can't as an international community pre...</td>\n",
       "      <td>159</td>\n",
       "      <td>0</td>\n",
       "      <td>NaN</td>\n",
       "    </tr>\n",
       "    <tr>\n",
       "      <th>1</th>\n",
       "      <td>2</td>\n",
       "      <td>10162000992086509</td>\n",
       "      <td>2021-05-16 18:01:11</td>\n",
       "      <td>In a sign of the Biden administration's embrac...</td>\n",
       "      <td>389</td>\n",
       "      <td>20</td>\n",
       "      <td>NaN</td>\n",
       "    </tr>\n",
       "    <tr>\n",
       "      <th>2</th>\n",
       "      <td>3</td>\n",
       "      <td>10162000989931509</td>\n",
       "      <td>2021-05-16 18:00:31</td>\n",
       "      <td>What’s your favorite David Letterman bit? Hear...</td>\n",
       "      <td>59</td>\n",
       "      <td>0</td>\n",
       "      <td>NaN</td>\n",
       "    </tr>\n",
       "    <tr>\n",
       "      <th>3</th>\n",
       "      <td>4</td>\n",
       "      <td>10162000949151509</td>\n",
       "      <td>2021-05-16 17:41:09</td>\n",
       "      <td>\"The Republican Party's decision, in effect, t...</td>\n",
       "      <td>315</td>\n",
       "      <td>0</td>\n",
       "      <td>NaN</td>\n",
       "    </tr>\n",
       "    <tr>\n",
       "      <th>4</th>\n",
       "      <td>5</td>\n",
       "      <td>10162000877181509</td>\n",
       "      <td>2021-05-16 17:00:52</td>\n",
       "      <td>A group of more than 150 Republicans, led by D...</td>\n",
       "      <td>534</td>\n",
       "      <td>176</td>\n",
       "      <td>NaN</td>\n",
       "    </tr>\n",
       "  </tbody>\n",
       "</table>\n",
       "</div>"
      ],
      "text/plain": [
       "   ID             PostID             PostDate  \\\n",
       "0   1  10162001067901509  2021-05-16 18:33:17   \n",
       "1   2  10162000992086509  2021-05-16 18:01:11   \n",
       "2   3  10162000989931509  2021-05-16 18:00:31   \n",
       "3   4  10162000949151509  2021-05-16 17:41:09   \n",
       "4   5  10162000877181509  2021-05-16 17:00:52   \n",
       "\n",
       "                                                Text  Likes  Shares  Comments  \n",
       "0  \"If we can't as an international community pre...    159       0       NaN  \n",
       "1  In a sign of the Biden administration's embrac...    389      20       NaN  \n",
       "2  What’s your favorite David Letterman bit? Hear...     59       0       NaN  \n",
       "3  \"The Republican Party's decision, in effect, t...    315       0       NaN  \n",
       "4  A group of more than 150 Republicans, led by D...    534     176       NaN  "
      ]
     },
     "execution_count": 18,
     "metadata": {},
     "output_type": "execute_result"
    }
   ],
   "source": [
    "post_data.head()"
   ]
  },
  {
   "cell_type": "code",
   "execution_count": 3,
   "metadata": {},
   "outputs": [],
   "source": [
    "pos_ids = list(post_data[\"PostID\"])\n",
    "count_ids = 0\n",
    "incremental_index = 1285"
   ]
  },
  {
   "cell_type": "code",
   "execution_count": null,
   "metadata": {},
   "outputs": [],
   "source": [
    "\n",
    "with open('facebook_data_CNN_comments.tsv', 'a', encoding=\"utf-8\") as tsvfile:\n",
    "    tsv_writer = csv.writer(tsvfile, delimiter='\\t')\n",
    "  #  tsv_writer.writerow(['ID', 'PostID','PostDate','CommentID','CommentDate','CommenterURL','CommentText'])\n",
    "    for post_id in pos_ids:\n",
    "        try:\n",
    "            for post in get_posts(post_urls=[post_id],timeout = 60, options={'comments': True},\n",
    "                          cookies = \"facebook.com_cookies_v3.txt\"):\n",
    "                if post['comments']>0:\n",
    "                    if post['comments_full'] == None:\n",
    "                        print(\"You are temporarely blocked! Come and run the code later\")\n",
    "                        print(\"Last post number is:\" + str(count_ids) )\n",
    "                        #pos_ids = pos_ids[count_ids:]\n",
    "\n",
    "                    else:\n",
    "                        comment_counter = 0\n",
    "                        row = [incremental_index, post['post_id'],post['time'],None, None,None,None]\n",
    "                        for comment in post['comments_full']:\n",
    "                            row[3] = comment['comment_id']\n",
    "                            row[4] = comment['comment_time']\n",
    "                            row[5] = comment['commenter_url'].replace('https://facebook.com/',' ')\n",
    "                            row[6] = comment['comment_text'].replace('\\t',' ').replace('\\n',' ').replace('#','')\n",
    "                            tsv_writer.writerow(row)\n",
    "                            incremental_index +=1\n",
    "                            row[0] = incremental_index\n",
    "                            comment_counter+=1\n",
    "\n",
    "        except:\n",
    "            None\n",
    "        count_ids+=1\n",
    "\n",
    "                "
   ]
  },
  {
   "cell_type": "code",
   "execution_count": null,
   "metadata": {},
   "outputs": [],
   "source": [
    "post_data.head()"
   ]
  },
  {
   "cell_type": "code",
   "execution_count": 9,
   "metadata": {},
   "outputs": [
    {
     "name": "stdout",
     "output_type": "stream",
     "text": [
      "1833\n"
     ]
    }
   ],
   "source": [
    "pos_ids = list(post_data[\"PostID\"])\n",
    "for i in range(len(pos_ids)):\n",
    "    if pos_ids[i] == 10161782522651509:\n",
    "        print(i)"
   ]
  },
  {
   "cell_type": "code",
   "execution_count": 19,
   "metadata": {},
   "outputs": [],
   "source": [
    "pos_ids = list(post_data[\"PostID\"])\n",
    "pos_ids = pos_ids[1835+1:]\n",
    "count_ids = 1835+1\n",
    "incremental_index = 71251+1"
   ]
  },
  {
   "cell_type": "code",
   "execution_count": 14,
   "metadata": {},
   "outputs": [],
   "source": [
    "testpost = get_posts(post_urls=['10162000798156509'],timeout = 60, options={'comments': True},\n",
    "                          #cookies = \"facebook_cookies.txt\"\n",
    "                    )"
   ]
  },
  {
   "cell_type": "code",
   "execution_count": 15,
   "metadata": {},
   "outputs": [
    {
     "data": {
      "text/plain": [
       "[{},\n",
       " {'post_id': None,\n",
       "  'text': None,\n",
       "  'post_text': None,\n",
       "  'shared_text': None,\n",
       "  'time': None,\n",
       "  'image': None,\n",
       "  'image_lowquality': None,\n",
       "  'images': None,\n",
       "  'images_description': None,\n",
       "  'images_lowquality': None,\n",
       "  'images_lowquality_description': None,\n",
       "  'video': None,\n",
       "  'video_duration_seconds': None,\n",
       "  'video_height': None,\n",
       "  'video_id': None,\n",
       "  'video_quality': None,\n",
       "  'video_size_MB': None,\n",
       "  'video_thumbnail': None,\n",
       "  'video_watches': None,\n",
       "  'video_width': None,\n",
       "  'likes': None,\n",
       "  'comments': None,\n",
       "  'shares': None,\n",
       "  'post_url': 'https://m.facebook.com/10162000798156509',\n",
       "  'link': None,\n",
       "  'user_id': None,\n",
       "  'username': None,\n",
       "  'user_url': None,\n",
       "  'is_live': False,\n",
       "  'factcheck': None,\n",
       "  'shared_post_id': None,\n",
       "  'shared_time': None,\n",
       "  'shared_user_id': None,\n",
       "  'shared_username': None,\n",
       "  'shared_post_url': None,\n",
       "  'available': None,\n",
       "  'comments_full': None,\n",
       "  'reactors': None,\n",
       "  'w3_fb_url': None}]"
      ]
     },
     "execution_count": 15,
     "metadata": {},
     "output_type": "execute_result"
    }
   ],
   "source": [
    "list(testpost)"
   ]
  },
  {
   "cell_type": "code",
   "execution_count": null,
   "metadata": {},
   "outputs": [],
   "source": []
  }
 ],
 "metadata": {
  "kernelspec": {
   "display_name": "Python 3",
   "language": "python",
   "name": "python3"
  },
  "language_info": {
   "codemirror_mode": {
    "name": "ipython",
    "version": 3
   },
   "file_extension": ".py",
   "mimetype": "text/x-python",
   "name": "python",
   "nbconvert_exporter": "python",
   "pygments_lexer": "ipython3",
   "version": "3.7.6"
  }
 },
 "nbformat": 4,
 "nbformat_minor": 5
}
