{
 "cells": [
  {
   "cell_type": "code",
   "execution_count": 5,
   "metadata": {},
   "outputs": [],
   "source": [
    "from facebook_scraper import get_posts\n",
    "import csv"
   ]
  },
  {
   "cell_type": "code",
   "execution_count": 4,
   "metadata": {},
   "outputs": [],
   "source": [
    "incremental_index = 0\n",
    "with open('facebook_data_investorsbusinessdaily.tsv', 'w', encoding=\"utf-8\") as tsvfile:\n",
    "    tsv_writer = csv.writer(tsvfile, delimiter='\\t')\n",
    "    tsv_writer.writerow(['ID', 'PostID','PostDate','Text','Likes','Shares','Comments'])\n",
    "    for post in get_posts('investorsbusinessdaily', pages=60000,timeout = 60, options={'comments': False},\n",
    "                          cookies = \"facebook_cookies.txt\"):\n",
    "        if post['text']!=None:\n",
    "            row = [incremental_index, post['post_id'], post['time']\n",
    "                   , post['text'].replace('\\t',' ').replace('\\n',' ').replace('INVESTORS.COM','')\n",
    "                   ,post['likes'],post['shares'],post['comments'], None]\n",
    "            tsv_writer.writerow(row)\n",
    "            incremental_index +=1\n",
    "\n",
    "                "
   ]
  },
  {
   "cell_type": "code",
   "execution_count": 1,
   "metadata": {},
   "outputs": [
    {
     "data": {
      "text/html": [
       "<div>\n",
       "<style scoped>\n",
       "    .dataframe tbody tr th:only-of-type {\n",
       "        vertical-align: middle;\n",
       "    }\n",
       "\n",
       "    .dataframe tbody tr th {\n",
       "        vertical-align: top;\n",
       "    }\n",
       "\n",
       "    .dataframe thead th {\n",
       "        text-align: right;\n",
       "    }\n",
       "</style>\n",
       "<table border=\"1\" class=\"dataframe\">\n",
       "  <thead>\n",
       "    <tr style=\"text-align: right;\">\n",
       "      <th></th>\n",
       "      <th>ID</th>\n",
       "      <th>PostID</th>\n",
       "      <th>PostDate</th>\n",
       "      <th>Text</th>\n",
       "      <th>Likes</th>\n",
       "      <th>Shares</th>\n",
       "      <th>Comments</th>\n",
       "    </tr>\n",
       "  </thead>\n",
       "  <tbody>\n",
       "    <tr>\n",
       "      <th>0</th>\n",
       "      <td>10157787482336116</td>\n",
       "      <td>2021-05-31 17:24:31.968425</td>\n",
       "      <td>Trade like the pro's and don't miss this speci...</td>\n",
       "      <td>3</td>\n",
       "      <td>0</td>\n",
       "      <td>2</td>\n",
       "      <td>NaN</td>\n",
       "    </tr>\n",
       "    <tr>\n",
       "      <th>1</th>\n",
       "      <td>10157787473471116</td>\n",
       "      <td>2021-05-31 17:24:33.154690</td>\n",
       "      <td>IBD’s #MemorialDay sale is here! Now’s your ch...</td>\n",
       "      <td>9</td>\n",
       "      <td>0</td>\n",
       "      <td>0</td>\n",
       "      <td>NaN</td>\n",
       "    </tr>\n",
       "    <tr>\n",
       "      <th>2</th>\n",
       "      <td>10157786137676116</td>\n",
       "      <td>2021-05-30 23:24:36.751058</td>\n",
       "      <td>IBD’s #MemorialDay sale is here! Now’s your ch...</td>\n",
       "      <td>11</td>\n",
       "      <td>1</td>\n",
       "      <td>1</td>\n",
       "      <td>NaN</td>\n",
       "    </tr>\n",
       "    <tr>\n",
       "      <th>3</th>\n",
       "      <td>10157785457846116</td>\n",
       "      <td>2021-05-30 16:57:00</td>\n",
       "      <td>IBD’s #MemorialDay sale is here! Now’s your ch...</td>\n",
       "      <td>14</td>\n",
       "      <td>0</td>\n",
       "      <td>1</td>\n",
       "      <td>NaN</td>\n",
       "    </tr>\n",
       "    <tr>\n",
       "      <th>4</th>\n",
       "      <td>10157781483501116</td>\n",
       "      <td>2021-05-30 15:16:00</td>\n",
       "      <td>Work smarter, not harder.   Working Smart Lets...</td>\n",
       "      <td>67</td>\n",
       "      <td>3</td>\n",
       "      <td>3</td>\n",
       "      <td>NaN</td>\n",
       "    </tr>\n",
       "    <tr>\n",
       "      <th>...</th>\n",
       "      <td>...</td>\n",
       "      <td>...</td>\n",
       "      <td>...</td>\n",
       "      <td>...</td>\n",
       "      <td>...</td>\n",
       "      <td>...</td>\n",
       "      <td>...</td>\n",
       "    </tr>\n",
       "    <tr>\n",
       "      <th>95</th>\n",
       "      <td>10157752242556116</td>\n",
       "      <td>2021-05-14 18:48:00</td>\n",
       "      <td>If you want to learn how to invest in winning ...</td>\n",
       "      <td>22</td>\n",
       "      <td>3</td>\n",
       "      <td>1</td>\n",
       "      <td>NaN</td>\n",
       "    </tr>\n",
       "    <tr>\n",
       "      <th>96</th>\n",
       "      <td>10157752198606116</td>\n",
       "      <td>2021-05-14 18:12:00</td>\n",
       "      <td>If you're worried about inflation, these S&amp;P 5...</td>\n",
       "      <td>23</td>\n",
       "      <td>1</td>\n",
       "      <td>2</td>\n",
       "      <td>NaN</td>\n",
       "    </tr>\n",
       "    <tr>\n",
       "      <th>97</th>\n",
       "      <td>10157752111496116</td>\n",
       "      <td>2021-05-14 17:15:00</td>\n",
       "      <td>#TaxDay in May? Taxes may be confusing, but in...</td>\n",
       "      <td>10</td>\n",
       "      <td>0</td>\n",
       "      <td>2</td>\n",
       "      <td>NaN</td>\n",
       "    </tr>\n",
       "    <tr>\n",
       "      <th>98</th>\n",
       "      <td>511454683555306</td>\n",
       "      <td>2021-05-13 23:04:00</td>\n",
       "      <td>Stock market rebounds after three-session slum...</td>\n",
       "      <td>67</td>\n",
       "      <td>37</td>\n",
       "      <td>28</td>\n",
       "      <td>NaN</td>\n",
       "    </tr>\n",
       "    <tr>\n",
       "      <th>99</th>\n",
       "      <td>10157750560951116</td>\n",
       "      <td>2021-05-13 22:23:00</td>\n",
       "      <td>Is Alibaba (BABA) stock a buy right now? Here'...</td>\n",
       "      <td>26</td>\n",
       "      <td>0</td>\n",
       "      <td>6</td>\n",
       "      <td>NaN</td>\n",
       "    </tr>\n",
       "  </tbody>\n",
       "</table>\n",
       "<p>100 rows × 7 columns</p>\n",
       "</div>"
      ],
      "text/plain": [
       "                   ID                      PostID  \\\n",
       "0   10157787482336116  2021-05-31 17:24:31.968425   \n",
       "1   10157787473471116  2021-05-31 17:24:33.154690   \n",
       "2   10157786137676116  2021-05-30 23:24:36.751058   \n",
       "3   10157785457846116         2021-05-30 16:57:00   \n",
       "4   10157781483501116         2021-05-30 15:16:00   \n",
       "..                ...                         ...   \n",
       "95  10157752242556116         2021-05-14 18:48:00   \n",
       "96  10157752198606116         2021-05-14 18:12:00   \n",
       "97  10157752111496116         2021-05-14 17:15:00   \n",
       "98    511454683555306         2021-05-13 23:04:00   \n",
       "99  10157750560951116         2021-05-13 22:23:00   \n",
       "\n",
       "                                             PostDate  Text  Likes  Shares  \\\n",
       "0   Trade like the pro's and don't miss this speci...     3      0       2   \n",
       "1   IBD’s #MemorialDay sale is here! Now’s your ch...     9      0       0   \n",
       "2   IBD’s #MemorialDay sale is here! Now’s your ch...    11      1       1   \n",
       "3   IBD’s #MemorialDay sale is here! Now’s your ch...    14      0       1   \n",
       "4   Work smarter, not harder.   Working Smart Lets...    67      3       3   \n",
       "..                                                ...   ...    ...     ...   \n",
       "95  If you want to learn how to invest in winning ...    22      3       1   \n",
       "96  If you're worried about inflation, these S&P 5...    23      1       2   \n",
       "97  #TaxDay in May? Taxes may be confusing, but in...    10      0       2   \n",
       "98  Stock market rebounds after three-session slum...    67     37      28   \n",
       "99  Is Alibaba (BABA) stock a buy right now? Here'...    26      0       6   \n",
       "\n",
       "    Comments  \n",
       "0        NaN  \n",
       "1        NaN  \n",
       "2        NaN  \n",
       "3        NaN  \n",
       "4        NaN  \n",
       "..       ...  \n",
       "95       NaN  \n",
       "96       NaN  \n",
       "97       NaN  \n",
       "98       NaN  \n",
       "99       NaN  \n",
       "\n",
       "[100 rows x 7 columns]"
      ]
     },
     "execution_count": 1,
     "metadata": {},
     "output_type": "execute_result"
    }
   ],
   "source": [
    "import pandas as pd\n",
    "fpath = 'facebook_data_investorsbusinessdaily.tsv'\n",
    "post_data = pd.read_csv(fpath, sep='\\t',index_col=None, converters={1: str})\n",
    "post_data.head(100)"
   ]
  },
  {
   "cell_type": "code",
   "execution_count": 2,
   "metadata": {},
   "outputs": [
    {
     "data": {
      "text/plain": [
       "0        10157787482336116\n",
       "1        10157787473471116\n",
       "2        10157786137676116\n",
       "3        10157785457846116\n",
       "4        10157781483501116\n",
       "               ...        \n",
       "19223          60575511785\n",
       "19224          61086136875\n",
       "19225          49780639158\n",
       "19226          55885184723\n",
       "19227          71624683078\n",
       "Name: PostID, Length: 19228, dtype: object"
      ]
     },
     "execution_count": 2,
     "metadata": {},
     "output_type": "execute_result"
    }
   ],
   "source": [
    "post_data.columns = ['PostID','PostDate','Text','Likes','Share','Comments','Nan']\n",
    "post_data['PostID']"
   ]
  },
  {
   "cell_type": "code",
   "execution_count": 32,
   "metadata": {},
   "outputs": [
    {
     "data": {
      "text/plain": [
       "'71624683078'"
      ]
     },
     "execution_count": 32,
     "metadata": {},
     "output_type": "execute_result"
    }
   ],
   "source": [
    "post_data.loc[i,'PostID']"
   ]
  },
  {
   "cell_type": "code",
   "execution_count": 3,
   "metadata": {},
   "outputs": [],
   "source": [
    "pos_ids = list(post_data[\"PostID\"])\n",
    "count_ids = 0\n",
    "incremental_index = 0"
   ]
  },
  {
   "cell_type": "code",
   "execution_count": null,
   "metadata": {},
   "outputs": [],
   "source": [
    "\n",
    "with open('facebook_data_investorsbusinessdaily_comments_v3.tsv', 'w', encoding=\"utf-8\") as tsvfile:\n",
    "    tsv_writer = csv.writer(tsvfile, delimiter='\\t')\n",
    "    tsv_writer.writerow(['ID', 'PostID','PostDate','CommentID','CommentDate','CommenterURL','CommentText'])\n",
    "    for post_id in pos_ids:\n",
    "        try:\n",
    "            for post in get_posts(post_urls=[post_id],timeout = 60, options={'comments': True},\n",
    "                          cookies = \"facebook_cookies.txt\"):\n",
    "                if post['comments']>0:\n",
    "                    if post['comments_full'] == None:\n",
    "                        print(\"You are temporarely blocked! Come and run the code later\")\n",
    "                        print(\"Last post number is:\" + str(count_ids) )\n",
    "                        #pos_ids = pos_ids[count_ids:]\n",
    "\n",
    "                    else:\n",
    "                        comment_counter = 0\n",
    "                        row = [incremental_index, post['post_id'],post['time'],None, None,None,None]\n",
    "                        for comment in post['comments_full']:\n",
    "                            row[3] = comment['comment_id']\n",
    "                            row[4] = comment['comment_time']\n",
    "                            row[5] = comment['commenter_url'].replace('https://facebook.com/',' ')\n",
    "                            row[6] = comment['comment_text'].replace('\\t',' ').replace('\\n',' ')\n",
    "                            tsv_writer.writerow(row)\n",
    "                            incremental_index +=1\n",
    "                            row[0] = incremental_index\n",
    "                            comment_counter+=1\n",
    "\n",
    "        except:\n",
    "            None\n",
    "        count_ids+=1\n"
   ]
  },
  {
   "cell_type": "code",
   "execution_count": 16,
   "metadata": {},
   "outputs": [
    {
     "data": {
      "text/plain": [
       "19228"
      ]
     },
     "execution_count": 16,
     "metadata": {},
     "output_type": "execute_result"
    }
   ],
   "source": [
    "len(pos_ids)"
   ]
  },
  {
   "cell_type": "code",
   "execution_count": 15,
   "metadata": {},
   "outputs": [],
   "source": [
    "pos_ids = list(post_data[\"PostID\"])\n",
    "for i in range(len(pos_ids)):\n",
    "    if pos_ids[i] == 10106072824328163:\n",
    "        print(i)"
   ]
  },
  {
   "cell_type": "code",
   "execution_count": null,
   "metadata": {},
   "outputs": [],
   "source": [
    "pos_ids = list(post_data[\"PostID\"])\n",
    "pos_ids = pos_ids[10992:]\n",
    "count_ids = 10992"
   ]
  },
  {
   "cell_type": "code",
   "execution_count": 34,
   "metadata": {},
   "outputs": [],
   "source": []
  },
  {
   "cell_type": "code",
   "execution_count": 35,
   "metadata": {},
   "outputs": [
    {
     "data": {
      "text/plain": [
       "{'post_id': '71624683078',\n",
       " 'text': 'Five steps to stay on top of the market! Watch NOW: http://beta.investors.com/MediaCenter/default.aspx?mediaID=470331',\n",
       " 'post_text': 'Five steps to stay on top of the market! Watch NOW: http://beta.investors.com/MediaCenter/default.aspx?mediaID=470331',\n",
       " 'shared_text': '',\n",
       " 'time': datetime.datetime(2009, 3, 14, 1, 26),\n",
       " 'image': None,\n",
       " 'image_lowquality': None,\n",
       " 'images': [],\n",
       " 'images_description': [],\n",
       " 'images_lowquality': [],\n",
       " 'images_lowquality_description': [],\n",
       " 'video': None,\n",
       " 'video_duration_seconds': None,\n",
       " 'video_height': None,\n",
       " 'video_id': None,\n",
       " 'video_quality': None,\n",
       " 'video_size_MB': None,\n",
       " 'video_thumbnail': None,\n",
       " 'video_watches': None,\n",
       " 'video_width': None,\n",
       " 'likes': 0,\n",
       " 'comments': 0,\n",
       " 'shares': 0,\n",
       " 'post_url': 'https://facebook.com/story.php?story_fbid=71624683078&id=18107421115',\n",
       " 'link': 'http://beta.investors.com/MediaCenter/default.aspx?mediaID=470331&fbclid=IwAR27mYnPcv2b2NTCeKICEaawXW0a_Wo8glzcBZWKkDdGxl4tM-d7GLKwSCM',\n",
       " 'user_id': '18107421115',\n",
       " 'username': \"Investor's Business Daily\",\n",
       " 'user_url': 'https://facebook.com/investorsbusinessdaily/?refid=52&__tn__=C-R',\n",
       " 'is_live': False,\n",
       " 'factcheck': None,\n",
       " 'shared_post_id': None,\n",
       " 'shared_time': None,\n",
       " 'shared_user_id': None,\n",
       " 'shared_username': None,\n",
       " 'shared_post_url': None,\n",
       " 'available': True,\n",
       " 'comments_full': [],\n",
       " 'reactors': None,\n",
       " 'w3_fb_url': None}"
      ]
     },
     "execution_count": 35,
     "metadata": {},
     "output_type": "execute_result"
    }
   ],
   "source": [
    "  post"
   ]
  },
  {
   "cell_type": "code",
   "execution_count": null,
   "metadata": {},
   "outputs": [],
   "source": []
  }
 ],
 "metadata": {
  "kernelspec": {
   "display_name": "Python 3",
   "language": "python",
   "name": "python3"
  },
  "language_info": {
   "codemirror_mode": {
    "name": "ipython",
    "version": 3
   },
   "file_extension": ".py",
   "mimetype": "text/x-python",
   "name": "python",
   "nbconvert_exporter": "python",
   "pygments_lexer": "ipython3",
   "version": "3.7.6"
  }
 },
 "nbformat": 4,
 "nbformat_minor": 5
}
