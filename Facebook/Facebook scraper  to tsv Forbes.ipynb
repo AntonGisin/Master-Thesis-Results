{
 "cells": [
  {
   "cell_type": "code",
   "execution_count": null,
   "metadata": {},
   "outputs": [],
   "source": [
    "from facebook_scraper import get_posts\n",
    "import csv"
   ]
  },
  {
   "cell_type": "code",
   "execution_count": null,
   "metadata": {
    "scrolled": true
   },
   "outputs": [],
   "source": [
    "incremental_index = 1\n",
    "with open('facebook_data_Forbes_comments.tsv', 'w', encoding=\"utf-8\") as tsvfile:\n",
    "    tsv_writer = csv.writer(tsvfile, delimiter='\\t')\n",
    "    tsv_writer.writerow(['ID', 'PostID','PostDate','Text','Likes','Shares','Comments','Comment_Text'])\n",
    "    for post in get_posts('Forbes', pages=35000,timeout = 60, options={'comments': True},extra_info=True, cookies = \"facebook_cookies.txt\"):\n",
    "        if post['text']!=None:\n",
    "            row = [incremental_index, post['post_id'], post['time']\n",
    "                   , post['text'].replace('\\t',' ').replace('\\n',' ').replace('FORBES.COM','')\n",
    "                   ,post['likes'],post['shares'],post['comments'], None]\n",
    "            if post['comments_full'] == None:\n",
    "                tsv_writer.writerow(row)\n",
    "                incremental_index +=1\n",
    "            else:\n",
    "                for comment in post['comments_full']:\n",
    "                    row[7] = comment['comment_text'].replace('\\t',' ').replace('\\n',' ')\n",
    "                    tsv_writer.writerow(row)\n",
    "                    incremental_index +=1\n",
    "                \n",
    "                "
   ]
  },
  {
   "cell_type": "code",
   "execution_count": null,
   "metadata": {},
   "outputs": [],
   "source": [
    "post"
   ]
  },
  {
   "cell_type": "code",
   "execution_count": null,
   "metadata": {},
   "outputs": [],
   "source": [
    "incremental_index = 1\n",
    "with open('facebook_data_Forbes_v2.tsv', 'w', encoding=\"utf-8\") as tsvfile:\n",
    "    tsv_writer = csv.writer(tsvfile, delimiter='\\t')\n",
    "    tsv_writer.writerow(['ID', 'PostID','PostDate','Text','Likes','Shares','Comments'])\n",
    "    for post in get_posts('Forbes', pages=35000,timeout = 60, options={'comments': False},\n",
    "                          cookies = \"facebook_cookies.txt\"):\n",
    "        if post['text']!=None:\n",
    "            row = [incremental_index, post['post_id'], post['time']\n",
    "                   , post['text'].replace('\\t',' ').replace('\\n',' ').replace('FORBES.COM','')\n",
    "                   ,post['likes'],post['shares'],post['comments'], None]\n",
    "            tsv_writer.writerow(row)\n",
    "            incremental_index +=1\n",
    "\n",
    "                "
   ]
  },
  {
   "cell_type": "code",
   "execution_count": null,
   "metadata": {},
   "outputs": [],
   "source": [
    "tsvfile.close()"
   ]
  }
 ],
 "metadata": {
  "kernelspec": {
   "display_name": "Python 3",
   "language": "python",
   "name": "python3"
  },
  "language_info": {
   "codemirror_mode": {
    "name": "ipython",
    "version": 3
   },
   "file_extension": ".py",
   "mimetype": "text/x-python",
   "name": "python",
   "nbconvert_exporter": "python",
   "pygments_lexer": "ipython3",
   "version": "3.7.6"
  }
 },
 "nbformat": 4,
 "nbformat_minor": 5
}
