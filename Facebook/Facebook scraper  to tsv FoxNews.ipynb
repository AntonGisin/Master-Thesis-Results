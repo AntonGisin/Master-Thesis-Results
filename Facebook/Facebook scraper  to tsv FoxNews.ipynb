{
 "cells": [
  {
   "cell_type": "code",
   "execution_count": 12,
   "metadata": {},
   "outputs": [],
   "source": [
    "from facebook_scraper import get_posts\n",
    "import csv"
   ]
  },
  {
   "cell_type": "code",
   "execution_count": 3,
   "metadata": {},
   "outputs": [],
   "source": [
    "incremental_index = 1\n",
    "with open('facebook_data_FoxNews.tsv', 'w', encoding=\"utf-8\") as tsvfile:\n",
    "    tsv_writer = csv.writer(tsvfile, delimiter='\\t')\n",
    "    tsv_writer.writerow(['ID', 'PostID','PostDate','Text','Likes','Shares','Comments'])\n",
    "    for post in get_posts('FoxNews', pages=60000,timeout = 60, options={'comments': False},\n",
    "                          cookies = \"facebook_cookies.txt\"):\n",
    "        if post['text']!=None:\n",
    "            row = [incremental_index, post['post_id'], post['time']\n",
    "                   , post['text'].replace('\\t',' ').replace('\\n',' ').replace('FOXNEWS.COM','')\n",
    "                   ,post['likes'],post['shares'],post['comments'], None]\n",
    "            tsv_writer.writerow(row)\n",
    "            incremental_index +=1\n"
   ]
  },
  {
   "cell_type": "code",
   "execution_count": 1,
   "metadata": {},
   "outputs": [
    {
     "data": {
      "text/html": [
       "<div>\n",
       "<style scoped>\n",
       "    .dataframe tbody tr th:only-of-type {\n",
       "        vertical-align: middle;\n",
       "    }\n",
       "\n",
       "    .dataframe tbody tr th {\n",
       "        vertical-align: top;\n",
       "    }\n",
       "\n",
       "    .dataframe thead th {\n",
       "        text-align: right;\n",
       "    }\n",
       "</style>\n",
       "<table border=\"1\" class=\"dataframe\">\n",
       "  <thead>\n",
       "    <tr style=\"text-align: right;\">\n",
       "      <th></th>\n",
       "      <th>ID</th>\n",
       "      <th>PostID</th>\n",
       "      <th>PostDate</th>\n",
       "      <th>Text</th>\n",
       "      <th>Likes</th>\n",
       "      <th>Shares</th>\n",
       "      <th>Comments</th>\n",
       "    </tr>\n",
       "  </thead>\n",
       "  <tbody>\n",
       "    <tr>\n",
       "      <th>1</th>\n",
       "      <td>10160715410856336</td>\n",
       "      <td>2021-05-31 20:07:05.486548</td>\n",
       "      <td>\"My heart is a little heavy, but at the same t...</td>\n",
       "      <td>1400</td>\n",
       "      <td>96</td>\n",
       "      <td>132</td>\n",
       "      <td>NaN</td>\n",
       "    </tr>\n",
       "    <tr>\n",
       "      <th>2</th>\n",
       "      <td>10160715863736336</td>\n",
       "      <td>2021-05-31 19:35:06.535530</td>\n",
       "      <td>Visitors pause in remembrance early Monday mor...</td>\n",
       "      <td>5300</td>\n",
       "      <td>497</td>\n",
       "      <td>347</td>\n",
       "      <td>NaN</td>\n",
       "    </tr>\n",
       "    <tr>\n",
       "      <th>3</th>\n",
       "      <td>10160715503186336</td>\n",
       "      <td>2021-05-31 19:25:08.942501</td>\n",
       "      <td>Sen. Tom Cotton writes in a Fox News Opinion p...</td>\n",
       "      <td>3500</td>\n",
       "      <td>336</td>\n",
       "      <td>354</td>\n",
       "      <td>NaN</td>\n",
       "    </tr>\n",
       "    <tr>\n",
       "      <th>4</th>\n",
       "      <td>10160715562076336</td>\n",
       "      <td>2021-05-31 19:25:11.017201</td>\n",
       "      <td>Former President Donald Trump said in a Memori...</td>\n",
       "      <td>14000</td>\n",
       "      <td>600</td>\n",
       "      <td>2500</td>\n",
       "      <td>NaN</td>\n",
       "    </tr>\n",
       "    <tr>\n",
       "      <th>5</th>\n",
       "      <td>147644504068484</td>\n",
       "      <td>2021-05-31 18:25:11.944197</td>\n",
       "      <td>Veterans and active members of the armed force...</td>\n",
       "      <td>2900</td>\n",
       "      <td>479</td>\n",
       "      <td>1600</td>\n",
       "      <td>NaN</td>\n",
       "    </tr>\n",
       "  </tbody>\n",
       "</table>\n",
       "</div>"
      ],
      "text/plain": [
       "                  ID                      PostID  \\\n",
       "1  10160715410856336  2021-05-31 20:07:05.486548   \n",
       "2  10160715863736336  2021-05-31 19:35:06.535530   \n",
       "3  10160715503186336  2021-05-31 19:25:08.942501   \n",
       "4  10160715562076336  2021-05-31 19:25:11.017201   \n",
       "5    147644504068484  2021-05-31 18:25:11.944197   \n",
       "\n",
       "                                            PostDate   Text  Likes  Shares  \\\n",
       "1  \"My heart is a little heavy, but at the same t...   1400     96     132   \n",
       "2  Visitors pause in remembrance early Monday mor...   5300    497     347   \n",
       "3  Sen. Tom Cotton writes in a Fox News Opinion p...   3500    336     354   \n",
       "4  Former President Donald Trump said in a Memori...  14000    600    2500   \n",
       "5  Veterans and active members of the armed force...   2900    479    1600   \n",
       "\n",
       "   Comments  \n",
       "1       NaN  \n",
       "2       NaN  \n",
       "3       NaN  \n",
       "4       NaN  \n",
       "5       NaN  "
      ]
     },
     "execution_count": 1,
     "metadata": {},
     "output_type": "execute_result"
    }
   ],
   "source": [
    "import pandas as pd\n",
    "fpath = 'facebook_data_FoxNews.tsv'\n",
    "post_data = pd.read_csv(fpath, sep='\\t',index_col=None, converters={1: str})\n",
    "post_data.head()"
   ]
  },
  {
   "cell_type": "code",
   "execution_count": 2,
   "metadata": {},
   "outputs": [
    {
     "data": {
      "text/html": [
       "<div>\n",
       "<style scoped>\n",
       "    .dataframe tbody tr th:only-of-type {\n",
       "        vertical-align: middle;\n",
       "    }\n",
       "\n",
       "    .dataframe tbody tr th {\n",
       "        vertical-align: top;\n",
       "    }\n",
       "\n",
       "    .dataframe thead th {\n",
       "        text-align: right;\n",
       "    }\n",
       "</style>\n",
       "<table border=\"1\" class=\"dataframe\">\n",
       "  <thead>\n",
       "    <tr style=\"text-align: right;\">\n",
       "      <th></th>\n",
       "      <th>PostID</th>\n",
       "      <th>PostDate</th>\n",
       "      <th>Text</th>\n",
       "      <th>Likes</th>\n",
       "      <th>Share</th>\n",
       "      <th>Comments</th>\n",
       "      <th>Nan</th>\n",
       "    </tr>\n",
       "  </thead>\n",
       "  <tbody>\n",
       "    <tr>\n",
       "      <th>1</th>\n",
       "      <td>10160715410856336</td>\n",
       "      <td>2021-05-31 20:07:05.486548</td>\n",
       "      <td>\"My heart is a little heavy, but at the same t...</td>\n",
       "      <td>1400</td>\n",
       "      <td>96</td>\n",
       "      <td>132</td>\n",
       "      <td>NaN</td>\n",
       "    </tr>\n",
       "    <tr>\n",
       "      <th>2</th>\n",
       "      <td>10160715863736336</td>\n",
       "      <td>2021-05-31 19:35:06.535530</td>\n",
       "      <td>Visitors pause in remembrance early Monday mor...</td>\n",
       "      <td>5300</td>\n",
       "      <td>497</td>\n",
       "      <td>347</td>\n",
       "      <td>NaN</td>\n",
       "    </tr>\n",
       "    <tr>\n",
       "      <th>3</th>\n",
       "      <td>10160715503186336</td>\n",
       "      <td>2021-05-31 19:25:08.942501</td>\n",
       "      <td>Sen. Tom Cotton writes in a Fox News Opinion p...</td>\n",
       "      <td>3500</td>\n",
       "      <td>336</td>\n",
       "      <td>354</td>\n",
       "      <td>NaN</td>\n",
       "    </tr>\n",
       "    <tr>\n",
       "      <th>4</th>\n",
       "      <td>10160715562076336</td>\n",
       "      <td>2021-05-31 19:25:11.017201</td>\n",
       "      <td>Former President Donald Trump said in a Memori...</td>\n",
       "      <td>14000</td>\n",
       "      <td>600</td>\n",
       "      <td>2500</td>\n",
       "      <td>NaN</td>\n",
       "    </tr>\n",
       "    <tr>\n",
       "      <th>5</th>\n",
       "      <td>147644504068484</td>\n",
       "      <td>2021-05-31 18:25:11.944197</td>\n",
       "      <td>Veterans and active members of the armed force...</td>\n",
       "      <td>2900</td>\n",
       "      <td>479</td>\n",
       "      <td>1600</td>\n",
       "      <td>NaN</td>\n",
       "    </tr>\n",
       "  </tbody>\n",
       "</table>\n",
       "</div>"
      ],
      "text/plain": [
       "              PostID                    PostDate  \\\n",
       "1  10160715410856336  2021-05-31 20:07:05.486548   \n",
       "2  10160715863736336  2021-05-31 19:35:06.535530   \n",
       "3  10160715503186336  2021-05-31 19:25:08.942501   \n",
       "4  10160715562076336  2021-05-31 19:25:11.017201   \n",
       "5    147644504068484  2021-05-31 18:25:11.944197   \n",
       "\n",
       "                                                Text  Likes  Share  Comments  \\\n",
       "1  \"My heart is a little heavy, but at the same t...   1400     96       132   \n",
       "2  Visitors pause in remembrance early Monday mor...   5300    497       347   \n",
       "3  Sen. Tom Cotton writes in a Fox News Opinion p...   3500    336       354   \n",
       "4  Former President Donald Trump said in a Memori...  14000    600      2500   \n",
       "5  Veterans and active members of the armed force...   2900    479      1600   \n",
       "\n",
       "   Nan  \n",
       "1  NaN  \n",
       "2  NaN  \n",
       "3  NaN  \n",
       "4  NaN  \n",
       "5  NaN  "
      ]
     },
     "execution_count": 2,
     "metadata": {},
     "output_type": "execute_result"
    }
   ],
   "source": [
    "post_data.columns = ['PostID','PostDate','Text','Likes','Share','Comments','Nan']\n",
    "post_data.head()"
   ]
  },
  {
   "cell_type": "code",
   "execution_count": 4,
   "metadata": {},
   "outputs": [],
   "source": [
    "pos_ids = list(post_data[\"PostID\"])\n",
    "count_ids = 0\n",
    "incremental_index = 34571"
   ]
  },
  {
   "cell_type": "code",
   "execution_count": 24,
   "metadata": {},
   "outputs": [],
   "source": [
    "\n",
    "with open('facebook_data_FoxNews_comments.tsv', 'a', encoding=\"utf-8\") as tsvfile:\n",
    "    tsv_writer = csv.writer(tsvfile, delimiter='\\t')\n",
    "    #tsv_writer.writerow(['ID', 'PostID','PostDate','CommentID','CommentDate','CommenterURL','CommentText'])\n",
    "    for post_id in pos_ids:\n",
    "        try:\n",
    "            for post in get_posts(post_urls=[post_id],timeout = 60, options={'comments': True},\n",
    "                          cookies = \"facebook_cookies.txt\"):\n",
    "                if post['comments']>0:\n",
    "                    if post['comments_full'] == None:\n",
    "                        print(\"You are temporarely blocked! Come and run the code later\")\n",
    "                        print(\"Last post number is:\" + str(count_ids) )\n",
    "                        #pos_ids = pos_ids[count_ids:]\n",
    "\n",
    "                    else:\n",
    "                        comment_counter = 0\n",
    "                        row = [incremental_index, post['post_id'],post['time'],None, None,None,None]\n",
    "                        for comment in post['comments_full']:\n",
    "                            row[3] = comment['comment_id']\n",
    "                            row[4] = comment['comment_time']\n",
    "                            row[5] = comment['commenter_url'].replace('https://facebook.com/',' ')\n",
    "                            row[6] = comment['comment_text'].replace('\\t',' ').replace('\\n',' ').replace('#','')\n",
    "                            tsv_writer.writerow(row)\n",
    "                            incremental_index +=1\n",
    "                            row[0] = incremental_index\n",
    "                            comment_counter+=1\n",
    "\n",
    "        except:\n",
    "            None\n",
    "        count_ids+=1\n",
    "\n",
    "                "
   ]
  },
  {
   "cell_type": "code",
   "execution_count": 17,
   "metadata": {},
   "outputs": [
    {
     "name": "stdout",
     "output_type": "stream",
     "text": [
      "2143\n"
     ]
    }
   ],
   "source": [
    "pos_ids = list(post_data[\"PostID\"])\n",
    "for i in range(len(pos_ids)):\n",
    "    if pos_ids[i] == '301365751270186':\n",
    "        print(i)"
   ]
  },
  {
   "cell_type": "code",
   "execution_count": 5,
   "metadata": {},
   "outputs": [
    {
     "data": {
      "text/plain": [
       "'22459472242'"
      ]
     },
     "execution_count": 5,
     "metadata": {},
     "output_type": "execute_result"
    }
   ],
   "source": [
    "pos_ids[i]"
   ]
  },
  {
   "cell_type": "code",
   "execution_count": 23,
   "metadata": {},
   "outputs": [],
   "source": [
    "pos_ids = list(post_data[\"PostID\"])\n",
    "pos_ids = pos_ids[2144+1:]\n",
    "count_ids = 2144+1\n",
    "incremental_index = 62132"
   ]
  },
  {
   "cell_type": "code",
   "execution_count": 10,
   "metadata": {},
   "outputs": [],
   "source": []
  },
  {
   "cell_type": "code",
   "execution_count": null,
   "metadata": {},
   "outputs": [],
   "source": []
  }
 ],
 "metadata": {
  "kernelspec": {
   "display_name": "Python 3",
   "language": "python",
   "name": "python3"
  },
  "language_info": {
   "codemirror_mode": {
    "name": "ipython",
    "version": 3
   },
   "file_extension": ".py",
   "mimetype": "text/x-python",
   "name": "python",
   "nbconvert_exporter": "python",
   "pygments_lexer": "ipython3",
   "version": "3.7.6"
  }
 },
 "nbformat": 4,
 "nbformat_minor": 5
}
