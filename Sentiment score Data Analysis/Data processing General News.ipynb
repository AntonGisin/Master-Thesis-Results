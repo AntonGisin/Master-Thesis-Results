{
 "cells": [
  {
   "cell_type": "code",
   "execution_count": 1,
   "metadata": {},
   "outputs": [],
   "source": [
    "import csv\n",
    "import pandas as pd\n",
    "from matplotlib import pyplot as plt\n",
    "import seaborn as sns\n",
    "import numpy as np\n",
    "import datetime as dt\n",
    "import pandas_datareader.data as web\n",
    "import statsmodels.api as sm\n",
    "from statsmodels.tsa.stattools import grangercausalitytests\n",
    "\n",
    "%matplotlib inline"
   ]
  },
  {
   "cell_type": "code",
   "execution_count": 3,
   "metadata": {},
   "outputs": [],
   "source": [
    "fpath = 'facebook_data_CNN_post_sentimen.tsv'\n",
    "post_data = pd.read_csv(fpath, sep='\\t')\n"
   ]
  },
  {
   "cell_type": "code",
   "execution_count": 24,
   "metadata": {},
   "outputs": [
    {
     "name": "stderr",
     "output_type": "stream",
     "text": [
      "C:\\Users\\Windows\\anaconda3\\lib\\site-packages\\seaborn\\distributions.py:2557: FutureWarning: `distplot` is a deprecated function and will be removed in a future version. Please adapt your code to use either `displot` (a figure-level function with similar flexibility) or `kdeplot` (an axes-level function for kernel density plots).\n",
      "  warnings.warn(msg, FutureWarning)\n"
     ]
    },
    {
     "data": {
      "text/plain": [
       "Text(0, 0.5, 'Posts')"
      ]
     },
     "execution_count": 24,
     "metadata": {},
     "output_type": "execute_result"
    },
    {
     "data": {
      "image/png": "[encoded data removed]",
      "text/plain": [
       "<Figure size 432x288 with 1 Axes>"
      ]
     },
     "metadata": {
      "needs_background": "light"
     },
     "output_type": "display_data"
    }
   ],
   "source": [
    "plt.hist(post_data['SentimentScore'], color = 'blue', edgecolor = 'black',\n",
    "         bins = int(180/5))\n",
    "\n",
    "# seaborn histogram\n",
    "sns.distplot(post_data['SentimentScore'], hist=False, kde=True, \n",
    "             bins=int(180/5), color = 'blue',\n",
    "             hist_kws={'edgecolor':'black'})\n",
    "# Add labels\n",
    "plt.title('Histogram of Sentiment Score')\n",
    "plt.xlabel('Score')\n",
    "plt.ylabel('Posts')"
   ]
  },
  {
   "cell_type": "code",
   "execution_count": 25,
   "metadata": {},
   "outputs": [
    {
     "name": "stderr",
     "output_type": "stream",
     "text": [
      "C:\\Users\\Windows\\anaconda3\\lib\\site-packages\\seaborn\\distributions.py:2557: FutureWarning: `distplot` is a deprecated function and will be removed in a future version. Please adapt your code to use either `displot` (a figure-level function with similar flexibility) or `kdeplot` (an axes-level function for kernel density plots).\n",
      "  warnings.warn(msg, FutureWarning)\n"
     ]
    },
    {
     "data": {
      "text/plain": [
       "Text(0, 0.5, 'Posts')"
      ]
     },
     "execution_count": 25,
     "metadata": {},
     "output_type": "execute_result"
    },
    {
     "data": {
      "image/png": "[encoded data removed]",
      "text/plain": [
       "<Figure size 432x288 with 1 Axes>"
      ]
     },
     "metadata": {
      "needs_background": "light"
     },
     "output_type": "display_data"
    }
   ],
   "source": [
    "\n",
    "\n",
    "# seaborn histogram\n",
    "sns.distplot((post_data['SentimentScore'] - post_data['SentimentScore'].mean())/post_data['SentimentScore'].std(), hist=False, kde=True, \n",
    "             bins=int(180/5), color = 'blue',\n",
    "             hist_kws={'edgecolor':'black'})\n",
    "# Add labels\n",
    "plt.title('Histogram of Sentiment Score')\n",
    "plt.xlabel('Score')\n",
    "plt.ylabel('Posts')"
   ]
  },
  {
   "cell_type": "code",
   "execution_count": 26,
   "metadata": {},
   "outputs": [
    {
     "data": {
      "text/plain": [
       "count    18092.000000\n",
       "mean         0.008855\n",
       "std          0.056207\n",
       "min         -0.625000\n",
       "25%         -0.017241\n",
       "50%          0.000000\n",
       "75%          0.037500\n",
       "max          0.750000\n",
       "Name: SentimentScore, dtype: float64"
      ]
     },
     "execution_count": 26,
     "metadata": {},
     "output_type": "execute_result"
    }
   ],
   "source": [
    "post_data['SentimentScore'].describe()"
   ]
  },
  {
   "cell_type": "code",
   "execution_count": 27,
   "metadata": {
    "scrolled": true
   },
   "outputs": [],
   "source": [
    "post_data['PostDate'] = pd.to_datetime(post_data['PostDate'], errors='coerce')\n",
    "\n",
    "post_data['DateMonth'] = post_data['PostDate'].dt.strftime('%Y-%m')"
   ]
  },
  {
   "cell_type": "code",
   "execution_count": 28,
   "metadata": {},
   "outputs": [
    {
     "data": {
      "text/plain": [
       "0   2021-05-16 18:33:17\n",
       "1   2021-05-16 18:01:11\n",
       "2   2021-05-16 18:00:31\n",
       "3   2021-05-16 17:41:09\n",
       "4   2021-05-16 17:00:52\n",
       "Name: PostDate, dtype: datetime64[ns]"
      ]
     },
     "execution_count": 28,
     "metadata": {},
     "output_type": "execute_result"
    }
   ],
   "source": [
    "post_data['PostDate'].head()"
   ]
  },
  {
   "cell_type": "code",
   "execution_count": 29,
   "metadata": {},
   "outputs": [
    {
     "data": {
      "text/plain": [
       "0    2021-05\n",
       "1    2021-05\n",
       "2    2021-05\n",
       "3    2021-05\n",
       "4    2021-05\n",
       "Name: DateMonth, dtype: object"
      ]
     },
     "execution_count": 29,
     "metadata": {},
     "output_type": "execute_result"
    }
   ],
   "source": [
    "post_data['DateMonth'].head()"
   ]
  },
  {
   "cell_type": "code",
   "execution_count": 30,
   "metadata": {},
   "outputs": [],
   "source": [
    "Monthly_Data = post_data.groupby('DateMonth').agg({'SentimentScore': 'mean','PostID':'count'})"
   ]
  },
  {
   "cell_type": "code",
   "execution_count": 12,
   "metadata": {},
   "outputs": [
    {
     "data": {
      "text/html": [
       "<div>\n",
       "<style scoped>\n",
       "    .dataframe tbody tr th:only-of-type {\n",
       "        vertical-align: middle;\n",
       "    }\n",
       "\n",
       "    .dataframe tbody tr th {\n",
       "        vertical-align: top;\n",
       "    }\n",
       "\n",
       "    .dataframe thead th {\n",
       "        text-align: right;\n",
       "    }\n",
       "</style>\n",
       "<table border=\"1\" class=\"dataframe\">\n",
       "  <thead>\n",
       "    <tr style=\"text-align: right;\">\n",
       "      <th></th>\n",
       "      <th>SentimentScore</th>\n",
       "      <th>PostID</th>\n",
       "    </tr>\n",
       "    <tr>\n",
       "      <th>DateMonth</th>\n",
       "      <th></th>\n",
       "      <th></th>\n",
       "    </tr>\n",
       "  </thead>\n",
       "  <tbody>\n",
       "    <tr>\n",
       "      <th>2011-06</th>\n",
       "      <td>0.026768</td>\n",
       "      <td>18</td>\n",
       "    </tr>\n",
       "    <tr>\n",
       "      <th>2011-07</th>\n",
       "      <td>0.009693</td>\n",
       "      <td>18</td>\n",
       "    </tr>\n",
       "    <tr>\n",
       "      <th>2011-08</th>\n",
       "      <td>-0.002828</td>\n",
       "      <td>21</td>\n",
       "    </tr>\n",
       "    <tr>\n",
       "      <th>2011-09</th>\n",
       "      <td>0.015934</td>\n",
       "      <td>30</td>\n",
       "    </tr>\n",
       "    <tr>\n",
       "      <th>2011-10</th>\n",
       "      <td>0.013882</td>\n",
       "      <td>29</td>\n",
       "    </tr>\n",
       "    <tr>\n",
       "      <th>2011-11</th>\n",
       "      <td>0.008145</td>\n",
       "      <td>24</td>\n",
       "    </tr>\n",
       "    <tr>\n",
       "      <th>2011-12</th>\n",
       "      <td>0.015419</td>\n",
       "      <td>22</td>\n",
       "    </tr>\n",
       "    <tr>\n",
       "      <th>2012-01</th>\n",
       "      <td>0.000794</td>\n",
       "      <td>22</td>\n",
       "    </tr>\n",
       "    <tr>\n",
       "      <th>2012-02</th>\n",
       "      <td>0.029848</td>\n",
       "      <td>20</td>\n",
       "    </tr>\n",
       "    <tr>\n",
       "      <th>2012-03</th>\n",
       "      <td>0.033569</td>\n",
       "      <td>25</td>\n",
       "    </tr>\n",
       "    <tr>\n",
       "      <th>2012-04</th>\n",
       "      <td>0.030165</td>\n",
       "      <td>12</td>\n",
       "    </tr>\n",
       "    <tr>\n",
       "      <th>2012-05</th>\n",
       "      <td>0.016102</td>\n",
       "      <td>29</td>\n",
       "    </tr>\n",
       "    <tr>\n",
       "      <th>2012-06</th>\n",
       "      <td>0.022908</td>\n",
       "      <td>26</td>\n",
       "    </tr>\n",
       "    <tr>\n",
       "      <th>2012-07</th>\n",
       "      <td>0.033629</td>\n",
       "      <td>23</td>\n",
       "    </tr>\n",
       "    <tr>\n",
       "      <th>2012-08</th>\n",
       "      <td>0.009132</td>\n",
       "      <td>28</td>\n",
       "    </tr>\n",
       "    <tr>\n",
       "      <th>2012-09</th>\n",
       "      <td>0.026778</td>\n",
       "      <td>41</td>\n",
       "    </tr>\n",
       "    <tr>\n",
       "      <th>2012-10</th>\n",
       "      <td>0.038348</td>\n",
       "      <td>37</td>\n",
       "    </tr>\n",
       "    <tr>\n",
       "      <th>2012-11</th>\n",
       "      <td>0.023737</td>\n",
       "      <td>34</td>\n",
       "    </tr>\n",
       "    <tr>\n",
       "      <th>2012-12</th>\n",
       "      <td>0.033758</td>\n",
       "      <td>24</td>\n",
       "    </tr>\n",
       "    <tr>\n",
       "      <th>2013-01</th>\n",
       "      <td>0.010564</td>\n",
       "      <td>26</td>\n",
       "    </tr>\n",
       "  </tbody>\n",
       "</table>\n",
       "</div>"
      ],
      "text/plain": [
       "           SentimentScore  PostID\n",
       "DateMonth                        \n",
       "2011-06          0.026768      18\n",
       "2011-07          0.009693      18\n",
       "2011-08         -0.002828      21\n",
       "2011-09          0.015934      30\n",
       "2011-10          0.013882      29\n",
       "2011-11          0.008145      24\n",
       "2011-12          0.015419      22\n",
       "2012-01          0.000794      22\n",
       "2012-02          0.029848      20\n",
       "2012-03          0.033569      25\n",
       "2012-04          0.030165      12\n",
       "2012-05          0.016102      29\n",
       "2012-06          0.022908      26\n",
       "2012-07          0.033629      23\n",
       "2012-08          0.009132      28\n",
       "2012-09          0.026778      41\n",
       "2012-10          0.038348      37\n",
       "2012-11          0.023737      34\n",
       "2012-12          0.033758      24\n",
       "2013-01          0.010564      26"
      ]
     },
     "execution_count": 12,
     "metadata": {},
     "output_type": "execute_result"
    }
   ],
   "source": [
    "Monthly_Data.head(20)"
   ]
  },
  {
   "cell_type": "markdown",
   "metadata": {},
   "source": [
    "## Download S&P from Yahoo"
   ]
  },
  {
   "cell_type": "code",
   "execution_count": 31,
   "metadata": {},
   "outputs": [],
   "source": [
    "SnP_monthly = web.get_data_yahoo('^GSPC','01/01/2010',interval='m')"
   ]
  },
  {
   "cell_type": "code",
   "execution_count": 32,
   "metadata": {},
   "outputs": [
    {
     "data": {
      "text/html": [
       "<div>\n",
       "<style scoped>\n",
       "    .dataframe tbody tr th:only-of-type {\n",
       "        vertical-align: middle;\n",
       "    }\n",
       "\n",
       "    .dataframe tbody tr th {\n",
       "        vertical-align: top;\n",
       "    }\n",
       "\n",
       "    .dataframe thead th {\n",
       "        text-align: right;\n",
       "    }\n",
       "</style>\n",
       "<table border=\"1\" class=\"dataframe\">\n",
       "  <thead>\n",
       "    <tr style=\"text-align: right;\">\n",
       "      <th></th>\n",
       "      <th>High</th>\n",
       "      <th>Low</th>\n",
       "      <th>Open</th>\n",
       "      <th>Close</th>\n",
       "      <th>Volume</th>\n",
       "      <th>Adj Close</th>\n",
       "    </tr>\n",
       "    <tr>\n",
       "      <th>Date</th>\n",
       "      <th></th>\n",
       "      <th></th>\n",
       "      <th></th>\n",
       "      <th></th>\n",
       "      <th></th>\n",
       "      <th></th>\n",
       "    </tr>\n",
       "  </thead>\n",
       "  <tbody>\n",
       "    <tr>\n",
       "      <th>2010-01-01</th>\n",
       "      <td>1150.449951</td>\n",
       "      <td>1071.589966</td>\n",
       "      <td>1116.560059</td>\n",
       "      <td>1073.869995</td>\n",
       "      <td>90947580000</td>\n",
       "      <td>1073.869995</td>\n",
       "    </tr>\n",
       "    <tr>\n",
       "      <th>2010-02-01</th>\n",
       "      <td>1112.420044</td>\n",
       "      <td>1044.500000</td>\n",
       "      <td>1073.890015</td>\n",
       "      <td>1104.489990</td>\n",
       "      <td>84561340000</td>\n",
       "      <td>1104.489990</td>\n",
       "    </tr>\n",
       "    <tr>\n",
       "      <th>2010-03-01</th>\n",
       "      <td>1180.689941</td>\n",
       "      <td>1105.359985</td>\n",
       "      <td>1105.359985</td>\n",
       "      <td>1169.430054</td>\n",
       "      <td>103683550000</td>\n",
       "      <td>1169.430054</td>\n",
       "    </tr>\n",
       "    <tr>\n",
       "      <th>2010-04-01</th>\n",
       "      <td>1219.800049</td>\n",
       "      <td>1170.689941</td>\n",
       "      <td>1171.229980</td>\n",
       "      <td>1186.689941</td>\n",
       "      <td>116741910000</td>\n",
       "      <td>1186.689941</td>\n",
       "    </tr>\n",
       "    <tr>\n",
       "      <th>2010-05-01</th>\n",
       "      <td>1205.130005</td>\n",
       "      <td>1040.780029</td>\n",
       "      <td>1188.579956</td>\n",
       "      <td>1089.410034</td>\n",
       "      <td>127662780000</td>\n",
       "      <td>1089.410034</td>\n",
       "    </tr>\n",
       "    <tr>\n",
       "      <th>2010-06-01</th>\n",
       "      <td>1131.229980</td>\n",
       "      <td>1028.329956</td>\n",
       "      <td>1087.300049</td>\n",
       "      <td>1030.709961</td>\n",
       "      <td>110106750000</td>\n",
       "      <td>1030.709961</td>\n",
       "    </tr>\n",
       "    <tr>\n",
       "      <th>2010-07-01</th>\n",
       "      <td>1120.949951</td>\n",
       "      <td>1010.909973</td>\n",
       "      <td>1031.099976</td>\n",
       "      <td>1101.599976</td>\n",
       "      <td>94778110000</td>\n",
       "      <td>1101.599976</td>\n",
       "    </tr>\n",
       "    <tr>\n",
       "      <th>2010-08-01</th>\n",
       "      <td>1129.239990</td>\n",
       "      <td>1039.699951</td>\n",
       "      <td>1107.530029</td>\n",
       "      <td>1049.329956</td>\n",
       "      <td>85738250000</td>\n",
       "      <td>1049.329956</td>\n",
       "    </tr>\n",
       "    <tr>\n",
       "      <th>2010-09-01</th>\n",
       "      <td>1157.160034</td>\n",
       "      <td>1049.719971</td>\n",
       "      <td>1049.719971</td>\n",
       "      <td>1141.199951</td>\n",
       "      <td>79589450000</td>\n",
       "      <td>1141.199951</td>\n",
       "    </tr>\n",
       "    <tr>\n",
       "      <th>2010-10-01</th>\n",
       "      <td>1196.140015</td>\n",
       "      <td>1131.869995</td>\n",
       "      <td>1143.489990</td>\n",
       "      <td>1183.260010</td>\n",
       "      <td>89536270000</td>\n",
       "      <td>1183.260010</td>\n",
       "    </tr>\n",
       "  </tbody>\n",
       "</table>\n",
       "</div>"
      ],
      "text/plain": [
       "                   High          Low         Open        Close        Volume  \\\n",
       "Date                                                                           \n",
       "2010-01-01  1150.449951  1071.589966  1116.560059  1073.869995   90947580000   \n",
       "2010-02-01  1112.420044  1044.500000  1073.890015  1104.489990   84561340000   \n",
       "2010-03-01  1180.689941  1105.359985  1105.359985  1169.430054  103683550000   \n",
       "2010-04-01  1219.800049  1170.689941  1171.229980  1186.689941  116741910000   \n",
       "2010-05-01  1205.130005  1040.780029  1188.579956  1089.410034  127662780000   \n",
       "2010-06-01  1131.229980  1028.329956  1087.300049  1030.709961  110106750000   \n",
       "2010-07-01  1120.949951  1010.909973  1031.099976  1101.599976   94778110000   \n",
       "2010-08-01  1129.239990  1039.699951  1107.530029  1049.329956   85738250000   \n",
       "2010-09-01  1157.160034  1049.719971  1049.719971  1141.199951   79589450000   \n",
       "2010-10-01  1196.140015  1131.869995  1143.489990  1183.260010   89536270000   \n",
       "\n",
       "              Adj Close  \n",
       "Date                     \n",
       "2010-01-01  1073.869995  \n",
       "2010-02-01  1104.489990  \n",
       "2010-03-01  1169.430054  \n",
       "2010-04-01  1186.689941  \n",
       "2010-05-01  1089.410034  \n",
       "2010-06-01  1030.709961  \n",
       "2010-07-01  1101.599976  \n",
       "2010-08-01  1049.329956  \n",
       "2010-09-01  1141.199951  \n",
       "2010-10-01  1183.260010  "
      ]
     },
     "execution_count": 32,
     "metadata": {},
     "output_type": "execute_result"
    }
   ],
   "source": [
    "SnP_monthly.head(10)"
   ]
  },
  {
   "cell_type": "code",
   "execution_count": 33,
   "metadata": {},
   "outputs": [],
   "source": [
    "SnP_monthly.index = SnP_monthly.index + pd.DateOffset(months=1)\n",
    "SnP_monthly.index = SnP_monthly.index.strftime('%Y-%m')"
   ]
  },
  {
   "cell_type": "code",
   "execution_count": 34,
   "metadata": {},
   "outputs": [],
   "source": [
    "SnP_monthly['LogReturn'] = np.log(SnP_monthly['Adj Close']/SnP_monthly['Adj Close'].shift(1))"
   ]
  },
  {
   "cell_type": "markdown",
   "metadata": {},
   "source": [
    "## Granger test"
   ]
  },
  {
   "cell_type": "code",
   "execution_count": 35,
   "metadata": {},
   "outputs": [],
   "source": [
    "Granger_data = pd.merge(SnP_monthly,Monthly_Data, how= 'inner', left_index=True, right_index=True)"
   ]
  },
  {
   "cell_type": "code",
   "execution_count": 36,
   "metadata": {},
   "outputs": [],
   "source": [
    "Granger_data['SS_LogReturn'] = np.log((Granger_data['SentimentScore']+1)/(Granger_data['SentimentScore']+1).shift(1))"
   ]
  },
  {
   "cell_type": "code",
   "execution_count": 37,
   "metadata": {},
   "outputs": [
    {
     "data": {
      "text/html": [
       "<div>\n",
       "<style scoped>\n",
       "    .dataframe tbody tr th:only-of-type {\n",
       "        vertical-align: middle;\n",
       "    }\n",
       "\n",
       "    .dataframe tbody tr th {\n",
       "        vertical-align: top;\n",
       "    }\n",
       "\n",
       "    .dataframe thead th {\n",
       "        text-align: right;\n",
       "    }\n",
       "</style>\n",
       "<table border=\"1\" class=\"dataframe\">\n",
       "  <thead>\n",
       "    <tr style=\"text-align: right;\">\n",
       "      <th></th>\n",
       "      <th>High</th>\n",
       "      <th>Low</th>\n",
       "      <th>Open</th>\n",
       "      <th>Close</th>\n",
       "      <th>Volume</th>\n",
       "      <th>Adj Close</th>\n",
       "      <th>LogReturn</th>\n",
       "      <th>SentimentScore</th>\n",
       "      <th>PostID</th>\n",
       "      <th>SS_LogReturn</th>\n",
       "    </tr>\n",
       "  </thead>\n",
       "  <tbody>\n",
       "    <tr>\n",
       "      <th>2010-08</th>\n",
       "      <td>1120.949951</td>\n",
       "      <td>1010.909973</td>\n",
       "      <td>1031.099976</td>\n",
       "      <td>1101.599976</td>\n",
       "      <td>94778110000</td>\n",
       "      <td>1101.599976</td>\n",
       "      <td>0.066516</td>\n",
       "      <td>0.017401</td>\n",
       "      <td>24</td>\n",
       "      <td>NaN</td>\n",
       "    </tr>\n",
       "    <tr>\n",
       "      <th>2010-09</th>\n",
       "      <td>1129.239990</td>\n",
       "      <td>1039.699951</td>\n",
       "      <td>1107.530029</td>\n",
       "      <td>1049.329956</td>\n",
       "      <td>85738250000</td>\n",
       "      <td>1049.329956</td>\n",
       "      <td>-0.048612</td>\n",
       "      <td>0.004972</td>\n",
       "      <td>61</td>\n",
       "      <td>-0.012292</td>\n",
       "    </tr>\n",
       "    <tr>\n",
       "      <th>2010-10</th>\n",
       "      <td>1157.160034</td>\n",
       "      <td>1049.719971</td>\n",
       "      <td>1049.719971</td>\n",
       "      <td>1141.199951</td>\n",
       "      <td>79589450000</td>\n",
       "      <td>1141.199951</td>\n",
       "      <td>0.083928</td>\n",
       "      <td>0.008330</td>\n",
       "      <td>72</td>\n",
       "      <td>0.003336</td>\n",
       "    </tr>\n",
       "    <tr>\n",
       "      <th>2010-11</th>\n",
       "      <td>1196.140015</td>\n",
       "      <td>1131.869995</td>\n",
       "      <td>1143.489990</td>\n",
       "      <td>1183.260010</td>\n",
       "      <td>89536270000</td>\n",
       "      <td>1183.260010</td>\n",
       "      <td>0.036193</td>\n",
       "      <td>0.027577</td>\n",
       "      <td>66</td>\n",
       "      <td>0.018908</td>\n",
       "    </tr>\n",
       "    <tr>\n",
       "      <th>2010-12</th>\n",
       "      <td>1227.079956</td>\n",
       "      <td>1173.000000</td>\n",
       "      <td>1185.709961</td>\n",
       "      <td>1180.550049</td>\n",
       "      <td>87151070000</td>\n",
       "      <td>1180.550049</td>\n",
       "      <td>-0.002293</td>\n",
       "      <td>0.008981</td>\n",
       "      <td>55</td>\n",
       "      <td>-0.018262</td>\n",
       "    </tr>\n",
       "    <tr>\n",
       "      <th>...</th>\n",
       "      <td>...</td>\n",
       "      <td>...</td>\n",
       "      <td>...</td>\n",
       "      <td>...</td>\n",
       "      <td>...</td>\n",
       "      <td>...</td>\n",
       "      <td>...</td>\n",
       "      <td>...</td>\n",
       "      <td>...</td>\n",
       "      <td>...</td>\n",
       "    </tr>\n",
       "    <tr>\n",
       "      <th>2021-01</th>\n",
       "      <td>3760.199951</td>\n",
       "      <td>3633.399902</td>\n",
       "      <td>3645.870117</td>\n",
       "      <td>3756.070068</td>\n",
       "      <td>96056410000</td>\n",
       "      <td>3756.070068</td>\n",
       "      <td>0.036449</td>\n",
       "      <td>0.055216</td>\n",
       "      <td>5</td>\n",
       "      <td>0.045268</td>\n",
       "    </tr>\n",
       "    <tr>\n",
       "      <th>2021-02</th>\n",
       "      <td>3870.899902</td>\n",
       "      <td>3662.709961</td>\n",
       "      <td>3764.610107</td>\n",
       "      <td>3714.239990</td>\n",
       "      <td>105548790000</td>\n",
       "      <td>3714.239990</td>\n",
       "      <td>-0.011199</td>\n",
       "      <td>0.002961</td>\n",
       "      <td>243</td>\n",
       "      <td>-0.050789</td>\n",
       "    </tr>\n",
       "    <tr>\n",
       "      <th>2021-03</th>\n",
       "      <td>3950.429932</td>\n",
       "      <td>3725.620117</td>\n",
       "      <td>3731.169922</td>\n",
       "      <td>3811.149902</td>\n",
       "      <td>98596960000</td>\n",
       "      <td>3811.149902</td>\n",
       "      <td>0.025757</td>\n",
       "      <td>0.005723</td>\n",
       "      <td>596</td>\n",
       "      <td>0.002751</td>\n",
       "    </tr>\n",
       "    <tr>\n",
       "      <th>2021-04</th>\n",
       "      <td>3994.409912</td>\n",
       "      <td>3723.340088</td>\n",
       "      <td>3842.510010</td>\n",
       "      <td>3972.889893</td>\n",
       "      <td>120863560000</td>\n",
       "      <td>3972.889893</td>\n",
       "      <td>0.041563</td>\n",
       "      <td>0.003002</td>\n",
       "      <td>525</td>\n",
       "      <td>-0.002709</td>\n",
       "    </tr>\n",
       "    <tr>\n",
       "      <th>2021-05</th>\n",
       "      <td>4218.779785</td>\n",
       "      <td>3992.780029</td>\n",
       "      <td>3992.780029</td>\n",
       "      <td>4181.169922</td>\n",
       "      <td>82869290000</td>\n",
       "      <td>4181.169922</td>\n",
       "      <td>0.051097</td>\n",
       "      <td>0.006557</td>\n",
       "      <td>646</td>\n",
       "      <td>0.003538</td>\n",
       "    </tr>\n",
       "  </tbody>\n",
       "</table>\n",
       "<p>112 rows × 10 columns</p>\n",
       "</div>"
      ],
      "text/plain": [
       "                High          Low         Open        Close        Volume  \\\n",
       "2010-08  1120.949951  1010.909973  1031.099976  1101.599976   94778110000   \n",
       "2010-09  1129.239990  1039.699951  1107.530029  1049.329956   85738250000   \n",
       "2010-10  1157.160034  1049.719971  1049.719971  1141.199951   79589450000   \n",
       "2010-11  1196.140015  1131.869995  1143.489990  1183.260010   89536270000   \n",
       "2010-12  1227.079956  1173.000000  1185.709961  1180.550049   87151070000   \n",
       "...              ...          ...          ...          ...           ...   \n",
       "2021-01  3760.199951  3633.399902  3645.870117  3756.070068   96056410000   \n",
       "2021-02  3870.899902  3662.709961  3764.610107  3714.239990  105548790000   \n",
       "2021-03  3950.429932  3725.620117  3731.169922  3811.149902   98596960000   \n",
       "2021-04  3994.409912  3723.340088  3842.510010  3972.889893  120863560000   \n",
       "2021-05  4218.779785  3992.780029  3992.780029  4181.169922   82869290000   \n",
       "\n",
       "           Adj Close  LogReturn  SentimentScore  PostID  SS_LogReturn  \n",
       "2010-08  1101.599976   0.066516        0.017401      24           NaN  \n",
       "2010-09  1049.329956  -0.048612        0.004972      61     -0.012292  \n",
       "2010-10  1141.199951   0.083928        0.008330      72      0.003336  \n",
       "2010-11  1183.260010   0.036193        0.027577      66      0.018908  \n",
       "2010-12  1180.550049  -0.002293        0.008981      55     -0.018262  \n",
       "...              ...        ...             ...     ...           ...  \n",
       "2021-01  3756.070068   0.036449        0.055216       5      0.045268  \n",
       "2021-02  3714.239990  -0.011199        0.002961     243     -0.050789  \n",
       "2021-03  3811.149902   0.025757        0.005723     596      0.002751  \n",
       "2021-04  3972.889893   0.041563        0.003002     525     -0.002709  \n",
       "2021-05  4181.169922   0.051097        0.006557     646      0.003538  \n",
       "\n",
       "[112 rows x 10 columns]"
      ]
     },
     "execution_count": 37,
     "metadata": {},
     "output_type": "execute_result"
    }
   ],
   "source": [
    "Granger_data"
   ]
  },
  {
   "cell_type": "code",
   "execution_count": 41,
   "metadata": {},
   "outputs": [
    {
     "name": "stdout",
     "output_type": "stream",
     "text": [
      "\n",
      "Granger Causality\n",
      "number of lags (no zero) 1\n",
      "ssr based F test:         F=6.4381  , p=0.0126  , df_denom=107, df_num=1\n",
      "ssr based chi2 test:   chi2=6.6186  , p=0.0101  , df=1\n",
      "likelihood ratio test: chi2=6.4271  , p=0.0112  , df=1\n",
      "parameter F test:         F=6.4381  , p=0.0126  , df_denom=107, df_num=1\n",
      "\n",
      "Granger Causality\n",
      "number of lags (no zero) 2\n",
      "ssr based F test:         F=4.2846  , p=0.0163  , df_denom=104, df_num=2\n",
      "ssr based chi2 test:   chi2=8.9812  , p=0.0112  , df=2\n",
      "likelihood ratio test: chi2=8.6303  , p=0.0134  , df=2\n",
      "parameter F test:         F=4.2846  , p=0.0163  , df_denom=104, df_num=2\n",
      "\n",
      "Granger Causality\n",
      "number of lags (no zero) 3\n",
      "ssr based F test:         F=1.7992  , p=0.1521  , df_denom=101, df_num=3\n",
      "ssr based chi2 test:   chi2=5.7718  , p=0.1233  , df=3\n",
      "likelihood ratio test: chi2=5.6229  , p=0.1315  , df=3\n",
      "parameter F test:         F=1.7992  , p=0.1521  , df_denom=101, df_num=3\n"
     ]
    }
   ],
   "source": [
    "gc_res = grangercausalitytests(Granger_data[[\"SS_LogReturn\",\"LogReturn\"]].dropna(),3)"
   ]
  },
  {
   "cell_type": "code",
   "execution_count": 40,
   "metadata": {},
   "outputs": [
    {
     "data": {
      "image/png": "[encoded data removed]",
      "text/plain": [
       "<Figure size 432x288 with 1 Axes>"
      ]
     },
     "metadata": {
      "needs_background": "light"
     },
     "output_type": "display_data"
    }
   ],
   "source": [
    "plt.plot(Granger_data[\"LogReturn\"], label = \"S&P\")\n",
    "plt.plot(Granger_data[\"SS_LogReturn\"], label = \"sentiment\")\n",
    "plt.show()"
   ]
  },
  {
   "cell_type": "code",
   "execution_count": 95,
   "metadata": {},
   "outputs": [
    {
     "data": {
      "image/png": "[encoded data removed]",
      "text/plain": [
       "<Figure size 432x288 with 1 Axes>"
      ]
     },
     "metadata": {
      "needs_background": "light"
     },
     "output_type": "display_data"
    }
   ],
   "source": [
    "plt.plot(Granger_data[\"SS_LogReturn\"], label = \"sentiment\")\n",
    "plt.show()"
   ]
  },
  {
   "cell_type": "code",
   "execution_count": null,
   "metadata": {},
   "outputs": [],
   "source": [
    "df_pi.to_csv('data_simple_index_v2/poisk_krizis_index_month.tsv', sep=\"\\t\", index=None)"
   ]
  }
 ],
 "metadata": {
  "kernelspec": {
   "display_name": "Python 3",
   "language": "python",
   "name": "python3"
  },
  "language_info": {
   "codemirror_mode": {
    "name": "ipython",
    "version": 3
   },
   "file_extension": ".py",
   "mimetype": "text/x-python",
   "name": "python",
   "nbconvert_exporter": "python",
   "pygments_lexer": "ipython3",
   "version": "3.7.6"
  }
 },
 "nbformat": 4,
 "nbformat_minor": 5
}
